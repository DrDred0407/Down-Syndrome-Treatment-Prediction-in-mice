{
  "cells": [
    {
      "cell_type": "markdown",
      "source": [
        "# **Objective: Learn various steps and due diligence needed to train successful classification models.**\n",
        "\n",
        "## **Background:** Some experiments were conducted on mice to see if a treatment of Down’s syndrome works or not. Mice were divided into control and diseased (genotype), treated or untreated and whether it shows a particular behavior or not (treatment_behavior). Readings for 77 proteins were recorded for the mice, but some of the readings were discarded if they seemed unreliable (out of range). Your job is to develop a pre-processing pipeline and a classifier, and also find out which subset of proteins is important in predicting which class."
      ],
      "metadata": {
        "id": "SFijbIfoxCwY"
      }
    },
    {
      "cell_type": "markdown",
      "metadata": {
        "id": "43LXIA9PwWYH"
      },
      "source": [
        "# **Importing all the Libraries** "
      ]
    },
    {
      "cell_type": "code",
      "execution_count": 1,
      "metadata": {
        "id": "ExGgYP4uw5Sv"
      },
      "outputs": [],
      "source": [
        "import numpy as np\n",
        "import pandas as pd\n",
        "import seaborn as sns\n",
        "import matplotlib.pyplot as plt\n",
        "import warnings\n",
        "warnings.filterwarnings('ignore')\n"
      ]
    },
    {
      "cell_type": "markdown",
      "metadata": {
        "id": "745dPJOyxQAp"
      },
      "source": [
        "# **Importing the Data and doing exploratory Data Analysis(EDA)**"
      ]
    },
    {
      "cell_type": "code",
      "execution_count": 2,
      "metadata": {
        "colab": {
          "base_uri": "https://localhost:8080/",
          "height": 299
        },
        "id": "LDI9lKRNxJLe",
        "outputId": "4f591ae6-01cd-473a-db99-0414e28d3f4f"
      },
      "outputs": [
        {
          "output_type": "execute_result",
          "data": {
            "text/plain": [
              "   DYRK1A_N   ITSN1_N    BDNF_N     NR1_N    NR2A_N    pAKT_N   pBRAF_N  \\\n",
              "0  0.503644  0.747193  0.430175  2.816329  5.990152  0.218830  0.177565   \n",
              "1  0.514617  0.689064  0.411770  2.789514  5.685038  0.211636  0.172817   \n",
              "2  0.509183  0.730247  0.418309  2.687201  5.622059  0.209011  0.175722   \n",
              "3  0.442107  0.617076  0.358626  2.466947  4.979503  0.222886  0.176463   \n",
              "4  0.434940  0.617430  0.358802  2.365785  4.718679  0.213106  0.173627   \n",
              "\n",
              "   pCAMKII_N   pCREB_N    pELK_N  ...  BCL2_N     pS6_N   pCFOS_N     SYP_N  \\\n",
              "0   2.373744  0.232224  1.750936  ...     NaN  0.106305  0.108336  0.427099   \n",
              "1   2.292150  0.226972  1.596377  ...     NaN  0.106592  0.104315  0.441581   \n",
              "2   2.283337  0.230247  1.561316  ...     NaN  0.108303  0.106219  0.435777   \n",
              "3   2.152301  0.207004  1.595086  ...     NaN  0.103184  0.111262  0.391691   \n",
              "4   2.134014  0.192158  1.504230  ...     NaN  0.104784  0.110694  0.434154   \n",
              "\n",
              "   H3AcK18_N    EGR1_N  H3MeK4_N    CaNA_N  Genotype  Treatment_Behavior  \n",
              "0   0.114783  0.131790  0.128186  1.675652   Control       Memantine_C/S  \n",
              "1   0.111974  0.135103  0.131119  1.743610   Control       Memantine_C/S  \n",
              "2   0.111883  0.133362  0.127431  1.926427   Control       Memantine_C/S  \n",
              "3   0.130405  0.147444  0.146901  1.700563   Control       Memantine_C/S  \n",
              "4   0.118481  0.140314  0.148380  1.839730   Control       Memantine_C/S  \n",
              "\n",
              "[5 rows x 79 columns]"
            ],
            "text/html": [
              "\n",
              "  <div id=\"df-b37b70d7-1a72-47ff-8630-f2b86d6d51de\">\n",
              "    <div class=\"colab-df-container\">\n",
              "      <div>\n",
              "<style scoped>\n",
              "    .dataframe tbody tr th:only-of-type {\n",
              "        vertical-align: middle;\n",
              "    }\n",
              "\n",
              "    .dataframe tbody tr th {\n",
              "        vertical-align: top;\n",
              "    }\n",
              "\n",
              "    .dataframe thead th {\n",
              "        text-align: right;\n",
              "    }\n",
              "</style>\n",
              "<table border=\"1\" class=\"dataframe\">\n",
              "  <thead>\n",
              "    <tr style=\"text-align: right;\">\n",
              "      <th></th>\n",
              "      <th>DYRK1A_N</th>\n",
              "      <th>ITSN1_N</th>\n",
              "      <th>BDNF_N</th>\n",
              "      <th>NR1_N</th>\n",
              "      <th>NR2A_N</th>\n",
              "      <th>pAKT_N</th>\n",
              "      <th>pBRAF_N</th>\n",
              "      <th>pCAMKII_N</th>\n",
              "      <th>pCREB_N</th>\n",
              "      <th>pELK_N</th>\n",
              "      <th>...</th>\n",
              "      <th>BCL2_N</th>\n",
              "      <th>pS6_N</th>\n",
              "      <th>pCFOS_N</th>\n",
              "      <th>SYP_N</th>\n",
              "      <th>H3AcK18_N</th>\n",
              "      <th>EGR1_N</th>\n",
              "      <th>H3MeK4_N</th>\n",
              "      <th>CaNA_N</th>\n",
              "      <th>Genotype</th>\n",
              "      <th>Treatment_Behavior</th>\n",
              "    </tr>\n",
              "  </thead>\n",
              "  <tbody>\n",
              "    <tr>\n",
              "      <th>0</th>\n",
              "      <td>0.503644</td>\n",
              "      <td>0.747193</td>\n",
              "      <td>0.430175</td>\n",
              "      <td>2.816329</td>\n",
              "      <td>5.990152</td>\n",
              "      <td>0.218830</td>\n",
              "      <td>0.177565</td>\n",
              "      <td>2.373744</td>\n",
              "      <td>0.232224</td>\n",
              "      <td>1.750936</td>\n",
              "      <td>...</td>\n",
              "      <td>NaN</td>\n",
              "      <td>0.106305</td>\n",
              "      <td>0.108336</td>\n",
              "      <td>0.427099</td>\n",
              "      <td>0.114783</td>\n",
              "      <td>0.131790</td>\n",
              "      <td>0.128186</td>\n",
              "      <td>1.675652</td>\n",
              "      <td>Control</td>\n",
              "      <td>Memantine_C/S</td>\n",
              "    </tr>\n",
              "    <tr>\n",
              "      <th>1</th>\n",
              "      <td>0.514617</td>\n",
              "      <td>0.689064</td>\n",
              "      <td>0.411770</td>\n",
              "      <td>2.789514</td>\n",
              "      <td>5.685038</td>\n",
              "      <td>0.211636</td>\n",
              "      <td>0.172817</td>\n",
              "      <td>2.292150</td>\n",
              "      <td>0.226972</td>\n",
              "      <td>1.596377</td>\n",
              "      <td>...</td>\n",
              "      <td>NaN</td>\n",
              "      <td>0.106592</td>\n",
              "      <td>0.104315</td>\n",
              "      <td>0.441581</td>\n",
              "      <td>0.111974</td>\n",
              "      <td>0.135103</td>\n",
              "      <td>0.131119</td>\n",
              "      <td>1.743610</td>\n",
              "      <td>Control</td>\n",
              "      <td>Memantine_C/S</td>\n",
              "    </tr>\n",
              "    <tr>\n",
              "      <th>2</th>\n",
              "      <td>0.509183</td>\n",
              "      <td>0.730247</td>\n",
              "      <td>0.418309</td>\n",
              "      <td>2.687201</td>\n",
              "      <td>5.622059</td>\n",
              "      <td>0.209011</td>\n",
              "      <td>0.175722</td>\n",
              "      <td>2.283337</td>\n",
              "      <td>0.230247</td>\n",
              "      <td>1.561316</td>\n",
              "      <td>...</td>\n",
              "      <td>NaN</td>\n",
              "      <td>0.108303</td>\n",
              "      <td>0.106219</td>\n",
              "      <td>0.435777</td>\n",
              "      <td>0.111883</td>\n",
              "      <td>0.133362</td>\n",
              "      <td>0.127431</td>\n",
              "      <td>1.926427</td>\n",
              "      <td>Control</td>\n",
              "      <td>Memantine_C/S</td>\n",
              "    </tr>\n",
              "    <tr>\n",
              "      <th>3</th>\n",
              "      <td>0.442107</td>\n",
              "      <td>0.617076</td>\n",
              "      <td>0.358626</td>\n",
              "      <td>2.466947</td>\n",
              "      <td>4.979503</td>\n",
              "      <td>0.222886</td>\n",
              "      <td>0.176463</td>\n",
              "      <td>2.152301</td>\n",
              "      <td>0.207004</td>\n",
              "      <td>1.595086</td>\n",
              "      <td>...</td>\n",
              "      <td>NaN</td>\n",
              "      <td>0.103184</td>\n",
              "      <td>0.111262</td>\n",
              "      <td>0.391691</td>\n",
              "      <td>0.130405</td>\n",
              "      <td>0.147444</td>\n",
              "      <td>0.146901</td>\n",
              "      <td>1.700563</td>\n",
              "      <td>Control</td>\n",
              "      <td>Memantine_C/S</td>\n",
              "    </tr>\n",
              "    <tr>\n",
              "      <th>4</th>\n",
              "      <td>0.434940</td>\n",
              "      <td>0.617430</td>\n",
              "      <td>0.358802</td>\n",
              "      <td>2.365785</td>\n",
              "      <td>4.718679</td>\n",
              "      <td>0.213106</td>\n",
              "      <td>0.173627</td>\n",
              "      <td>2.134014</td>\n",
              "      <td>0.192158</td>\n",
              "      <td>1.504230</td>\n",
              "      <td>...</td>\n",
              "      <td>NaN</td>\n",
              "      <td>0.104784</td>\n",
              "      <td>0.110694</td>\n",
              "      <td>0.434154</td>\n",
              "      <td>0.118481</td>\n",
              "      <td>0.140314</td>\n",
              "      <td>0.148380</td>\n",
              "      <td>1.839730</td>\n",
              "      <td>Control</td>\n",
              "      <td>Memantine_C/S</td>\n",
              "    </tr>\n",
              "  </tbody>\n",
              "</table>\n",
              "<p>5 rows × 79 columns</p>\n",
              "</div>\n",
              "      <button class=\"colab-df-convert\" onclick=\"convertToInteractive('df-b37b70d7-1a72-47ff-8630-f2b86d6d51de')\"\n",
              "              title=\"Convert this dataframe to an interactive table.\"\n",
              "              style=\"display:none;\">\n",
              "        \n",
              "  <svg xmlns=\"http://www.w3.org/2000/svg\" height=\"24px\"viewBox=\"0 0 24 24\"\n",
              "       width=\"24px\">\n",
              "    <path d=\"M0 0h24v24H0V0z\" fill=\"none\"/>\n",
              "    <path d=\"M18.56 5.44l.94 2.06.94-2.06 2.06-.94-2.06-.94-.94-2.06-.94 2.06-2.06.94zm-11 1L8.5 8.5l.94-2.06 2.06-.94-2.06-.94L8.5 2.5l-.94 2.06-2.06.94zm10 10l.94 2.06.94-2.06 2.06-.94-2.06-.94-.94-2.06-.94 2.06-2.06.94z\"/><path d=\"M17.41 7.96l-1.37-1.37c-.4-.4-.92-.59-1.43-.59-.52 0-1.04.2-1.43.59L10.3 9.45l-7.72 7.72c-.78.78-.78 2.05 0 2.83L4 21.41c.39.39.9.59 1.41.59.51 0 1.02-.2 1.41-.59l7.78-7.78 2.81-2.81c.8-.78.8-2.07 0-2.86zM5.41 20L4 18.59l7.72-7.72 1.47 1.35L5.41 20z\"/>\n",
              "  </svg>\n",
              "      </button>\n",
              "      \n",
              "  <style>\n",
              "    .colab-df-container {\n",
              "      display:flex;\n",
              "      flex-wrap:wrap;\n",
              "      gap: 12px;\n",
              "    }\n",
              "\n",
              "    .colab-df-convert {\n",
              "      background-color: #E8F0FE;\n",
              "      border: none;\n",
              "      border-radius: 50%;\n",
              "      cursor: pointer;\n",
              "      display: none;\n",
              "      fill: #1967D2;\n",
              "      height: 32px;\n",
              "      padding: 0 0 0 0;\n",
              "      width: 32px;\n",
              "    }\n",
              "\n",
              "    .colab-df-convert:hover {\n",
              "      background-color: #E2EBFA;\n",
              "      box-shadow: 0px 1px 2px rgba(60, 64, 67, 0.3), 0px 1px 3px 1px rgba(60, 64, 67, 0.15);\n",
              "      fill: #174EA6;\n",
              "    }\n",
              "\n",
              "    [theme=dark] .colab-df-convert {\n",
              "      background-color: #3B4455;\n",
              "      fill: #D2E3FC;\n",
              "    }\n",
              "\n",
              "    [theme=dark] .colab-df-convert:hover {\n",
              "      background-color: #434B5C;\n",
              "      box-shadow: 0px 1px 3px 1px rgba(0, 0, 0, 0.15);\n",
              "      filter: drop-shadow(0px 1px 2px rgba(0, 0, 0, 0.3));\n",
              "      fill: #FFFFFF;\n",
              "    }\n",
              "  </style>\n",
              "\n",
              "      <script>\n",
              "        const buttonEl =\n",
              "          document.querySelector('#df-b37b70d7-1a72-47ff-8630-f2b86d6d51de button.colab-df-convert');\n",
              "        buttonEl.style.display =\n",
              "          google.colab.kernel.accessAllowed ? 'block' : 'none';\n",
              "\n",
              "        async function convertToInteractive(key) {\n",
              "          const element = document.querySelector('#df-b37b70d7-1a72-47ff-8630-f2b86d6d51de');\n",
              "          const dataTable =\n",
              "            await google.colab.kernel.invokeFunction('convertToInteractive',\n",
              "                                                     [key], {});\n",
              "          if (!dataTable) return;\n",
              "\n",
              "          const docLinkHtml = 'Like what you see? Visit the ' +\n",
              "            '<a target=\"_blank\" href=https://colab.research.google.com/notebooks/data_table.ipynb>data table notebook</a>'\n",
              "            + ' to learn more about interactive tables.';\n",
              "          element.innerHTML = '';\n",
              "          dataTable['output_type'] = 'display_data';\n",
              "          await google.colab.output.renderOutput(dataTable, element);\n",
              "          const docLink = document.createElement('div');\n",
              "          docLink.innerHTML = docLinkHtml;\n",
              "          element.appendChild(docLink);\n",
              "        }\n",
              "      </script>\n",
              "    </div>\n",
              "  </div>\n",
              "  "
            ]
          },
          "metadata": {},
          "execution_count": 2
        }
      ],
      "source": [
        "data = pd.read_csv(\"https://www.ee.iitb.ac.in/~asethi/Dump/MouseTrain.csv\")\n",
        "data.head()"
      ]
    },
    {
      "cell_type": "code",
      "execution_count": 3,
      "metadata": {
        "colab": {
          "base_uri": "https://localhost:8080/"
        },
        "id": "zxEctm-Jxe07",
        "outputId": "5736efd9-8364-4884-b5c5-903472d91fa5"
      },
      "outputs": [
        {
          "output_type": "stream",
          "name": "stdout",
          "text": [
            "<class 'pandas.core.frame.DataFrame'>\n",
            "RangeIndex: 762 entries, 0 to 761\n",
            "Data columns (total 79 columns):\n",
            " #   Column              Non-Null Count  Dtype  \n",
            "---  ------              --------------  -----  \n",
            " 0   DYRK1A_N            762 non-null    float64\n",
            " 1   ITSN1_N             762 non-null    float64\n",
            " 2   BDNF_N              762 non-null    float64\n",
            " 3   NR1_N               762 non-null    float64\n",
            " 4   NR2A_N              762 non-null    float64\n",
            " 5   pAKT_N              762 non-null    float64\n",
            " 6   pBRAF_N             762 non-null    float64\n",
            " 7   pCAMKII_N           762 non-null    float64\n",
            " 8   pCREB_N             762 non-null    float64\n",
            " 9   pELK_N              762 non-null    float64\n",
            " 10  pERK_N              762 non-null    float64\n",
            " 11  pJNK_N              762 non-null    float64\n",
            " 12  PKCA_N              762 non-null    float64\n",
            " 13  pMEK_N              762 non-null    float64\n",
            " 14  pNR1_N              762 non-null    float64\n",
            " 15  pNR2A_N             762 non-null    float64\n",
            " 16  pNR2B_N             762 non-null    float64\n",
            " 17  pPKCAB_N            762 non-null    float64\n",
            " 18  pRSK_N              762 non-null    float64\n",
            " 19  AKT_N               762 non-null    float64\n",
            " 20  BRAF_N              762 non-null    float64\n",
            " 21  CAMKII_N            762 non-null    float64\n",
            " 22  CREB_N              762 non-null    float64\n",
            " 23  ELK_N               747 non-null    float64\n",
            " 24  ERK_N               762 non-null    float64\n",
            " 25  GSK3B_N             762 non-null    float64\n",
            " 26  JNK_N               762 non-null    float64\n",
            " 27  MEK_N               758 non-null    float64\n",
            " 28  TRKA_N              762 non-null    float64\n",
            " 29  RSK_N               762 non-null    float64\n",
            " 30  APP_N               762 non-null    float64\n",
            " 31  Bcatenin_N          747 non-null    float64\n",
            " 32  SOD1_N              762 non-null    float64\n",
            " 33  MTOR_N              762 non-null    float64\n",
            " 34  P38_N               762 non-null    float64\n",
            " 35  pMTOR_N             762 non-null    float64\n",
            " 36  DSCR1_N             762 non-null    float64\n",
            " 37  AMPKA_N             762 non-null    float64\n",
            " 38  NR2B_N              762 non-null    float64\n",
            " 39  pNUMB_N             762 non-null    float64\n",
            " 40  RAPTOR_N            762 non-null    float64\n",
            " 41  TIAM1_N             762 non-null    float64\n",
            " 42  pP70S6_N            762 non-null    float64\n",
            " 43  NUMB_N              762 non-null    float64\n",
            " 44  P70S6_N             762 non-null    float64\n",
            " 45  pGSK3B_N            762 non-null    float64\n",
            " 46  pPKCG_N             762 non-null    float64\n",
            " 47  CDK5_N              762 non-null    float64\n",
            " 48  S6_N                762 non-null    float64\n",
            " 49  ADARB1_N            762 non-null    float64\n",
            " 50  AcetylH3K9_N        762 non-null    float64\n",
            " 51  RRP1_N              762 non-null    float64\n",
            " 52  BAX_N               762 non-null    float64\n",
            " 53  ARC_N               762 non-null    float64\n",
            " 54  ERBB4_N             762 non-null    float64\n",
            " 55  nNOS_N              762 non-null    float64\n",
            " 56  Tau_N               762 non-null    float64\n",
            " 57  GFAP_N              762 non-null    float64\n",
            " 58  GluR3_N             762 non-null    float64\n",
            " 59  GluR4_N             762 non-null    float64\n",
            " 60  IL1B_N              762 non-null    float64\n",
            " 61  P3525_N             762 non-null    float64\n",
            " 62  pCASP9_N            762 non-null    float64\n",
            " 63  PSD95_N             762 non-null    float64\n",
            " 64  SNCA_N              762 non-null    float64\n",
            " 65  Ubiquitin_N         762 non-null    float64\n",
            " 66  pGSK3B_Tyr216_N     762 non-null    float64\n",
            " 67  SHH_N               762 non-null    float64\n",
            " 68  BAD_N               582 non-null    float64\n",
            " 69  BCL2_N              567 non-null    float64\n",
            " 70  pS6_N               762 non-null    float64\n",
            " 71  pCFOS_N             702 non-null    float64\n",
            " 72  SYP_N               762 non-null    float64\n",
            " 73  H3AcK18_N           612 non-null    float64\n",
            " 74  EGR1_N              582 non-null    float64\n",
            " 75  H3MeK4_N            582 non-null    float64\n",
            " 76  CaNA_N              762 non-null    float64\n",
            " 77  Genotype            762 non-null    object \n",
            " 78  Treatment_Behavior  762 non-null    object \n",
            "dtypes: float64(77), object(2)\n",
            "memory usage: 470.4+ KB\n"
          ]
        }
      ],
      "source": [
        "data.info()\n",
        "# this gives the us the no. of rows and columns and also their Non-Null count"
      ]
    },
    {
      "cell_type": "markdown",
      "metadata": {
        "id": "CYZARH3u3ec0"
      },
      "source": [
        "# **Dividing the Data into :**\n",
        "1. Independent Variables - **x**\n",
        "2. Dependent Variables - **y1** and **y2**"
      ]
    },
    {
      "cell_type": "code",
      "execution_count": 4,
      "metadata": {
        "id": "7w7kqCL92oY2"
      },
      "outputs": [],
      "source": [
        "# Independent variables\n",
        "x = data.iloc[:,:-2]\n",
        "# Genotype\n",
        "y1 = data.iloc[:,-2]\n",
        "# Treatment_Behavior\n",
        "y2 = data.iloc[:,-1]"
      ]
    },
    {
      "cell_type": "markdown",
      "metadata": {
        "id": "IsOFKOryVoi_"
      },
      "source": [
        "**Since we have binary and multiple values type Dependent variable we will have to encode them using** "
      ]
    },
    {
      "cell_type": "code",
      "execution_count": 5,
      "metadata": {
        "id": "IL5TFGf4VnY4"
      },
      "outputs": [],
      "source": [
        "from sklearn.preprocessing import LabelEncoder\n",
        "lab_enc = LabelEncoder()\n",
        "# lab_enc = LabelEncoder.fit(x)\n",
        "y1_new = lab_enc.fit_transform(y1)\n",
        "y2_new = lab_enc.fit_transform(y2)"
      ]
    },
    {
      "cell_type": "code",
      "execution_count": 6,
      "metadata": {
        "id": "3gEsBocynJlO"
      },
      "outputs": [],
      "source": [
        "# In order to keep y1_new and y2_new to be used for various function we will convert them back to the DataFrame form.\n",
        "y1_new = pd.DataFrame(y1_new)\n",
        "y2_new = pd.DataFrame(y2_new)"
      ]
    },
    {
      "cell_type": "markdown",
      "metadata": {
        "id": "UeVkvqYr4tpz"
      },
      "source": [
        "# **3. Develop a strategy to deal with missing variables.**\n",
        "###     **We are using the multivariate feature imputation to deal with the missing**  \n",
        "###    **data.**"
      ]
    },
    {
      "cell_type": "code",
      "execution_count": 7,
      "metadata": {
        "colab": {
          "base_uri": "https://localhost:8080/"
        },
        "id": "-8l00iev4XFS",
        "outputId": "d7ad78a8-59c8-4f28-96bb-b4528b0911e2"
      },
      "outputs": [
        {
          "output_type": "execute_result",
          "data": {
            "text/plain": [
              "array([[0.50364388, 0.74719322, 0.4301753 , ..., 0.13179003, 0.1281856 ,\n",
              "        1.67565235],\n",
              "       [0.51461708, 0.68906355, 0.41177034, ..., 0.13510297, 0.1311187 ,\n",
              "        1.74360965],\n",
              "       [0.50918309, 0.7302468 , 0.41830878, ..., 0.13336183, 0.12743108,\n",
              "        1.92642659],\n",
              "       ...,\n",
              "       [0.38218182, 0.58654545, 0.31854545, ..., 0.16364894, 0.19121209,\n",
              "        1.43351401],\n",
              "       [0.3656217 , 0.57220852, 0.29799225, ..., 0.1406397 , 0.21389934,\n",
              "        1.54327375],\n",
              "       [0.36560487, 0.59949893, 0.30153901, ..., 0.16626766, 0.2061288 ,\n",
              "        1.52011013]])"
            ]
          },
          "metadata": {},
          "execution_count": 7
        }
      ],
      "source": [
        "from sklearn.experimental import enable_iterative_imputer\n",
        "from sklearn.impute import IterativeImputer\n",
        "imp = IterativeImputer(max_iter=10, random_state=0)\n",
        "imp = imp.fit(x)\n",
        "x1 = imp.transform(pd.DataFrame(x))\n",
        "x1"
      ]
    },
    {
      "cell_type": "code",
      "execution_count": 8,
      "metadata": {
        "id": "rStaZHJ4C6bG"
      },
      "outputs": [],
      "source": [
        "col_lst = []\n",
        "for col in x.columns.values:\n",
        "  col_lst.append(col)"
      ]
    },
    {
      "cell_type": "code",
      "execution_count": 9,
      "metadata": {
        "colab": {
          "base_uri": "https://localhost:8080/",
          "height": 488
        },
        "id": "Hbfh95SE1cj2",
        "outputId": "f4a74127-1a5e-4481-86ee-cc5a95b230cf"
      },
      "outputs": [
        {
          "output_type": "execute_result",
          "data": {
            "text/plain": [
              "     DYRK1A_N   ITSN1_N    BDNF_N     NR1_N    NR2A_N    pAKT_N   pBRAF_N  \\\n",
              "0    0.239745  0.428489  2.372452  1.471921  2.269552 -0.351734 -0.186528   \n",
              "1    0.279648  0.216934  1.976690  1.393675  1.940975 -0.533878 -0.365510   \n",
              "2    0.259888  0.366815  2.117287  1.095124  1.873152 -0.600347 -0.256006   \n",
              "3    0.015969 -0.045054  0.833934  0.452418  1.181185 -0.249043 -0.228099   \n",
              "4   -0.010091 -0.043766  0.837716  0.157224  0.900303 -0.496664 -0.334981   \n",
              "..        ...       ...       ...       ...       ...       ...       ...   \n",
              "757 -0.158354 -0.020962 -0.070527 -0.606540 -0.611634  0.045756  0.683866   \n",
              "758 -0.130826  0.109601  0.042935 -0.373432 -0.507093  0.096829  0.313293   \n",
              "759 -0.201944 -0.156166 -0.027925 -0.700047 -0.871242  0.681455  0.761884   \n",
              "760 -0.262164 -0.208343 -0.469880 -0.895755 -1.183635  0.319300  0.296632   \n",
              "761 -0.262225 -0.109023 -0.393614 -0.726855 -1.001611  0.401220  0.614567   \n",
              "\n",
              "     pCAMKII_N   pCREB_N    pELK_N  ...     SHH_N     BAD_N    BCL2_N  \\\n",
              "0    -0.898820  0.648744  0.595213  ... -1.269701 -1.192868 -1.026373   \n",
              "1    -0.963191  0.479587  0.292333  ... -0.878703 -1.384700 -0.976669   \n",
              "2    -0.970144  0.585066  0.223626  ... -1.106122 -1.326024 -0.991436   \n",
              "3    -1.073520 -0.163587  0.289803  ... -1.159352 -0.867383 -0.676364   \n",
              "4    -1.087947 -0.641792  0.111757  ... -0.702678 -0.958228 -0.687094   \n",
              "..         ...       ...       ...  ...       ...       ...       ...   \n",
              "757  -0.240028  0.313292 -0.447289  ... -0.346465 -0.109373 -0.916630   \n",
              "758  -0.101537  0.638293 -0.385489  ... -0.563470 -0.210474 -0.934907   \n",
              "759  -0.399737  0.366285 -0.388938  ... -0.510605  0.213444 -0.182602   \n",
              "760  -0.445606  0.174685 -0.528465  ... -0.979130 -0.036733 -0.075136   \n",
              "761  -0.349979  0.471977 -0.444307  ... -0.024514  0.408668 -0.617639   \n",
              "\n",
              "        pS6_N   pCFOS_N     SYP_N  H3AcK18_N    EGR1_N  H3MeK4_N    CaNA_N  \n",
              "0   -1.058433 -0.901764 -0.371984  -0.727673 -1.248514 -1.441819  0.943046  \n",
              "1   -1.039198 -1.072989 -0.139388  -0.761256 -1.178310 -1.390064  1.144768  \n",
              "2   -0.924510 -0.991907 -0.232612  -0.762340 -1.215206 -1.455133  1.687436  \n",
              "3   -1.267675 -0.777146 -0.940673  -0.540947 -0.916792 -1.111582  1.016991  \n",
              "4   -1.160421 -0.801338 -0.258680  -0.683469 -1.067879 -1.085488  1.430089  \n",
              "..        ...       ...       ...        ...       ...       ...       ...  \n",
              "757 -0.178772 -0.593806 -0.145392  -0.324987 -0.943333 -0.339080  0.345848  \n",
              "758 -0.269046 -0.875867 -0.085877  -0.269247 -0.866914 -0.210920  0.470936  \n",
              "759 -0.399556 -0.633493 -0.441216  -0.325553 -0.573401 -0.329708  0.224291  \n",
              "760 -0.096908 -0.377361  0.154848  -0.344125 -1.060983  0.070612  0.550098  \n",
              "761 -0.023910 -0.810193 -0.418099  -0.023587 -0.517909 -0.066500  0.481340  \n",
              "\n",
              "[762 rows x 77 columns]"
            ],
            "text/html": [
              "\n",
              "  <div id=\"df-69be8e87-d29b-4877-b325-8e65688f8a3e\">\n",
              "    <div class=\"colab-df-container\">\n",
              "      <div>\n",
              "<style scoped>\n",
              "    .dataframe tbody tr th:only-of-type {\n",
              "        vertical-align: middle;\n",
              "    }\n",
              "\n",
              "    .dataframe tbody tr th {\n",
              "        vertical-align: top;\n",
              "    }\n",
              "\n",
              "    .dataframe thead th {\n",
              "        text-align: right;\n",
              "    }\n",
              "</style>\n",
              "<table border=\"1\" class=\"dataframe\">\n",
              "  <thead>\n",
              "    <tr style=\"text-align: right;\">\n",
              "      <th></th>\n",
              "      <th>DYRK1A_N</th>\n",
              "      <th>ITSN1_N</th>\n",
              "      <th>BDNF_N</th>\n",
              "      <th>NR1_N</th>\n",
              "      <th>NR2A_N</th>\n",
              "      <th>pAKT_N</th>\n",
              "      <th>pBRAF_N</th>\n",
              "      <th>pCAMKII_N</th>\n",
              "      <th>pCREB_N</th>\n",
              "      <th>pELK_N</th>\n",
              "      <th>...</th>\n",
              "      <th>SHH_N</th>\n",
              "      <th>BAD_N</th>\n",
              "      <th>BCL2_N</th>\n",
              "      <th>pS6_N</th>\n",
              "      <th>pCFOS_N</th>\n",
              "      <th>SYP_N</th>\n",
              "      <th>H3AcK18_N</th>\n",
              "      <th>EGR1_N</th>\n",
              "      <th>H3MeK4_N</th>\n",
              "      <th>CaNA_N</th>\n",
              "    </tr>\n",
              "  </thead>\n",
              "  <tbody>\n",
              "    <tr>\n",
              "      <th>0</th>\n",
              "      <td>0.239745</td>\n",
              "      <td>0.428489</td>\n",
              "      <td>2.372452</td>\n",
              "      <td>1.471921</td>\n",
              "      <td>2.269552</td>\n",
              "      <td>-0.351734</td>\n",
              "      <td>-0.186528</td>\n",
              "      <td>-0.898820</td>\n",
              "      <td>0.648744</td>\n",
              "      <td>0.595213</td>\n",
              "      <td>...</td>\n",
              "      <td>-1.269701</td>\n",
              "      <td>-1.192868</td>\n",
              "      <td>-1.026373</td>\n",
              "      <td>-1.058433</td>\n",
              "      <td>-0.901764</td>\n",
              "      <td>-0.371984</td>\n",
              "      <td>-0.727673</td>\n",
              "      <td>-1.248514</td>\n",
              "      <td>-1.441819</td>\n",
              "      <td>0.943046</td>\n",
              "    </tr>\n",
              "    <tr>\n",
              "      <th>1</th>\n",
              "      <td>0.279648</td>\n",
              "      <td>0.216934</td>\n",
              "      <td>1.976690</td>\n",
              "      <td>1.393675</td>\n",
              "      <td>1.940975</td>\n",
              "      <td>-0.533878</td>\n",
              "      <td>-0.365510</td>\n",
              "      <td>-0.963191</td>\n",
              "      <td>0.479587</td>\n",
              "      <td>0.292333</td>\n",
              "      <td>...</td>\n",
              "      <td>-0.878703</td>\n",
              "      <td>-1.384700</td>\n",
              "      <td>-0.976669</td>\n",
              "      <td>-1.039198</td>\n",
              "      <td>-1.072989</td>\n",
              "      <td>-0.139388</td>\n",
              "      <td>-0.761256</td>\n",
              "      <td>-1.178310</td>\n",
              "      <td>-1.390064</td>\n",
              "      <td>1.144768</td>\n",
              "    </tr>\n",
              "    <tr>\n",
              "      <th>2</th>\n",
              "      <td>0.259888</td>\n",
              "      <td>0.366815</td>\n",
              "      <td>2.117287</td>\n",
              "      <td>1.095124</td>\n",
              "      <td>1.873152</td>\n",
              "      <td>-0.600347</td>\n",
              "      <td>-0.256006</td>\n",
              "      <td>-0.970144</td>\n",
              "      <td>0.585066</td>\n",
              "      <td>0.223626</td>\n",
              "      <td>...</td>\n",
              "      <td>-1.106122</td>\n",
              "      <td>-1.326024</td>\n",
              "      <td>-0.991436</td>\n",
              "      <td>-0.924510</td>\n",
              "      <td>-0.991907</td>\n",
              "      <td>-0.232612</td>\n",
              "      <td>-0.762340</td>\n",
              "      <td>-1.215206</td>\n",
              "      <td>-1.455133</td>\n",
              "      <td>1.687436</td>\n",
              "    </tr>\n",
              "    <tr>\n",
              "      <th>3</th>\n",
              "      <td>0.015969</td>\n",
              "      <td>-0.045054</td>\n",
              "      <td>0.833934</td>\n",
              "      <td>0.452418</td>\n",
              "      <td>1.181185</td>\n",
              "      <td>-0.249043</td>\n",
              "      <td>-0.228099</td>\n",
              "      <td>-1.073520</td>\n",
              "      <td>-0.163587</td>\n",
              "      <td>0.289803</td>\n",
              "      <td>...</td>\n",
              "      <td>-1.159352</td>\n",
              "      <td>-0.867383</td>\n",
              "      <td>-0.676364</td>\n",
              "      <td>-1.267675</td>\n",
              "      <td>-0.777146</td>\n",
              "      <td>-0.940673</td>\n",
              "      <td>-0.540947</td>\n",
              "      <td>-0.916792</td>\n",
              "      <td>-1.111582</td>\n",
              "      <td>1.016991</td>\n",
              "    </tr>\n",
              "    <tr>\n",
              "      <th>4</th>\n",
              "      <td>-0.010091</td>\n",
              "      <td>-0.043766</td>\n",
              "      <td>0.837716</td>\n",
              "      <td>0.157224</td>\n",
              "      <td>0.900303</td>\n",
              "      <td>-0.496664</td>\n",
              "      <td>-0.334981</td>\n",
              "      <td>-1.087947</td>\n",
              "      <td>-0.641792</td>\n",
              "      <td>0.111757</td>\n",
              "      <td>...</td>\n",
              "      <td>-0.702678</td>\n",
              "      <td>-0.958228</td>\n",
              "      <td>-0.687094</td>\n",
              "      <td>-1.160421</td>\n",
              "      <td>-0.801338</td>\n",
              "      <td>-0.258680</td>\n",
              "      <td>-0.683469</td>\n",
              "      <td>-1.067879</td>\n",
              "      <td>-1.085488</td>\n",
              "      <td>1.430089</td>\n",
              "    </tr>\n",
              "    <tr>\n",
              "      <th>...</th>\n",
              "      <td>...</td>\n",
              "      <td>...</td>\n",
              "      <td>...</td>\n",
              "      <td>...</td>\n",
              "      <td>...</td>\n",
              "      <td>...</td>\n",
              "      <td>...</td>\n",
              "      <td>...</td>\n",
              "      <td>...</td>\n",
              "      <td>...</td>\n",
              "      <td>...</td>\n",
              "      <td>...</td>\n",
              "      <td>...</td>\n",
              "      <td>...</td>\n",
              "      <td>...</td>\n",
              "      <td>...</td>\n",
              "      <td>...</td>\n",
              "      <td>...</td>\n",
              "      <td>...</td>\n",
              "      <td>...</td>\n",
              "      <td>...</td>\n",
              "    </tr>\n",
              "    <tr>\n",
              "      <th>757</th>\n",
              "      <td>-0.158354</td>\n",
              "      <td>-0.020962</td>\n",
              "      <td>-0.070527</td>\n",
              "      <td>-0.606540</td>\n",
              "      <td>-0.611634</td>\n",
              "      <td>0.045756</td>\n",
              "      <td>0.683866</td>\n",
              "      <td>-0.240028</td>\n",
              "      <td>0.313292</td>\n",
              "      <td>-0.447289</td>\n",
              "      <td>...</td>\n",
              "      <td>-0.346465</td>\n",
              "      <td>-0.109373</td>\n",
              "      <td>-0.916630</td>\n",
              "      <td>-0.178772</td>\n",
              "      <td>-0.593806</td>\n",
              "      <td>-0.145392</td>\n",
              "      <td>-0.324987</td>\n",
              "      <td>-0.943333</td>\n",
              "      <td>-0.339080</td>\n",
              "      <td>0.345848</td>\n",
              "    </tr>\n",
              "    <tr>\n",
              "      <th>758</th>\n",
              "      <td>-0.130826</td>\n",
              "      <td>0.109601</td>\n",
              "      <td>0.042935</td>\n",
              "      <td>-0.373432</td>\n",
              "      <td>-0.507093</td>\n",
              "      <td>0.096829</td>\n",
              "      <td>0.313293</td>\n",
              "      <td>-0.101537</td>\n",
              "      <td>0.638293</td>\n",
              "      <td>-0.385489</td>\n",
              "      <td>...</td>\n",
              "      <td>-0.563470</td>\n",
              "      <td>-0.210474</td>\n",
              "      <td>-0.934907</td>\n",
              "      <td>-0.269046</td>\n",
              "      <td>-0.875867</td>\n",
              "      <td>-0.085877</td>\n",
              "      <td>-0.269247</td>\n",
              "      <td>-0.866914</td>\n",
              "      <td>-0.210920</td>\n",
              "      <td>0.470936</td>\n",
              "    </tr>\n",
              "    <tr>\n",
              "      <th>759</th>\n",
              "      <td>-0.201944</td>\n",
              "      <td>-0.156166</td>\n",
              "      <td>-0.027925</td>\n",
              "      <td>-0.700047</td>\n",
              "      <td>-0.871242</td>\n",
              "      <td>0.681455</td>\n",
              "      <td>0.761884</td>\n",
              "      <td>-0.399737</td>\n",
              "      <td>0.366285</td>\n",
              "      <td>-0.388938</td>\n",
              "      <td>...</td>\n",
              "      <td>-0.510605</td>\n",
              "      <td>0.213444</td>\n",
              "      <td>-0.182602</td>\n",
              "      <td>-0.399556</td>\n",
              "      <td>-0.633493</td>\n",
              "      <td>-0.441216</td>\n",
              "      <td>-0.325553</td>\n",
              "      <td>-0.573401</td>\n",
              "      <td>-0.329708</td>\n",
              "      <td>0.224291</td>\n",
              "    </tr>\n",
              "    <tr>\n",
              "      <th>760</th>\n",
              "      <td>-0.262164</td>\n",
              "      <td>-0.208343</td>\n",
              "      <td>-0.469880</td>\n",
              "      <td>-0.895755</td>\n",
              "      <td>-1.183635</td>\n",
              "      <td>0.319300</td>\n",
              "      <td>0.296632</td>\n",
              "      <td>-0.445606</td>\n",
              "      <td>0.174685</td>\n",
              "      <td>-0.528465</td>\n",
              "      <td>...</td>\n",
              "      <td>-0.979130</td>\n",
              "      <td>-0.036733</td>\n",
              "      <td>-0.075136</td>\n",
              "      <td>-0.096908</td>\n",
              "      <td>-0.377361</td>\n",
              "      <td>0.154848</td>\n",
              "      <td>-0.344125</td>\n",
              "      <td>-1.060983</td>\n",
              "      <td>0.070612</td>\n",
              "      <td>0.550098</td>\n",
              "    </tr>\n",
              "    <tr>\n",
              "      <th>761</th>\n",
              "      <td>-0.262225</td>\n",
              "      <td>-0.109023</td>\n",
              "      <td>-0.393614</td>\n",
              "      <td>-0.726855</td>\n",
              "      <td>-1.001611</td>\n",
              "      <td>0.401220</td>\n",
              "      <td>0.614567</td>\n",
              "      <td>-0.349979</td>\n",
              "      <td>0.471977</td>\n",
              "      <td>-0.444307</td>\n",
              "      <td>...</td>\n",
              "      <td>-0.024514</td>\n",
              "      <td>0.408668</td>\n",
              "      <td>-0.617639</td>\n",
              "      <td>-0.023910</td>\n",
              "      <td>-0.810193</td>\n",
              "      <td>-0.418099</td>\n",
              "      <td>-0.023587</td>\n",
              "      <td>-0.517909</td>\n",
              "      <td>-0.066500</td>\n",
              "      <td>0.481340</td>\n",
              "    </tr>\n",
              "  </tbody>\n",
              "</table>\n",
              "<p>762 rows × 77 columns</p>\n",
              "</div>\n",
              "      <button class=\"colab-df-convert\" onclick=\"convertToInteractive('df-69be8e87-d29b-4877-b325-8e65688f8a3e')\"\n",
              "              title=\"Convert this dataframe to an interactive table.\"\n",
              "              style=\"display:none;\">\n",
              "        \n",
              "  <svg xmlns=\"http://www.w3.org/2000/svg\" height=\"24px\"viewBox=\"0 0 24 24\"\n",
              "       width=\"24px\">\n",
              "    <path d=\"M0 0h24v24H0V0z\" fill=\"none\"/>\n",
              "    <path d=\"M18.56 5.44l.94 2.06.94-2.06 2.06-.94-2.06-.94-.94-2.06-.94 2.06-2.06.94zm-11 1L8.5 8.5l.94-2.06 2.06-.94-2.06-.94L8.5 2.5l-.94 2.06-2.06.94zm10 10l.94 2.06.94-2.06 2.06-.94-2.06-.94-.94-2.06-.94 2.06-2.06.94z\"/><path d=\"M17.41 7.96l-1.37-1.37c-.4-.4-.92-.59-1.43-.59-.52 0-1.04.2-1.43.59L10.3 9.45l-7.72 7.72c-.78.78-.78 2.05 0 2.83L4 21.41c.39.39.9.59 1.41.59.51 0 1.02-.2 1.41-.59l7.78-7.78 2.81-2.81c.8-.78.8-2.07 0-2.86zM5.41 20L4 18.59l7.72-7.72 1.47 1.35L5.41 20z\"/>\n",
              "  </svg>\n",
              "      </button>\n",
              "      \n",
              "  <style>\n",
              "    .colab-df-container {\n",
              "      display:flex;\n",
              "      flex-wrap:wrap;\n",
              "      gap: 12px;\n",
              "    }\n",
              "\n",
              "    .colab-df-convert {\n",
              "      background-color: #E8F0FE;\n",
              "      border: none;\n",
              "      border-radius: 50%;\n",
              "      cursor: pointer;\n",
              "      display: none;\n",
              "      fill: #1967D2;\n",
              "      height: 32px;\n",
              "      padding: 0 0 0 0;\n",
              "      width: 32px;\n",
              "    }\n",
              "\n",
              "    .colab-df-convert:hover {\n",
              "      background-color: #E2EBFA;\n",
              "      box-shadow: 0px 1px 2px rgba(60, 64, 67, 0.3), 0px 1px 3px 1px rgba(60, 64, 67, 0.15);\n",
              "      fill: #174EA6;\n",
              "    }\n",
              "\n",
              "    [theme=dark] .colab-df-convert {\n",
              "      background-color: #3B4455;\n",
              "      fill: #D2E3FC;\n",
              "    }\n",
              "\n",
              "    [theme=dark] .colab-df-convert:hover {\n",
              "      background-color: #434B5C;\n",
              "      box-shadow: 0px 1px 3px 1px rgba(0, 0, 0, 0.15);\n",
              "      filter: drop-shadow(0px 1px 2px rgba(0, 0, 0, 0.3));\n",
              "      fill: #FFFFFF;\n",
              "    }\n",
              "  </style>\n",
              "\n",
              "      <script>\n",
              "        const buttonEl =\n",
              "          document.querySelector('#df-69be8e87-d29b-4877-b325-8e65688f8a3e button.colab-df-convert');\n",
              "        buttonEl.style.display =\n",
              "          google.colab.kernel.accessAllowed ? 'block' : 'none';\n",
              "\n",
              "        async function convertToInteractive(key) {\n",
              "          const element = document.querySelector('#df-69be8e87-d29b-4877-b325-8e65688f8a3e');\n",
              "          const dataTable =\n",
              "            await google.colab.kernel.invokeFunction('convertToInteractive',\n",
              "                                                     [key], {});\n",
              "          if (!dataTable) return;\n",
              "\n",
              "          const docLinkHtml = 'Like what you see? Visit the ' +\n",
              "            '<a target=\"_blank\" href=https://colab.research.google.com/notebooks/data_table.ipynb>data table notebook</a>'\n",
              "            + ' to learn more about interactive tables.';\n",
              "          element.innerHTML = '';\n",
              "          dataTable['output_type'] = 'display_data';\n",
              "          await google.colab.output.renderOutput(dataTable, element);\n",
              "          const docLink = document.createElement('div');\n",
              "          docLink.innerHTML = docLinkHtml;\n",
              "          element.appendChild(docLink);\n",
              "        }\n",
              "      </script>\n",
              "    </div>\n",
              "  </div>\n",
              "  "
            ]
          },
          "metadata": {},
          "execution_count": 9
        }
      ],
      "source": [
        "# scaling the data using standardScaler\n",
        "from sklearn import preprocessing\n",
        "scaler = preprocessing.StandardScaler()\n",
        "scaler.fit(x1)\n",
        "x = pd.DataFrame(scaler.transform(x1), columns=col_lst)\n",
        "x"
      ]
    },
    {
      "cell_type": "markdown",
      "metadata": {
        "id": "TNGr2s5a8nvM"
      },
      "source": [
        "# **2(b). Are there significant correlations among variables?**\n"
      ]
    },
    {
      "cell_type": "markdown",
      "metadata": {
        "id": "ONOfnyqJwyFU"
      },
      "source": [
        "**We will use pearson correlation methd to find the highly correlated features among the given features**"
      ]
    },
    {
      "cell_type": "code",
      "execution_count": 10,
      "metadata": {
        "colab": {
          "base_uri": "https://localhost:8080/",
          "height": 1000
        },
        "id": "MJbM7nK49vRh",
        "outputId": "62774c65-a809-449c-db11-b7df99ef6f69"
      },
      "outputs": [
        {
          "output_type": "display_data",
          "data": {
            "text/plain": [
              "<Figure size 1440x1440 with 2 Axes>"
            ],
            "image/png": "[encoded data removed]"
          },
          "metadata": {
            "needs_background": "light"
          }
        }
      ],
      "source": [
        "plt.figure(figsize=(20,20))\n",
        "cor = x.corr()\n",
        "plot = sns.heatmap(cor)\n"
      ]
    },
    {
      "cell_type": "code",
      "execution_count": 11,
      "metadata": {
        "id": "bxekFHd2xW5a"
      },
      "outputs": [],
      "source": [
        "def correlation(dataset, threshold):\n",
        "    col_corr = set()  # Set of all the names of correlated columns\n",
        "    corr_matrix = dataset.corr()\n",
        "    for i in range(len(corr_matrix.columns)):\n",
        "        for j in range(i):\n",
        "            if abs(corr_matrix.iloc[i, j]) > threshold: # we are interested in absolute coeff value\n",
        "                colname = corr_matrix.columns[i]  # getting the name of column\n",
        "                col_corr.add(colname)\n",
        "    return col_corr"
      ]
    },
    {
      "cell_type": "code",
      "execution_count": 12,
      "metadata": {
        "colab": {
          "base_uri": "https://localhost:8080/"
        },
        "id": "jRzDuMBvTkjb",
        "outputId": "c5cfed5e-ab87-4a8f-bd12-1fb94a1ec515"
      },
      "outputs": [
        {
          "output_type": "execute_result",
          "data": {
            "text/plain": [
              "7"
            ]
          },
          "metadata": {},
          "execution_count": 12
        }
      ],
      "source": [
        "corr_features = correlation(x , 0.9)\n",
        "len(corr_features)"
      ]
    },
    {
      "cell_type": "markdown",
      "metadata": {
        "id": "cuPmbmKwUavw"
      },
      "source": [
        "**We now have 7 features as highly correlated to other features so we will remove them from our x**"
      ]
    },
    {
      "cell_type": "code",
      "execution_count": 13,
      "metadata": {
        "colab": {
          "base_uri": "https://localhost:8080/",
          "height": 488
        },
        "id": "AEsFJ4_KTn5y",
        "outputId": "a298131a-227e-4abe-9040-0e31c26a1ce8"
      },
      "outputs": [
        {
          "output_type": "execute_result",
          "data": {
            "text/plain": [
              "     DYRK1A_N    BDNF_N     NR1_N    NR2A_N    pAKT_N   pBRAF_N  pCAMKII_N  \\\n",
              "0    0.239745  2.372452  1.471921  2.269552 -0.351734 -0.186528  -0.898820   \n",
              "1    0.279648  1.976690  1.393675  1.940975 -0.533878 -0.365510  -0.963191   \n",
              "2    0.259888  2.117287  1.095124  1.873152 -0.600347 -0.256006  -0.970144   \n",
              "3    0.015969  0.833934  0.452418  1.181185 -0.249043 -0.228099  -1.073520   \n",
              "4   -0.010091  0.837716  0.157224  0.900303 -0.496664 -0.334981  -1.087947   \n",
              "..        ...       ...       ...       ...       ...       ...        ...   \n",
              "757 -0.158354 -0.070527 -0.606540 -0.611634  0.045756  0.683866  -0.240028   \n",
              "758 -0.130826  0.042935 -0.373432 -0.507093  0.096829  0.313293  -0.101537   \n",
              "759 -0.201944 -0.027925 -0.700047 -0.871242  0.681455  0.761884  -0.399737   \n",
              "760 -0.262164 -0.469880 -0.895755 -1.183635  0.319300  0.296632  -0.445606   \n",
              "761 -0.262225 -0.393614 -0.726855 -1.001611  0.401220  0.614567  -0.349979   \n",
              "\n",
              "      pCREB_N    pELK_N    pJNK_N  ...  pGSK3B_Tyr216_N     SHH_N     BAD_N  \\\n",
              "0    0.648744  0.595213 -0.148771  ...        -0.158189 -1.269701 -1.192868   \n",
              "1    0.479587  0.292333 -0.292219  ...         0.025901 -0.878703 -1.384700   \n",
              "2    0.585066  0.223626 -0.444364  ...        -0.000721 -1.106122 -1.326024   \n",
              "3   -0.163587  0.289803 -0.337665  ...        -0.140312 -1.159352 -0.867383   \n",
              "4   -0.641792  0.111757 -0.528799  ...         0.331411 -0.702678 -0.958228   \n",
              "..        ...       ...       ...  ...              ...       ...       ...   \n",
              "757  0.313292 -0.447289  0.075654  ...         1.606940 -0.346465 -0.109373   \n",
              "758  0.638293 -0.385489  0.309205  ...         2.043400 -0.563470 -0.210474   \n",
              "759  0.366285 -0.388938  0.793714  ...         1.060202 -0.510605  0.213444   \n",
              "760  0.174685 -0.528465  0.231584  ...         1.549577 -0.979130 -0.036733   \n",
              "761  0.471977 -0.444307  0.729980  ...         1.919523 -0.024514  0.408668   \n",
              "\n",
              "       BCL2_N   pCFOS_N     SYP_N  H3AcK18_N    EGR1_N  H3MeK4_N    CaNA_N  \n",
              "0   -1.026373 -0.901764 -0.371984  -0.727673 -1.248514 -1.441819  0.943046  \n",
              "1   -0.976669 -1.072989 -0.139388  -0.761256 -1.178310 -1.390064  1.144768  \n",
              "2   -0.991436 -0.991907 -0.232612  -0.762340 -1.215206 -1.455133  1.687436  \n",
              "3   -0.676364 -0.777146 -0.940673  -0.540947 -0.916792 -1.111582  1.016991  \n",
              "4   -0.687094 -0.801338 -0.258680  -0.683469 -1.067879 -1.085488  1.430089  \n",
              "..        ...       ...       ...        ...       ...       ...       ...  \n",
              "757 -0.916630 -0.593806 -0.145392  -0.324987 -0.943333 -0.339080  0.345848  \n",
              "758 -0.934907 -0.875867 -0.085877  -0.269247 -0.866914 -0.210920  0.470936  \n",
              "759 -0.182602 -0.633493 -0.441216  -0.325553 -0.573401 -0.329708  0.224291  \n",
              "760 -0.075136 -0.377361  0.154848  -0.344125 -1.060983  0.070612  0.550098  \n",
              "761 -0.617639 -0.810193 -0.418099  -0.023587 -0.517909 -0.066500  0.481340  \n",
              "\n",
              "[762 rows x 70 columns]"
            ],
            "text/html": [
              "\n",
              "  <div id=\"df-35c998fd-dd8f-4bf8-817b-abd201f87bb4\">\n",
              "    <div class=\"colab-df-container\">\n",
              "      <div>\n",
              "<style scoped>\n",
              "    .dataframe tbody tr th:only-of-type {\n",
              "        vertical-align: middle;\n",
              "    }\n",
              "\n",
              "    .dataframe tbody tr th {\n",
              "        vertical-align: top;\n",
              "    }\n",
              "\n",
              "    .dataframe thead th {\n",
              "        text-align: right;\n",
              "    }\n",
              "</style>\n",
              "<table border=\"1\" class=\"dataframe\">\n",
              "  <thead>\n",
              "    <tr style=\"text-align: right;\">\n",
              "      <th></th>\n",
              "      <th>DYRK1A_N</th>\n",
              "      <th>BDNF_N</th>\n",
              "      <th>NR1_N</th>\n",
              "      <th>NR2A_N</th>\n",
              "      <th>pAKT_N</th>\n",
              "      <th>pBRAF_N</th>\n",
              "      <th>pCAMKII_N</th>\n",
              "      <th>pCREB_N</th>\n",
              "      <th>pELK_N</th>\n",
              "      <th>pJNK_N</th>\n",
              "      <th>...</th>\n",
              "      <th>pGSK3B_Tyr216_N</th>\n",
              "      <th>SHH_N</th>\n",
              "      <th>BAD_N</th>\n",
              "      <th>BCL2_N</th>\n",
              "      <th>pCFOS_N</th>\n",
              "      <th>SYP_N</th>\n",
              "      <th>H3AcK18_N</th>\n",
              "      <th>EGR1_N</th>\n",
              "      <th>H3MeK4_N</th>\n",
              "      <th>CaNA_N</th>\n",
              "    </tr>\n",
              "  </thead>\n",
              "  <tbody>\n",
              "    <tr>\n",
              "      <th>0</th>\n",
              "      <td>0.239745</td>\n",
              "      <td>2.372452</td>\n",
              "      <td>1.471921</td>\n",
              "      <td>2.269552</td>\n",
              "      <td>-0.351734</td>\n",
              "      <td>-0.186528</td>\n",
              "      <td>-0.898820</td>\n",
              "      <td>0.648744</td>\n",
              "      <td>0.595213</td>\n",
              "      <td>-0.148771</td>\n",
              "      <td>...</td>\n",
              "      <td>-0.158189</td>\n",
              "      <td>-1.269701</td>\n",
              "      <td>-1.192868</td>\n",
              "      <td>-1.026373</td>\n",
              "      <td>-0.901764</td>\n",
              "      <td>-0.371984</td>\n",
              "      <td>-0.727673</td>\n",
              "      <td>-1.248514</td>\n",
              "      <td>-1.441819</td>\n",
              "      <td>0.943046</td>\n",
              "    </tr>\n",
              "    <tr>\n",
              "      <th>1</th>\n",
              "      <td>0.279648</td>\n",
              "      <td>1.976690</td>\n",
              "      <td>1.393675</td>\n",
              "      <td>1.940975</td>\n",
              "      <td>-0.533878</td>\n",
              "      <td>-0.365510</td>\n",
              "      <td>-0.963191</td>\n",
              "      <td>0.479587</td>\n",
              "      <td>0.292333</td>\n",
              "      <td>-0.292219</td>\n",
              "      <td>...</td>\n",
              "      <td>0.025901</td>\n",
              "      <td>-0.878703</td>\n",
              "      <td>-1.384700</td>\n",
              "      <td>-0.976669</td>\n",
              "      <td>-1.072989</td>\n",
              "      <td>-0.139388</td>\n",
              "      <td>-0.761256</td>\n",
              "      <td>-1.178310</td>\n",
              "      <td>-1.390064</td>\n",
              "      <td>1.144768</td>\n",
              "    </tr>\n",
              "    <tr>\n",
              "      <th>2</th>\n",
              "      <td>0.259888</td>\n",
              "      <td>2.117287</td>\n",
              "      <td>1.095124</td>\n",
              "      <td>1.873152</td>\n",
              "      <td>-0.600347</td>\n",
              "      <td>-0.256006</td>\n",
              "      <td>-0.970144</td>\n",
              "      <td>0.585066</td>\n",
              "      <td>0.223626</td>\n",
              "      <td>-0.444364</td>\n",
              "      <td>...</td>\n",
              "      <td>-0.000721</td>\n",
              "      <td>-1.106122</td>\n",
              "      <td>-1.326024</td>\n",
              "      <td>-0.991436</td>\n",
              "      <td>-0.991907</td>\n",
              "      <td>-0.232612</td>\n",
              "      <td>-0.762340</td>\n",
              "      <td>-1.215206</td>\n",
              "      <td>-1.455133</td>\n",
              "      <td>1.687436</td>\n",
              "    </tr>\n",
              "    <tr>\n",
              "      <th>3</th>\n",
              "      <td>0.015969</td>\n",
              "      <td>0.833934</td>\n",
              "      <td>0.452418</td>\n",
              "      <td>1.181185</td>\n",
              "      <td>-0.249043</td>\n",
              "      <td>-0.228099</td>\n",
              "      <td>-1.073520</td>\n",
              "      <td>-0.163587</td>\n",
              "      <td>0.289803</td>\n",
              "      <td>-0.337665</td>\n",
              "      <td>...</td>\n",
              "      <td>-0.140312</td>\n",
              "      <td>-1.159352</td>\n",
              "      <td>-0.867383</td>\n",
              "      <td>-0.676364</td>\n",
              "      <td>-0.777146</td>\n",
              "      <td>-0.940673</td>\n",
              "      <td>-0.540947</td>\n",
              "      <td>-0.916792</td>\n",
              "      <td>-1.111582</td>\n",
              "      <td>1.016991</td>\n",
              "    </tr>\n",
              "    <tr>\n",
              "      <th>4</th>\n",
              "      <td>-0.010091</td>\n",
              "      <td>0.837716</td>\n",
              "      <td>0.157224</td>\n",
              "      <td>0.900303</td>\n",
              "      <td>-0.496664</td>\n",
              "      <td>-0.334981</td>\n",
              "      <td>-1.087947</td>\n",
              "      <td>-0.641792</td>\n",
              "      <td>0.111757</td>\n",
              "      <td>-0.528799</td>\n",
              "      <td>...</td>\n",
              "      <td>0.331411</td>\n",
              "      <td>-0.702678</td>\n",
              "      <td>-0.958228</td>\n",
              "      <td>-0.687094</td>\n",
              "      <td>-0.801338</td>\n",
              "      <td>-0.258680</td>\n",
              "      <td>-0.683469</td>\n",
              "      <td>-1.067879</td>\n",
              "      <td>-1.085488</td>\n",
              "      <td>1.430089</td>\n",
              "    </tr>\n",
              "    <tr>\n",
              "      <th>...</th>\n",
              "      <td>...</td>\n",
              "      <td>...</td>\n",
              "      <td>...</td>\n",
              "      <td>...</td>\n",
              "      <td>...</td>\n",
              "      <td>...</td>\n",
              "      <td>...</td>\n",
              "      <td>...</td>\n",
              "      <td>...</td>\n",
              "      <td>...</td>\n",
              "      <td>...</td>\n",
              "      <td>...</td>\n",
              "      <td>...</td>\n",
              "      <td>...</td>\n",
              "      <td>...</td>\n",
              "      <td>...</td>\n",
              "      <td>...</td>\n",
              "      <td>...</td>\n",
              "      <td>...</td>\n",
              "      <td>...</td>\n",
              "      <td>...</td>\n",
              "    </tr>\n",
              "    <tr>\n",
              "      <th>757</th>\n",
              "      <td>-0.158354</td>\n",
              "      <td>-0.070527</td>\n",
              "      <td>-0.606540</td>\n",
              "      <td>-0.611634</td>\n",
              "      <td>0.045756</td>\n",
              "      <td>0.683866</td>\n",
              "      <td>-0.240028</td>\n",
              "      <td>0.313292</td>\n",
              "      <td>-0.447289</td>\n",
              "      <td>0.075654</td>\n",
              "      <td>...</td>\n",
              "      <td>1.606940</td>\n",
              "      <td>-0.346465</td>\n",
              "      <td>-0.109373</td>\n",
              "      <td>-0.916630</td>\n",
              "      <td>-0.593806</td>\n",
              "      <td>-0.145392</td>\n",
              "      <td>-0.324987</td>\n",
              "      <td>-0.943333</td>\n",
              "      <td>-0.339080</td>\n",
              "      <td>0.345848</td>\n",
              "    </tr>\n",
              "    <tr>\n",
              "      <th>758</th>\n",
              "      <td>-0.130826</td>\n",
              "      <td>0.042935</td>\n",
              "      <td>-0.373432</td>\n",
              "      <td>-0.507093</td>\n",
              "      <td>0.096829</td>\n",
              "      <td>0.313293</td>\n",
              "      <td>-0.101537</td>\n",
              "      <td>0.638293</td>\n",
              "      <td>-0.385489</td>\n",
              "      <td>0.309205</td>\n",
              "      <td>...</td>\n",
              "      <td>2.043400</td>\n",
              "      <td>-0.563470</td>\n",
              "      <td>-0.210474</td>\n",
              "      <td>-0.934907</td>\n",
              "      <td>-0.875867</td>\n",
              "      <td>-0.085877</td>\n",
              "      <td>-0.269247</td>\n",
              "      <td>-0.866914</td>\n",
              "      <td>-0.210920</td>\n",
              "      <td>0.470936</td>\n",
              "    </tr>\n",
              "    <tr>\n",
              "      <th>759</th>\n",
              "      <td>-0.201944</td>\n",
              "      <td>-0.027925</td>\n",
              "      <td>-0.700047</td>\n",
              "      <td>-0.871242</td>\n",
              "      <td>0.681455</td>\n",
              "      <td>0.761884</td>\n",
              "      <td>-0.399737</td>\n",
              "      <td>0.366285</td>\n",
              "      <td>-0.388938</td>\n",
              "      <td>0.793714</td>\n",
              "      <td>...</td>\n",
              "      <td>1.060202</td>\n",
              "      <td>-0.510605</td>\n",
              "      <td>0.213444</td>\n",
              "      <td>-0.182602</td>\n",
              "      <td>-0.633493</td>\n",
              "      <td>-0.441216</td>\n",
              "      <td>-0.325553</td>\n",
              "      <td>-0.573401</td>\n",
              "      <td>-0.329708</td>\n",
              "      <td>0.224291</td>\n",
              "    </tr>\n",
              "    <tr>\n",
              "      <th>760</th>\n",
              "      <td>-0.262164</td>\n",
              "      <td>-0.469880</td>\n",
              "      <td>-0.895755</td>\n",
              "      <td>-1.183635</td>\n",
              "      <td>0.319300</td>\n",
              "      <td>0.296632</td>\n",
              "      <td>-0.445606</td>\n",
              "      <td>0.174685</td>\n",
              "      <td>-0.528465</td>\n",
              "      <td>0.231584</td>\n",
              "      <td>...</td>\n",
              "      <td>1.549577</td>\n",
              "      <td>-0.979130</td>\n",
              "      <td>-0.036733</td>\n",
              "      <td>-0.075136</td>\n",
              "      <td>-0.377361</td>\n",
              "      <td>0.154848</td>\n",
              "      <td>-0.344125</td>\n",
              "      <td>-1.060983</td>\n",
              "      <td>0.070612</td>\n",
              "      <td>0.550098</td>\n",
              "    </tr>\n",
              "    <tr>\n",
              "      <th>761</th>\n",
              "      <td>-0.262225</td>\n",
              "      <td>-0.393614</td>\n",
              "      <td>-0.726855</td>\n",
              "      <td>-1.001611</td>\n",
              "      <td>0.401220</td>\n",
              "      <td>0.614567</td>\n",
              "      <td>-0.349979</td>\n",
              "      <td>0.471977</td>\n",
              "      <td>-0.444307</td>\n",
              "      <td>0.729980</td>\n",
              "      <td>...</td>\n",
              "      <td>1.919523</td>\n",
              "      <td>-0.024514</td>\n",
              "      <td>0.408668</td>\n",
              "      <td>-0.617639</td>\n",
              "      <td>-0.810193</td>\n",
              "      <td>-0.418099</td>\n",
              "      <td>-0.023587</td>\n",
              "      <td>-0.517909</td>\n",
              "      <td>-0.066500</td>\n",
              "      <td>0.481340</td>\n",
              "    </tr>\n",
              "  </tbody>\n",
              "</table>\n",
              "<p>762 rows × 70 columns</p>\n",
              "</div>\n",
              "      <button class=\"colab-df-convert\" onclick=\"convertToInteractive('df-35c998fd-dd8f-4bf8-817b-abd201f87bb4')\"\n",
              "              title=\"Convert this dataframe to an interactive table.\"\n",
              "              style=\"display:none;\">\n",
              "        \n",
              "  <svg xmlns=\"http://www.w3.org/2000/svg\" height=\"24px\"viewBox=\"0 0 24 24\"\n",
              "       width=\"24px\">\n",
              "    <path d=\"M0 0h24v24H0V0z\" fill=\"none\"/>\n",
              "    <path d=\"M18.56 5.44l.94 2.06.94-2.06 2.06-.94-2.06-.94-.94-2.06-.94 2.06-2.06.94zm-11 1L8.5 8.5l.94-2.06 2.06-.94-2.06-.94L8.5 2.5l-.94 2.06-2.06.94zm10 10l.94 2.06.94-2.06 2.06-.94-2.06-.94-.94-2.06-.94 2.06-2.06.94z\"/><path d=\"M17.41 7.96l-1.37-1.37c-.4-.4-.92-.59-1.43-.59-.52 0-1.04.2-1.43.59L10.3 9.45l-7.72 7.72c-.78.78-.78 2.05 0 2.83L4 21.41c.39.39.9.59 1.41.59.51 0 1.02-.2 1.41-.59l7.78-7.78 2.81-2.81c.8-.78.8-2.07 0-2.86zM5.41 20L4 18.59l7.72-7.72 1.47 1.35L5.41 20z\"/>\n",
              "  </svg>\n",
              "      </button>\n",
              "      \n",
              "  <style>\n",
              "    .colab-df-container {\n",
              "      display:flex;\n",
              "      flex-wrap:wrap;\n",
              "      gap: 12px;\n",
              "    }\n",
              "\n",
              "    .colab-df-convert {\n",
              "      background-color: #E8F0FE;\n",
              "      border: none;\n",
              "      border-radius: 50%;\n",
              "      cursor: pointer;\n",
              "      display: none;\n",
              "      fill: #1967D2;\n",
              "      height: 32px;\n",
              "      padding: 0 0 0 0;\n",
              "      width: 32px;\n",
              "    }\n",
              "\n",
              "    .colab-df-convert:hover {\n",
              "      background-color: #E2EBFA;\n",
              "      box-shadow: 0px 1px 2px rgba(60, 64, 67, 0.3), 0px 1px 3px 1px rgba(60, 64, 67, 0.15);\n",
              "      fill: #174EA6;\n",
              "    }\n",
              "\n",
              "    [theme=dark] .colab-df-convert {\n",
              "      background-color: #3B4455;\n",
              "      fill: #D2E3FC;\n",
              "    }\n",
              "\n",
              "    [theme=dark] .colab-df-convert:hover {\n",
              "      background-color: #434B5C;\n",
              "      box-shadow: 0px 1px 3px 1px rgba(0, 0, 0, 0.15);\n",
              "      filter: drop-shadow(0px 1px 2px rgba(0, 0, 0, 0.3));\n",
              "      fill: #FFFFFF;\n",
              "    }\n",
              "  </style>\n",
              "\n",
              "      <script>\n",
              "        const buttonEl =\n",
              "          document.querySelector('#df-35c998fd-dd8f-4bf8-817b-abd201f87bb4 button.colab-df-convert');\n",
              "        buttonEl.style.display =\n",
              "          google.colab.kernel.accessAllowed ? 'block' : 'none';\n",
              "\n",
              "        async function convertToInteractive(key) {\n",
              "          const element = document.querySelector('#df-35c998fd-dd8f-4bf8-817b-abd201f87bb4');\n",
              "          const dataTable =\n",
              "            await google.colab.kernel.invokeFunction('convertToInteractive',\n",
              "                                                     [key], {});\n",
              "          if (!dataTable) return;\n",
              "\n",
              "          const docLinkHtml = 'Like what you see? Visit the ' +\n",
              "            '<a target=\"_blank\" href=https://colab.research.google.com/notebooks/data_table.ipynb>data table notebook</a>'\n",
              "            + ' to learn more about interactive tables.';\n",
              "          element.innerHTML = '';\n",
              "          dataTable['output_type'] = 'display_data';\n",
              "          await google.colab.output.renderOutput(dataTable, element);\n",
              "          const docLink = document.createElement('div');\n",
              "          docLink.innerHTML = docLinkHtml;\n",
              "          element.appendChild(docLink);\n",
              "        }\n",
              "      </script>\n",
              "    </div>\n",
              "  </div>\n",
              "  "
            ]
          },
          "metadata": {},
          "execution_count": 13
        }
      ],
      "source": [
        "x_new = x.drop(corr_features, axis=1)\n",
        "x_new"
      ]
    },
    {
      "cell_type": "markdown",
      "metadata": {
        "id": "DR7Q-YReChDo"
      },
      "source": [
        "### **Analyzing x_new for any remaining correlations.**"
      ]
    },
    {
      "cell_type": "code",
      "execution_count": 14,
      "metadata": {
        "colab": {
          "base_uri": "https://localhost:8080/",
          "height": 1000
        },
        "id": "HyP2Phw3CfVV",
        "outputId": "595b8c61-a843-43eb-a50b-999035168cb1"
      },
      "outputs": [
        {
          "output_type": "display_data",
          "data": {
            "text/plain": [
              "<Figure size 1440x1440 with 2 Axes>"
            ],
            "image/png": "[encoded data removed]"
          },
          "metadata": {
            "needs_background": "light"
          }
        }
      ],
      "source": [
        "cor_new = x_new.corr()\n",
        "plt.figure(figsize=(20,20))\n",
        "plot=sns.heatmap(cor_new)"
      ]
    },
    {
      "cell_type": "code",
      "execution_count": 15,
      "metadata": {
        "id": "-q_DO71ZD2s-"
      },
      "outputs": [],
      "source": [
        "def correlation(dataset, threshold):\n",
        "    col_corr = set()  # Set of all the names of correlated columns\n",
        "    corr_matrix = dataset.corr()\n",
        "    for i in range(len(corr_matrix.columns)):\n",
        "        for j in range(i):\n",
        "            if abs(corr_matrix.iloc[i, j]) > threshold: # we are interested in absolute coeff value\n",
        "                colname = corr_matrix.columns[i]  # getting the name of column\n",
        "                col_corr.add(colname)\n",
        "    return col_corr"
      ]
    },
    {
      "cell_type": "code",
      "execution_count": 16,
      "metadata": {
        "colab": {
          "base_uri": "https://localhost:8080/"
        },
        "id": "EaDdKNXqD53N",
        "outputId": "0b5b1e2a-118b-4c9d-9b83-a80f006ba2b4"
      },
      "outputs": [
        {
          "output_type": "execute_result",
          "data": {
            "text/plain": [
              "0"
            ]
          },
          "metadata": {},
          "execution_count": 16
        }
      ],
      "source": [
        "corr_features = correlation(x_new , 0.9)\n",
        "len(corr_features)"
      ]
    },
    {
      "cell_type": "markdown",
      "metadata": {
        "id": "P7qkLAInEDf9"
      },
      "source": [
        "### **We can now conclude that x_new has no correlated features whose correlation excedes 80% to any other feature, Hence no more further droping of features is required.**"
      ]
    },
    {
      "cell_type": "markdown",
      "metadata": {
        "id": "EVg7z8SkXc1G"
      },
      "source": [
        "# **c. Are the classes balanced?**\n",
        "###     We will check for the all the classes in the output:\n",
        "###     1. Genotype\n",
        "###     2. Treatment Behaviour"
      ]
    },
    {
      "cell_type": "code",
      "execution_count": 17,
      "metadata": {
        "colab": {
          "base_uri": "https://localhost:8080/",
          "height": 326
        },
        "id": "YvhBe1EVTt55",
        "outputId": "89026a26-b3c4-4204-dc10-ec107e051e0e"
      },
      "outputs": [
        {
          "output_type": "execute_result",
          "data": {
            "text/plain": [
              "Text(0, 0.5, 'Count')"
            ]
          },
          "metadata": {},
          "execution_count": 17
        },
        {
          "output_type": "display_data",
          "data": {
            "text/plain": [
              "<Figure size 432x288 with 1 Axes>"
            ],
            "image/png": "[encoded data removed]"
          },
          "metadata": {
            "needs_background": "light"
          }
        }
      ],
      "source": [
        "# y1_reverse = lab_enc.inverse_transform(y1_new)\n",
        "# y1_reverse = pd.DataFrame(y1_reverse)\n",
        "# y1_reverse.value_counts().plot(kind='bar', color=['salmon','blue'] , title='Genotype Count')\n",
        "y1.value_counts().plot(kind='bar', color=['salmon','blue'] , title='Genotype Count')\n",
        "plt.ylabel('Count')"
      ]
    },
    {
      "cell_type": "code",
      "execution_count": 18,
      "metadata": {
        "colab": {
          "base_uri": "https://localhost:8080/",
          "height": 367
        },
        "id": "L3dcWeMyiUtS",
        "outputId": "af10b276-a72b-4cc9-fbf4-383137e5437c"
      },
      "outputs": [
        {
          "output_type": "execute_result",
          "data": {
            "text/plain": [
              "Text(0, 0.5, 'Count')"
            ]
          },
          "metadata": {},
          "execution_count": 18
        },
        {
          "output_type": "display_data",
          "data": {
            "text/plain": [
              "<Figure size 432x288 with 1 Axes>"
            ],
            "image/png": "[encoded data removed]"
          },
          "metadata": {
            "needs_background": "light"
          }
        }
      ],
      "source": [
        "# y2_reverse = lab_enc.inverse_transform(y2_new)\n",
        "# y2_reverse = pd.DataFrame(y2_reverse)\n",
        "# y2_reverse.value_counts().plot(kind='bar', color=['salmon','blue'] , title='Treatment Behaviour')\n",
        "y2.value_counts().plot(kind='bar', color=['salmon','blue'] , title='Genotype Count')\n",
        "plt.ylabel('Count')"
      ]
    },
    {
      "cell_type": "markdown",
      "metadata": {
        "id": "nb9xiNOxCBeR"
      },
      "source": [
        "For both the types(Genotype , Treatment behaviour) we have approximately balanced classes"
      ]
    },
    {
      "cell_type": "markdown",
      "metadata": {
        "id": "4XygyFiXFIvP"
      },
      "source": [
        "# **4. Select metrices that you will use, such as accuracy, F1 score, balanced accuracy, AUC etc.**\n",
        "\n",
        "Accuracy, confusion matrix and AUC-ROC are some of the most popular metrics. Precision-recall is a widely used metrics for classification problems.\n",
        "\n",
        "\n",
        "**Accuracy** \n",
        "\n",
        "Accuracy simply measures how often the classifier correctly predicts. We can define accuracy as the ratio of the number of correct predictions and the total number of predictions.\n",
        "**But this metrix is only good for balanced dataset**\n",
        "\n",
        "\n",
        "**A confusion matrix**\n",
        "\n",
        "It is defined as the table that is often used to describe the performance of a classification model on a set of the test data for which the true values are known. **By using confusion matrix we can calculate precision recall and F1 score**\n",
        "\n",
        "\n",
        " **AUC-ROC** \n",
        " \n",
        "The Receiver Operator Characteristic (ROC) is a probability curve that plots the TPR(True Positive Rate) against the FPR(False Positive Rate) at various threshold values.\n",
        " \n",
        "**For binary class we will use balanced accuracy (mean of sensitivity and specificity), F1 score and ROC-AUC score because our classes are balanced.**\n",
        "\n",
        "**For multi-class when we use one over rest method then our true negatives will increase so we can't use the balanced accuracy method therefore we will use another matrix i.e. micro or macro averages of F1 score**\n",
        "\n",
        "\n"
      ]
    },
    {
      "cell_type": "markdown",
      "metadata": {
        "id": "m2J8v3uPyktk"
      },
      "source": [
        "# **5. Using five-fold cross-validation find the reasonable hyper-parameter settings for the following model types:**\n",
        "   **a. Elastic net logistic regression (L1 and L2 weight)**\n",
        "\n",
        "   **b. Neural network with single ReLU hidden layer and Softmax output           (number of neurons, weight decay)**\n",
        "\n",
        "   **c. SVM (a few kernels, their hyper-parameters such as width, and slack penalty)**\n",
        "\n",
        "   **d. Random forest (number of trees, max tree depth, max number of variables per node)**"
      ]
    },
    {
      "cell_type": "code",
      "execution_count": 19,
      "metadata": {
        "id": "4bAp46SN_2ib"
      },
      "outputs": [],
      "source": [
        "# Imoporting Libraries and useful Classes and Features\n",
        "\n",
        "from sklearn.linear_model import LogisticRegression\n",
        "from sklearn.neural_network import MLPClassifier\n",
        "from sklearn.ensemble import RandomForestClassifier\n",
        "from sklearn.model_selection import GridSearchCV\n",
        "from sklearn.metrics import classification_report\n",
        "from sklearn.metrics import roc_auc_score\n",
        "from sklearn.metrics import f1_score\n",
        "from sklearn.metrics import confusion_matrix , accuracy_score\n",
        "from sklearn import svm\n",
        "\n"
      ]
    },
    {
      "cell_type": "code",
      "execution_count": 20,
      "metadata": {
        "colab": {
          "base_uri": "https://localhost:8080/"
        },
        "id": "atHx9iSb1T68",
        "outputId": "e227ae03-2bb2-4c18-decb-0e5f9cd1f04a"
      },
      "outputs": [
        {
          "output_type": "stream",
          "name": "stdout",
          "text": [
            "Best Parameters\n",
            "{'l1_ratio': 0.9, 'max_iter': 100, 'penalty': 'elasticnet'}\n",
            "best balanced_accuracy:0.775741499879431\n",
            "Best Parameters\n",
            "{'l1_ratio': 0.9, 'max_iter': 100, 'penalty': 'elasticnet'}\n",
            "best f1:0.7479881604843657\n",
            "Best Parameters\n",
            "{'l1_ratio': 0.9, 'max_iter': 100, 'penalty': 'elasticnet'}\n",
            "best roc_auc:0.8136864667899151\n"
          ]
        }
      ],
      "source": [
        "hyperparameter = {'penalty':['elasticnet'] , 'l1_ratio':[0.1,0.2,0.3,0.4,0.5,0.6,0.7,0.8,0.9] , 'max_iter':[100,120,140]}\n",
        "log_reg = LogisticRegression(solver='saga')\n",
        "score = ['balanced_accuracy','f1','roc_auc']\n",
        "for i in score:\n",
        "  gs_log_reg = GridSearchCV(estimator=log_reg , scoring=i , param_grid=hyperparameter , cv=5)\n",
        "  gs_log_reg.fit(np.array(x_new) , np.squeeze(y1_new))\n",
        "  print('Best Parameters')\n",
        "  print(gs_log_reg.best_params_)\n",
        "  print('best ' + i + ':' + str(gs_log_reg.best_score_))\n"
      ]
    },
    {
      "cell_type": "code",
      "execution_count": 21,
      "metadata": {
        "colab": {
          "base_uri": "https://localhost:8080/"
        },
        "id": "W5uVfRmsjKrx",
        "outputId": "79652d8c-bcda-4cb5-d27a-7b3b9b8c1a79"
      },
      "outputs": [
        {
          "output_type": "stream",
          "name": "stdout",
          "text": [
            "Best Parameters\n",
            "{'l1_ratio': 0.3, 'max_iter': 120, 'penalty': 'elasticnet'}\n",
            "best balanced_accuracy:0.720519943019943\n",
            "Best Parameters\n",
            "{'l1_ratio': 0.3, 'max_iter': 140, 'penalty': 'elasticnet'}\n",
            "best f1_macro:0.7169109086840352\n",
            "Best Parameters\n",
            "{'l1_ratio': 0.1, 'max_iter': 100, 'penalty': 'elasticnet'}\n",
            "best roc_auc_ovr:0.9061750779118605\n"
          ]
        }
      ],
      "source": [
        "param_log_reg = {'penalty':['elasticnet'] , 'l1_ratio':[0.1,0.2,0.3,0.4,0.5,0.6,0.7,0.8,0.9] , 'max_iter':[100,120,140]}\n",
        "log_reg = LogisticRegression(solver='saga', multi_class='multinomial')\n",
        "score = ['balanced_accuracy','f1_macro','roc_auc_ovr']\n",
        "for i in score:\n",
        "  gs_log_reg = GridSearchCV(estimator=log_reg , scoring=i , param_grid=param_log_reg , cv=5)\n",
        "  gs_log_reg.fit(np.array(x_new) , np.squeeze(y2_new))\n",
        "  print('Best Parameters')\n",
        "  print(gs_log_reg.best_params_)\n",
        "  print('best ' + i + ':' + str(gs_log_reg.best_score_))"
      ]
    },
    {
      "cell_type": "markdown",
      "metadata": {
        "id": "urVKrIUeI5Np"
      },
      "source": [
        "# b. Neural network with single ReLU hidden layer and Softmax output (number of neurons, weight decay)"
      ]
    },
    {
      "cell_type": "markdown",
      "metadata": {
        "id": "SyC_l7gPJA9u"
      },
      "source": [
        "### Applying on Genotype"
      ]
    },
    {
      "cell_type": "code",
      "execution_count": 22,
      "metadata": {
        "colab": {
          "base_uri": "https://localhost:8080/"
        },
        "id": "FrhNPsJT57EZ",
        "outputId": "1ad96c16-b772-44c0-a6c0-0055b48fa3f4"
      },
      "outputs": [
        {
          "output_type": "stream",
          "name": "stdout",
          "text": [
            "Best Parameters\n",
            "{'alpha': 1, 'hidden_layer_sizes': (10,)}\n",
            "best balanced_accuracy:0.7524563941805321\n",
            "Best Parameters\n",
            "{'alpha': 1, 'hidden_layer_sizes': (20,)}\n",
            "best f1:0.7210192765568872\n",
            "Best Parameters\n",
            "{'alpha': 1, 'hidden_layer_sizes': (50,)}\n",
            "best roc_auc:0.805436861988586\n"
          ]
        }
      ],
      "source": [
        "neu_net = MLPClassifier(activation='relu' , hidden_layer_sizes=(100))\n",
        "param_neu_net = {'alpha':[0.001, 0.01, 0.1,1,10] , 'hidden_layer_sizes':[(10,),(15,),(20,),(30,),(50,)]}\n",
        "score_neu_net = ['balanced_accuracy','f1','roc_auc']\n",
        "for i in score_neu_net:\n",
        "  gs_neu_net = GridSearchCV(estimator=neu_net , scoring=i , param_grid=param_neu_net , cv=5)\n",
        "  gs_neu_net.fit(np.array(x_new) , np.squeeze(y1_new))\n",
        "  print('Best Parameters')\n",
        "  print(gs_neu_net.best_params_)\n",
        "  print('best ' + i + ':' + str(gs_neu_net.best_score_))"
      ]
    },
    {
      "cell_type": "markdown",
      "metadata": {
        "id": "Nu84T4YSNaOP"
      },
      "source": [
        "### Applying on Treatment Behaviour"
      ]
    },
    {
      "cell_type": "code",
      "execution_count": 23,
      "metadata": {
        "colab": {
          "base_uri": "https://localhost:8080/"
        },
        "id": "6dKHqK8aLBTp",
        "outputId": "652cc140-f64a-4f92-9f85-64a2639cc389"
      },
      "outputs": [
        {
          "output_type": "stream",
          "name": "stdout",
          "text": [
            "Best Parameters\n",
            "{'alpha': 0.01, 'hidden_layer_sizes': (50,)}\n",
            "best balanced_accuracy:0.7178988603988603\n",
            "Best Parameters\n",
            "{'alpha': 0.1, 'hidden_layer_sizes': (30,)}\n",
            "best f1_macro:0.7252371743977675\n",
            "Best Parameters\n",
            "{'alpha': 0.001, 'hidden_layer_sizes': (10,)}\n",
            "best roc_auc_ovr:0.9106475256588273\n"
          ]
        }
      ],
      "source": [
        "neu_net = MLPClassifier(activation='relu' , hidden_layer_sizes=(100))\n",
        "param_neu_net = {'alpha':[0.001, 0.01, 0.1,1,10] , 'hidden_layer_sizes':[(10,),(15,),(20,),(30,),(50,)]}\n",
        "score_neu_net = ['balanced_accuracy','f1_macro','roc_auc_ovr']\n",
        "for i in score_neu_net:\n",
        "  gs_neu_net = GridSearchCV(estimator=neu_net , scoring=i , param_grid=param_neu_net , cv=5)\n",
        "  gs_neu_net.fit(np.array(x_new) , np.squeeze(y2_new))\n",
        "  print('Best Parameters')\n",
        "  print(gs_neu_net.best_params_)\n",
        "  print('best ' + i + ':' + str(gs_neu_net.best_score_))"
      ]
    },
    {
      "cell_type": "markdown",
      "metadata": {
        "id": "zFTZ_zwYUTTI"
      },
      "source": [
        "# c. SVM (a few kernels, their hyper-parameters such as width, and slack penalty)"
      ]
    },
    {
      "cell_type": "markdown",
      "metadata": {
        "id": "L_fgk41ZUbIN"
      },
      "source": [
        "### Applying on Genotype"
      ]
    },
    {
      "cell_type": "code",
      "execution_count": 24,
      "metadata": {
        "colab": {
          "base_uri": "https://localhost:8080/"
        },
        "id": "ZaDXYhlYNz66",
        "outputId": "805e781f-1fc9-4e71-a22a-15fb3993c55e"
      },
      "outputs": [
        {
          "output_type": "stream",
          "name": "stdout",
          "text": [
            "Best param\n",
            "{'C': 0.01, 'degree': 2, 'kernel': 'linear'}\n",
            "best balanced_accuracy:0.7955027730889801\n",
            "Best param\n",
            "{'C': 0.01, 'degree': 2, 'kernel': 'linear'}\n",
            "best f1:0.7638523827078572\n",
            "Best param\n",
            "{'C': 0.01, 'degree': 2, 'kernel': 'linear'}\n",
            "best roc_auc:0.8497939608284437\n"
          ]
        }
      ],
      "source": [
        "param_svc = {'kernel':('rbf','linear','poly'),'C':[.001,.01,1,10],'degree':[2,3,5,8]}\n",
        "svc = svm.SVC(probability=True)\n",
        "score_svc = ['balanced_accuracy','f1','roc_auc']\n",
        "for i in score_svc:\n",
        "  gs_svc = GridSearchCV(estimator = svc,param_grid=param_svc,scoring = i)\n",
        "  gs_svc.fit(np.array(x_new),np.squeeze(y1_new))\n",
        "  print('Best param')\n",
        "  print(gs_svc.best_params_)\n",
        "  print('best ' + i+ ':' + str(gs_svc.best_score_))\n"
      ]
    },
    {
      "cell_type": "markdown",
      "metadata": {
        "id": "9gBMlkjxYyTu"
      },
      "source": [
        "### Applying on Treatment Behaviour"
      ]
    },
    {
      "cell_type": "code",
      "execution_count": 25,
      "metadata": {
        "colab": {
          "base_uri": "https://localhost:8080/"
        },
        "id": "tYL9Z1DsYsGs",
        "outputId": "6b227239-72ea-4753-eb42-1c6bacdb639d"
      },
      "outputs": [
        {
          "output_type": "stream",
          "name": "stdout",
          "text": [
            "Best param\n",
            "{'C': 1, 'degree': 2, 'kernel': 'linear'}\n",
            "best balanced_accuracy:0.7372720797720799\n",
            "Best param\n",
            "{'C': 1, 'degree': 2, 'kernel': 'linear'}\n",
            "best f1_macro:0.7360952826101016\n",
            "Best param\n",
            "{'C': 10, 'degree': 8, 'kernel': 'rbf'}\n",
            "best roc_auc_ovr:0.9069989016348499\n"
          ]
        }
      ],
      "source": [
        "param_svc = {'kernel':('rbf','linear','poly'),'C':[.001,.01,1,10],'degree':[2,3,5,8]}\n",
        "svc = svm.SVC(probability=True)\n",
        "score_svc = ['balanced_accuracy','f1_macro','roc_auc_ovr']\n",
        "for i in score_svc:\n",
        "  gs_svc = GridSearchCV(estimator = svc,param_grid=param_svc,scoring = i)\n",
        "  gs_svc.fit(np.array(x_new),np.squeeze(y2_new))\n",
        "  print('Best param')\n",
        "  print(gs_svc.best_params_)\n",
        "  print('best ' + i+ ':' + str(gs_svc.best_score_))\n"
      ]
    },
    {
      "cell_type": "markdown",
      "metadata": {
        "id": "qVCu9CXtbIyG"
      },
      "source": [
        "# d. Random forest (number of trees, max tree depth, max number of variables per node)"
      ]
    },
    {
      "cell_type": "markdown",
      "metadata": {
        "id": "YPdwTapVbOi3"
      },
      "source": [
        "### Applying on Genotype"
      ]
    },
    {
      "cell_type": "code",
      "execution_count": 26,
      "metadata": {
        "colab": {
          "base_uri": "https://localhost:8080/"
        },
        "id": "YH9AsqjLZBwK",
        "outputId": "3a891cf6-5216-4f2a-a0ee-0be5116cc56b"
      },
      "outputs": [
        {
          "output_type": "stream",
          "name": "stdout",
          "text": [
            "Fitting 5 folds for each of 75 candidates, totalling 375 fits\n",
            "{'max_depth': 8, 'max_features': 'auto', 'n_estimators': 200}\n",
            "best balanced_accuracy:0.6630712965195723\n",
            "Fitting 5 folds for each of 75 candidates, totalling 375 fits\n",
            "{'max_depth': 8, 'max_features': 'sqrt', 'n_estimators': 20}\n",
            "best f1:0.6192236793455609\n",
            "Fitting 5 folds for each of 75 candidates, totalling 375 fits\n",
            "{'max_depth': 4, 'max_features': 'sqrt', 'n_estimators': 20}\n",
            "best roc_auc:0.7540781823540443\n"
          ]
        }
      ],
      "source": [
        "rf = RandomForestClassifier()\n",
        "score_rf = ['balanced_accuracy','f1','roc_auc']\n",
        "\n",
        "# declaring all the parameters i.e. number of trees, max tree depth, max number of variables per node\n",
        "param_rf = {'max_depth': [2,4,6,8,10] , 'max_features':['auto','sqrt','log2'] , 'n_estimators': [10, 20, 50,100,200]}\n",
        "for i in score_rf:\n",
        "  gs_rf = GridSearchCV(estimator = rf, param_grid = param_rf,scoring = i, cv = 5, n_jobs = -1, verbose = 2)\n",
        "  gs_rf.fit(np.array(x_new),np.squeeze(y1_new))\n",
        "  print(gs_rf.best_params_)\n",
        "  print('best ' + i+ ':' + str(gs_rf.best_score_))"
      ]
    },
    {
      "cell_type": "markdown",
      "metadata": {
        "id": "v36mnrv6d40K"
      },
      "source": [
        "### Applying to Treatment Behaviour"
      ]
    },
    {
      "cell_type": "code",
      "execution_count": 27,
      "metadata": {
        "colab": {
          "base_uri": "https://localhost:8080/"
        },
        "id": "Fcm8HHSod0wY",
        "outputId": "2707ce2c-31be-4eed-d47b-fccb366814f2"
      },
      "outputs": [
        {
          "output_type": "stream",
          "name": "stdout",
          "text": [
            "Fitting 5 folds for each of 75 candidates, totalling 375 fits\n",
            "{'max_depth': 10, 'max_features': 'sqrt', 'n_estimators': 20}\n",
            "best balanced_accuracy:0.6763247863247862\n",
            "Fitting 5 folds for each of 75 candidates, totalling 375 fits\n",
            "{'max_depth': 4, 'max_features': 'sqrt', 'n_estimators': 10}\n",
            "best f1_macro:0.6556326718523494\n",
            "Fitting 5 folds for each of 75 candidates, totalling 375 fits\n",
            "{'max_depth': 8, 'max_features': 'auto', 'n_estimators': 100}\n",
            "best roc_auc_ovr:0.8942737550235446\n"
          ]
        }
      ],
      "source": [
        "rf = RandomForestClassifier()\n",
        "score_rf = ['balanced_accuracy','f1_macro','roc_auc_ovr']\n",
        "\n",
        "# declaring all the parameters i.e. number of trees, max tree depth, max number of variables per node\n",
        "param_rf = {'max_depth': [2,4,6,8,10] , 'max_features':['auto','sqrt','log2'] , 'n_estimators': [10, 20, 50,100,200]}\n",
        "for i in score_rf:\n",
        "  gs_rf = GridSearchCV(estimator = rf, param_grid = param_rf,scoring = i, cv = 5, n_jobs = -1, verbose = 2)\n",
        "  gs_rf.fit(np.array(x_new),np.squeeze(y2_new))\n",
        "  print(gs_rf.best_params_)\n",
        "  print('best ' + i+ ':' + str(gs_rf.best_score_))"
      ]
    },
    {
      "cell_type": "code",
      "execution_count": 28,
      "metadata": {
        "id": "h8egphdt4PqI"
      },
      "outputs": [],
      "source": [
        "# y1_new = np.array(y1_new)\n",
        "# y1_new"
      ]
    },
    {
      "cell_type": "markdown",
      "metadata": {
        "id": "ANB1PaBGhbK9"
      },
      "source": [
        "# 6. Check feature importance for each model to see if the same proteins are important for each model. Read up on how to find feature importance."
      ]
    },
    {
      "cell_type": "markdown",
      "metadata": {
        "id": "FuBuXrHoUF77"
      },
      "source": [
        "### Using RFECV feature from Feature scaling on Genotype"
      ]
    },
    {
      "cell_type": "code",
      "execution_count": 29,
      "metadata": {
        "colab": {
          "base_uri": "https://localhost:8080/",
          "height": 424
        },
        "id": "AgnzGx_IeCRN",
        "outputId": "8aff457c-e0bb-4c33-b7dc-22ef90aaab9f"
      },
      "outputs": [
        {
          "output_type": "execute_result",
          "data": {
            "text/plain": [
              "     0\n",
              "0   13\n",
              "1   46\n",
              "2   10\n",
              "3   27\n",
              "4   30\n",
              "..  ..\n",
              "65  15\n",
              "66  50\n",
              "67  16\n",
              "68  37\n",
              "69  18\n",
              "\n",
              "[70 rows x 1 columns]"
            ],
            "text/html": [
              "\n",
              "  <div id=\"df-acdd35df-f0a1-43e5-86d1-05358014eadf\">\n",
              "    <div class=\"colab-df-container\">\n",
              "      <div>\n",
              "<style scoped>\n",
              "    .dataframe tbody tr th:only-of-type {\n",
              "        vertical-align: middle;\n",
              "    }\n",
              "\n",
              "    .dataframe tbody tr th {\n",
              "        vertical-align: top;\n",
              "    }\n",
              "\n",
              "    .dataframe thead th {\n",
              "        text-align: right;\n",
              "    }\n",
              "</style>\n",
              "<table border=\"1\" class=\"dataframe\">\n",
              "  <thead>\n",
              "    <tr style=\"text-align: right;\">\n",
              "      <th></th>\n",
              "      <th>0</th>\n",
              "    </tr>\n",
              "  </thead>\n",
              "  <tbody>\n",
              "    <tr>\n",
              "      <th>0</th>\n",
              "      <td>13</td>\n",
              "    </tr>\n",
              "    <tr>\n",
              "      <th>1</th>\n",
              "      <td>46</td>\n",
              "    </tr>\n",
              "    <tr>\n",
              "      <th>2</th>\n",
              "      <td>10</td>\n",
              "    </tr>\n",
              "    <tr>\n",
              "      <th>3</th>\n",
              "      <td>27</td>\n",
              "    </tr>\n",
              "    <tr>\n",
              "      <th>4</th>\n",
              "      <td>30</td>\n",
              "    </tr>\n",
              "    <tr>\n",
              "      <th>...</th>\n",
              "      <td>...</td>\n",
              "    </tr>\n",
              "    <tr>\n",
              "      <th>65</th>\n",
              "      <td>15</td>\n",
              "    </tr>\n",
              "    <tr>\n",
              "      <th>66</th>\n",
              "      <td>50</td>\n",
              "    </tr>\n",
              "    <tr>\n",
              "      <th>67</th>\n",
              "      <td>16</td>\n",
              "    </tr>\n",
              "    <tr>\n",
              "      <th>68</th>\n",
              "      <td>37</td>\n",
              "    </tr>\n",
              "    <tr>\n",
              "      <th>69</th>\n",
              "      <td>18</td>\n",
              "    </tr>\n",
              "  </tbody>\n",
              "</table>\n",
              "<p>70 rows × 1 columns</p>\n",
              "</div>\n",
              "      <button class=\"colab-df-convert\" onclick=\"convertToInteractive('df-acdd35df-f0a1-43e5-86d1-05358014eadf')\"\n",
              "              title=\"Convert this dataframe to an interactive table.\"\n",
              "              style=\"display:none;\">\n",
              "        \n",
              "  <svg xmlns=\"http://www.w3.org/2000/svg\" height=\"24px\"viewBox=\"0 0 24 24\"\n",
              "       width=\"24px\">\n",
              "    <path d=\"M0 0h24v24H0V0z\" fill=\"none\"/>\n",
              "    <path d=\"M18.56 5.44l.94 2.06.94-2.06 2.06-.94-2.06-.94-.94-2.06-.94 2.06-2.06.94zm-11 1L8.5 8.5l.94-2.06 2.06-.94-2.06-.94L8.5 2.5l-.94 2.06-2.06.94zm10 10l.94 2.06.94-2.06 2.06-.94-2.06-.94-.94-2.06-.94 2.06-2.06.94z\"/><path d=\"M17.41 7.96l-1.37-1.37c-.4-.4-.92-.59-1.43-.59-.52 0-1.04.2-1.43.59L10.3 9.45l-7.72 7.72c-.78.78-.78 2.05 0 2.83L4 21.41c.39.39.9.59 1.41.59.51 0 1.02-.2 1.41-.59l7.78-7.78 2.81-2.81c.8-.78.8-2.07 0-2.86zM5.41 20L4 18.59l7.72-7.72 1.47 1.35L5.41 20z\"/>\n",
              "  </svg>\n",
              "      </button>\n",
              "      \n",
              "  <style>\n",
              "    .colab-df-container {\n",
              "      display:flex;\n",
              "      flex-wrap:wrap;\n",
              "      gap: 12px;\n",
              "    }\n",
              "\n",
              "    .colab-df-convert {\n",
              "      background-color: #E8F0FE;\n",
              "      border: none;\n",
              "      border-radius: 50%;\n",
              "      cursor: pointer;\n",
              "      display: none;\n",
              "      fill: #1967D2;\n",
              "      height: 32px;\n",
              "      padding: 0 0 0 0;\n",
              "      width: 32px;\n",
              "    }\n",
              "\n",
              "    .colab-df-convert:hover {\n",
              "      background-color: #E2EBFA;\n",
              "      box-shadow: 0px 1px 2px rgba(60, 64, 67, 0.3), 0px 1px 3px 1px rgba(60, 64, 67, 0.15);\n",
              "      fill: #174EA6;\n",
              "    }\n",
              "\n",
              "    [theme=dark] .colab-df-convert {\n",
              "      background-color: #3B4455;\n",
              "      fill: #D2E3FC;\n",
              "    }\n",
              "\n",
              "    [theme=dark] .colab-df-convert:hover {\n",
              "      background-color: #434B5C;\n",
              "      box-shadow: 0px 1px 3px 1px rgba(0, 0, 0, 0.15);\n",
              "      filter: drop-shadow(0px 1px 2px rgba(0, 0, 0, 0.3));\n",
              "      fill: #FFFFFF;\n",
              "    }\n",
              "  </style>\n",
              "\n",
              "      <script>\n",
              "        const buttonEl =\n",
              "          document.querySelector('#df-acdd35df-f0a1-43e5-86d1-05358014eadf button.colab-df-convert');\n",
              "        buttonEl.style.display =\n",
              "          google.colab.kernel.accessAllowed ? 'block' : 'none';\n",
              "\n",
              "        async function convertToInteractive(key) {\n",
              "          const element = document.querySelector('#df-acdd35df-f0a1-43e5-86d1-05358014eadf');\n",
              "          const dataTable =\n",
              "            await google.colab.kernel.invokeFunction('convertToInteractive',\n",
              "                                                     [key], {});\n",
              "          if (!dataTable) return;\n",
              "\n",
              "          const docLinkHtml = 'Like what you see? Visit the ' +\n",
              "            '<a target=\"_blank\" href=https://colab.research.google.com/notebooks/data_table.ipynb>data table notebook</a>'\n",
              "            + ' to learn more about interactive tables.';\n",
              "          element.innerHTML = '';\n",
              "          dataTable['output_type'] = 'display_data';\n",
              "          await google.colab.output.renderOutput(dataTable, element);\n",
              "          const docLink = document.createElement('div');\n",
              "          docLink.innerHTML = docLinkHtml;\n",
              "          element.appendChild(docLink);\n",
              "        }\n",
              "      </script>\n",
              "    </div>\n",
              "  </div>\n",
              "  "
            ]
          },
          "metadata": {},
          "execution_count": 29
        }
      ],
      "source": [
        "from sklearn.feature_selection import RFECV\n",
        "svc = svm.SVC(kernel='linear')\n",
        "svc.fit(x_new , y1_new)\n",
        "selector_1 = RFECV(estimator=svc , step=1 , cv=2)\n",
        "selector_1.fit(x_new , y1_new)\n",
        "s_1 = selector_1.ranking_\n",
        "# s_1.sort()\n",
        "s_1 = pd.DataFrame(s_1)\n",
        "# s_1.value_counts()\n",
        "s_1"
      ]
    },
    {
      "cell_type": "code",
      "execution_count": 30,
      "metadata": {
        "colab": {
          "base_uri": "https://localhost:8080/",
          "height": 286
        },
        "id": "7kXVSsyiUqyV",
        "outputId": "0bee4495-f8ba-48a4-da73-dbd33cfa1029"
      },
      "outputs": [
        {
          "output_type": "execute_result",
          "data": {
            "text/plain": [
              "<matplotlib.axes._subplots.AxesSubplot at 0x7f3461a466d0>"
            ]
          },
          "metadata": {},
          "execution_count": 30
        },
        {
          "output_type": "display_data",
          "data": {
            "text/plain": [
              "<Figure size 432x288 with 1 Axes>"
            ],
            "image/png": "[encoded data removed]"
          },
          "metadata": {
            "needs_background": "light"
          }
        }
      ],
      "source": [
        "s_1.plot(kind='bar')"
      ]
    },
    {
      "cell_type": "code",
      "execution_count": 31,
      "metadata": {
        "colab": {
          "base_uri": "https://localhost:8080/",
          "height": 279
        },
        "id": "eIjEeK-ubwpo",
        "outputId": "e7d9c8c8-7156-41a5-f48c-88daecea4e09"
      },
      "outputs": [
        {
          "output_type": "display_data",
          "data": {
            "text/plain": [
              "<Figure size 432x288 with 1 Axes>"
            ],
            "image/png": "[encoded data removed]"
          },
          "metadata": {
            "needs_background": "light"
          }
        }
      ],
      "source": [
        "min_features_to_select = 1\n",
        "plt.figure()\n",
        "plt.xlabel(\"Number of features selected\")\n",
        "plt.ylabel(\"Cross validation score (accuracy)\")\n",
        "plt.plot(\n",
        "    range(min_features_to_select, len(selector_1.grid_scores_) + min_features_to_select),\n",
        "    selector_1.grid_scores_,\n",
        ")\n",
        "plt.xticks()\n",
        "plt.show()"
      ]
    },
    {
      "cell_type": "markdown",
      "metadata": {
        "id": "C18NgVwDCi_6"
      },
      "source": [
        "Here we can see that we are gettingg approximately 84% accuracy with 14 features."
      ]
    },
    {
      "cell_type": "code",
      "execution_count": 32,
      "metadata": {
        "id": "g6LbRsiOdI9Q"
      },
      "outputs": [],
      "source": [
        "q_1 = selector_1.feature_names_in_\n",
        "q_1 = pd.DataFrame(q_1)"
      ]
    },
    {
      "cell_type": "code",
      "execution_count": 33,
      "metadata": {
        "colab": {
          "base_uri": "https://localhost:8080/"
        },
        "id": "Aq7zqIRCSDOM",
        "outputId": "44b67499-c605-41f8-b8b1-79a7b9b5d6ad"
      },
      "outputs": [
        {
          "output_type": "execute_result",
          "data": {
            "text/plain": [
              "{'ADARB1_N': 31,\n",
              " 'AKT_N': 22,\n",
              " 'AMPKA_N': 19,\n",
              " 'APP_N': 1,\n",
              " 'ARC_N': 63,\n",
              " 'AcetylH3K9_N': 60,\n",
              " 'BAD_N': 55,\n",
              " 'BAX_N': 53,\n",
              " 'BCL2_N': 24,\n",
              " 'BDNF_N': 46,\n",
              " 'CAMKII_N': 34,\n",
              " 'CDK5_N': 41,\n",
              " 'CREB_N': 29,\n",
              " 'CaNA_N': 18,\n",
              " 'DSCR1_N': 11,\n",
              " 'DYRK1A_N': 13,\n",
              " 'EGR1_N': 16,\n",
              " 'ELK_N': 1,\n",
              " 'ERBB4_N': 5,\n",
              " 'ERK_N': 3,\n",
              " 'GFAP_N': 59,\n",
              " 'GSK3B_N': 64,\n",
              " 'GluR3_N': 4,\n",
              " 'GluR4_N': 45,\n",
              " 'H3AcK18_N': 50,\n",
              " 'H3MeK4_N': 37,\n",
              " 'IL1B_N': 26,\n",
              " 'JNK_N': 49,\n",
              " 'MEK_N': 44,\n",
              " 'MTOR_N': 1,\n",
              " 'NR1_N': 10,\n",
              " 'NR2A_N': 27,\n",
              " 'NR2B_N': 58,\n",
              " 'NUMB_N': 1,\n",
              " 'P3525_N': 25,\n",
              " 'P38_N': 32,\n",
              " 'P70S6_N': 7,\n",
              " 'PKCA_N': 35,\n",
              " 'PSD95_N': 56,\n",
              " 'RAPTOR_N': 6,\n",
              " 'RRP1_N': 62,\n",
              " 'RSK_N': 38,\n",
              " 'S6_N': 43,\n",
              " 'SHH_N': 54,\n",
              " 'SNCA_N': 39,\n",
              " 'SOD1_N': 48,\n",
              " 'SYP_N': 15,\n",
              " 'TIAM1_N': 1,\n",
              " 'TRKA_N': 2,\n",
              " 'Tau_N': 65,\n",
              " 'Ubiquitin_N': 40,\n",
              " 'nNOS_N': 51,\n",
              " 'pAKT_N': 30,\n",
              " 'pBRAF_N': 52,\n",
              " 'pCAMKII_N': 9,\n",
              " 'pCASP9_N': 14,\n",
              " 'pCFOS_N': 28,\n",
              " 'pCREB_N': 33,\n",
              " 'pELK_N': 17,\n",
              " 'pGSK3B_N': 57,\n",
              " 'pGSK3B_Tyr216_N': 12,\n",
              " 'pJNK_N': 23,\n",
              " 'pMEK_N': 61,\n",
              " 'pMTOR_N': 42,\n",
              " 'pNR2A_N': 21,\n",
              " 'pNUMB_N': 1,\n",
              " 'pP70S6_N': 20,\n",
              " 'pPKCAB_N': 47,\n",
              " 'pPKCG_N': 8,\n",
              " 'pRSK_N': 36}"
            ]
          },
          "metadata": {},
          "execution_count": 33
        }
      ],
      "source": [
        "res_1 = dict(zip(q_1.iloc[:,-1] ,\n",
        "                 s_1.iloc[:,-1]))\n",
        "res_1"
      ]
    },
    {
      "cell_type": "code",
      "execution_count": 34,
      "metadata": {
        "colab": {
          "base_uri": "https://localhost:8080/"
        },
        "id": "bn_6JOgminbl",
        "outputId": "45f2a119-050b-4429-aada-aa82973a11bc"
      },
      "outputs": [
        {
          "output_type": "execute_result",
          "data": {
            "text/plain": [
              "['ELK_N',\n",
              " 'ERK_N',\n",
              " 'TRKA_N',\n",
              " 'APP_N',\n",
              " 'MTOR_N',\n",
              " 'pNUMB_N',\n",
              " 'RAPTOR_N',\n",
              " 'TIAM1_N',\n",
              " 'NUMB_N',\n",
              " 'P70S6_N',\n",
              " 'pPKCG_N',\n",
              " 'ERBB4_N',\n",
              " 'GluR3_N']"
            ]
          },
          "metadata": {},
          "execution_count": 34
        }
      ],
      "source": [
        "colums_14 = []\n",
        "for i,j in res_1.items():\n",
        "  if j<9:\n",
        "    colums_14.append(i)\n",
        "colums_14"
      ]
    },
    {
      "cell_type": "markdown",
      "metadata": {
        "id": "V4qcVsvJTHlf"
      },
      "source": [
        "Now we want x to have only these 14 columns."
      ]
    },
    {
      "cell_type": "code",
      "execution_count": 35,
      "metadata": {
        "id": "FiFpm7TxLMKj"
      },
      "outputs": [],
      "source": [
        "x1_drop = [x_new.drop(colums_14, axis=1)]"
      ]
    },
    {
      "cell_type": "code",
      "execution_count": 36,
      "metadata": {
        "colab": {
          "base_uri": "https://localhost:8080/",
          "height": 424
        },
        "id": "3vzpdrzuVGAb",
        "outputId": "040288a1-b861-4b48-f2a3-15f53b8c00ee"
      },
      "outputs": [
        {
          "output_type": "execute_result",
          "data": {
            "text/plain": [
              "        ELK_N     ERK_N    TRKA_N     APP_N    MTOR_N   pNUMB_N  RAPTOR_N  \\\n",
              "0    2.032098  1.865816  0.974728  0.905988  0.136137  0.596277  0.484745   \n",
              "1    1.717668  1.555130  0.696205  0.504819 -0.410179  0.165981  0.141166   \n",
              "2    1.731097  1.689014  0.735024  0.369411 -0.387611  0.094857 -0.031941   \n",
              "3    0.300142  0.754719  0.312073  0.149830 -0.321911  0.141857  0.268612   \n",
              "4    0.414846  0.640049  0.046655 -0.060892 -0.641406 -0.105587 -0.049102   \n",
              "..        ...       ...       ...       ...       ...       ...       ...   \n",
              "757 -0.266566 -0.254991 -0.090301  0.157137 -0.590201 -0.291012  0.440202   \n",
              "758 -0.051534  0.036708  0.197198  0.675512 -0.226549  0.308245  0.864114   \n",
              "759 -0.430283 -0.539054 -0.098828  0.259760 -0.099453  0.105678  0.801716   \n",
              "760 -0.498859 -0.642619 -0.216421  0.139152 -0.220305 -0.180338  0.986099   \n",
              "761 -0.514525 -0.547701 -0.230753  0.060703 -0.292376  0.023981  1.212588   \n",
              "\n",
              "      TIAM1_N    NUMB_N   P70S6_N   pPKCG_N   ERBB4_N   GluR3_N  \n",
              "0    1.073032  0.012156 -0.625642 -0.409726 -0.731063  0.098131  \n",
              "1    0.614182  0.009997 -0.596986 -0.416401 -0.384552  0.374696  \n",
              "2    0.495650  0.087457 -0.546870 -0.260318 -0.709516  0.560666  \n",
              "3    0.422032 -0.673897 -1.109104 -0.098511 -1.005008  0.288487  \n",
              "4    0.040722 -0.726655 -1.062925 -0.037064 -0.921105  0.856006  \n",
              "..        ...       ...       ...       ...       ...       ...  \n",
              "757 -0.119859  1.087872  0.691587  1.743426  0.337865 -0.404641  \n",
              "758  0.240236  1.037593  0.824921  1.713158  0.167175 -0.554998  \n",
              "759  0.361479  0.076489  0.006819  1.526555 -0.222218 -0.866606  \n",
              "760 -0.035177  0.479165  0.300240  1.626188 -0.009936 -0.674514  \n",
              "761  0.014931  0.492879  0.463775  1.594628  0.152448 -0.872550  \n",
              "\n",
              "[762 rows x 13 columns]"
            ],
            "text/html": [
              "\n",
              "  <div id=\"df-9352873d-24a2-4d07-ba9d-5800b5c2bdd9\">\n",
              "    <div class=\"colab-df-container\">\n",
              "      <div>\n",
              "<style scoped>\n",
              "    .dataframe tbody tr th:only-of-type {\n",
              "        vertical-align: middle;\n",
              "    }\n",
              "\n",
              "    .dataframe tbody tr th {\n",
              "        vertical-align: top;\n",
              "    }\n",
              "\n",
              "    .dataframe thead th {\n",
              "        text-align: right;\n",
              "    }\n",
              "</style>\n",
              "<table border=\"1\" class=\"dataframe\">\n",
              "  <thead>\n",
              "    <tr style=\"text-align: right;\">\n",
              "      <th></th>\n",
              "      <th>ELK_N</th>\n",
              "      <th>ERK_N</th>\n",
              "      <th>TRKA_N</th>\n",
              "      <th>APP_N</th>\n",
              "      <th>MTOR_N</th>\n",
              "      <th>pNUMB_N</th>\n",
              "      <th>RAPTOR_N</th>\n",
              "      <th>TIAM1_N</th>\n",
              "      <th>NUMB_N</th>\n",
              "      <th>P70S6_N</th>\n",
              "      <th>pPKCG_N</th>\n",
              "      <th>ERBB4_N</th>\n",
              "      <th>GluR3_N</th>\n",
              "    </tr>\n",
              "  </thead>\n",
              "  <tbody>\n",
              "    <tr>\n",
              "      <th>0</th>\n",
              "      <td>2.032098</td>\n",
              "      <td>1.865816</td>\n",
              "      <td>0.974728</td>\n",
              "      <td>0.905988</td>\n",
              "      <td>0.136137</td>\n",
              "      <td>0.596277</td>\n",
              "      <td>0.484745</td>\n",
              "      <td>1.073032</td>\n",
              "      <td>0.012156</td>\n",
              "      <td>-0.625642</td>\n",
              "      <td>-0.409726</td>\n",
              "      <td>-0.731063</td>\n",
              "      <td>0.098131</td>\n",
              "    </tr>\n",
              "    <tr>\n",
              "      <th>1</th>\n",
              "      <td>1.717668</td>\n",
              "      <td>1.555130</td>\n",
              "      <td>0.696205</td>\n",
              "      <td>0.504819</td>\n",
              "      <td>-0.410179</td>\n",
              "      <td>0.165981</td>\n",
              "      <td>0.141166</td>\n",
              "      <td>0.614182</td>\n",
              "      <td>0.009997</td>\n",
              "      <td>-0.596986</td>\n",
              "      <td>-0.416401</td>\n",
              "      <td>-0.384552</td>\n",
              "      <td>0.374696</td>\n",
              "    </tr>\n",
              "    <tr>\n",
              "      <th>2</th>\n",
              "      <td>1.731097</td>\n",
              "      <td>1.689014</td>\n",
              "      <td>0.735024</td>\n",
              "      <td>0.369411</td>\n",
              "      <td>-0.387611</td>\n",
              "      <td>0.094857</td>\n",
              "      <td>-0.031941</td>\n",
              "      <td>0.495650</td>\n",
              "      <td>0.087457</td>\n",
              "      <td>-0.546870</td>\n",
              "      <td>-0.260318</td>\n",
              "      <td>-0.709516</td>\n",
              "      <td>0.560666</td>\n",
              "    </tr>\n",
              "    <tr>\n",
              "      <th>3</th>\n",
              "      <td>0.300142</td>\n",
              "      <td>0.754719</td>\n",
              "      <td>0.312073</td>\n",
              "      <td>0.149830</td>\n",
              "      <td>-0.321911</td>\n",
              "      <td>0.141857</td>\n",
              "      <td>0.268612</td>\n",
              "      <td>0.422032</td>\n",
              "      <td>-0.673897</td>\n",
              "      <td>-1.109104</td>\n",
              "      <td>-0.098511</td>\n",
              "      <td>-1.005008</td>\n",
              "      <td>0.288487</td>\n",
              "    </tr>\n",
              "    <tr>\n",
              "      <th>4</th>\n",
              "      <td>0.414846</td>\n",
              "      <td>0.640049</td>\n",
              "      <td>0.046655</td>\n",
              "      <td>-0.060892</td>\n",
              "      <td>-0.641406</td>\n",
              "      <td>-0.105587</td>\n",
              "      <td>-0.049102</td>\n",
              "      <td>0.040722</td>\n",
              "      <td>-0.726655</td>\n",
              "      <td>-1.062925</td>\n",
              "      <td>-0.037064</td>\n",
              "      <td>-0.921105</td>\n",
              "      <td>0.856006</td>\n",
              "    </tr>\n",
              "    <tr>\n",
              "      <th>...</th>\n",
              "      <td>...</td>\n",
              "      <td>...</td>\n",
              "      <td>...</td>\n",
              "      <td>...</td>\n",
              "      <td>...</td>\n",
              "      <td>...</td>\n",
              "      <td>...</td>\n",
              "      <td>...</td>\n",
              "      <td>...</td>\n",
              "      <td>...</td>\n",
              "      <td>...</td>\n",
              "      <td>...</td>\n",
              "      <td>...</td>\n",
              "    </tr>\n",
              "    <tr>\n",
              "      <th>757</th>\n",
              "      <td>-0.266566</td>\n",
              "      <td>-0.254991</td>\n",
              "      <td>-0.090301</td>\n",
              "      <td>0.157137</td>\n",
              "      <td>-0.590201</td>\n",
              "      <td>-0.291012</td>\n",
              "      <td>0.440202</td>\n",
              "      <td>-0.119859</td>\n",
              "      <td>1.087872</td>\n",
              "      <td>0.691587</td>\n",
              "      <td>1.743426</td>\n",
              "      <td>0.337865</td>\n",
              "      <td>-0.404641</td>\n",
              "    </tr>\n",
              "    <tr>\n",
              "      <th>758</th>\n",
              "      <td>-0.051534</td>\n",
              "      <td>0.036708</td>\n",
              "      <td>0.197198</td>\n",
              "      <td>0.675512</td>\n",
              "      <td>-0.226549</td>\n",
              "      <td>0.308245</td>\n",
              "      <td>0.864114</td>\n",
              "      <td>0.240236</td>\n",
              "      <td>1.037593</td>\n",
              "      <td>0.824921</td>\n",
              "      <td>1.713158</td>\n",
              "      <td>0.167175</td>\n",
              "      <td>-0.554998</td>\n",
              "    </tr>\n",
              "    <tr>\n",
              "      <th>759</th>\n",
              "      <td>-0.430283</td>\n",
              "      <td>-0.539054</td>\n",
              "      <td>-0.098828</td>\n",
              "      <td>0.259760</td>\n",
              "      <td>-0.099453</td>\n",
              "      <td>0.105678</td>\n",
              "      <td>0.801716</td>\n",
              "      <td>0.361479</td>\n",
              "      <td>0.076489</td>\n",
              "      <td>0.006819</td>\n",
              "      <td>1.526555</td>\n",
              "      <td>-0.222218</td>\n",
              "      <td>-0.866606</td>\n",
              "    </tr>\n",
              "    <tr>\n",
              "      <th>760</th>\n",
              "      <td>-0.498859</td>\n",
              "      <td>-0.642619</td>\n",
              "      <td>-0.216421</td>\n",
              "      <td>0.139152</td>\n",
              "      <td>-0.220305</td>\n",
              "      <td>-0.180338</td>\n",
              "      <td>0.986099</td>\n",
              "      <td>-0.035177</td>\n",
              "      <td>0.479165</td>\n",
              "      <td>0.300240</td>\n",
              "      <td>1.626188</td>\n",
              "      <td>-0.009936</td>\n",
              "      <td>-0.674514</td>\n",
              "    </tr>\n",
              "    <tr>\n",
              "      <th>761</th>\n",
              "      <td>-0.514525</td>\n",
              "      <td>-0.547701</td>\n",
              "      <td>-0.230753</td>\n",
              "      <td>0.060703</td>\n",
              "      <td>-0.292376</td>\n",
              "      <td>0.023981</td>\n",
              "      <td>1.212588</td>\n",
              "      <td>0.014931</td>\n",
              "      <td>0.492879</td>\n",
              "      <td>0.463775</td>\n",
              "      <td>1.594628</td>\n",
              "      <td>0.152448</td>\n",
              "      <td>-0.872550</td>\n",
              "    </tr>\n",
              "  </tbody>\n",
              "</table>\n",
              "<p>762 rows × 13 columns</p>\n",
              "</div>\n",
              "      <button class=\"colab-df-convert\" onclick=\"convertToInteractive('df-9352873d-24a2-4d07-ba9d-5800b5c2bdd9')\"\n",
              "              title=\"Convert this dataframe to an interactive table.\"\n",
              "              style=\"display:none;\">\n",
              "        \n",
              "  <svg xmlns=\"http://www.w3.org/2000/svg\" height=\"24px\"viewBox=\"0 0 24 24\"\n",
              "       width=\"24px\">\n",
              "    <path d=\"M0 0h24v24H0V0z\" fill=\"none\"/>\n",
              "    <path d=\"M18.56 5.44l.94 2.06.94-2.06 2.06-.94-2.06-.94-.94-2.06-.94 2.06-2.06.94zm-11 1L8.5 8.5l.94-2.06 2.06-.94-2.06-.94L8.5 2.5l-.94 2.06-2.06.94zm10 10l.94 2.06.94-2.06 2.06-.94-2.06-.94-.94-2.06-.94 2.06-2.06.94z\"/><path d=\"M17.41 7.96l-1.37-1.37c-.4-.4-.92-.59-1.43-.59-.52 0-1.04.2-1.43.59L10.3 9.45l-7.72 7.72c-.78.78-.78 2.05 0 2.83L4 21.41c.39.39.9.59 1.41.59.51 0 1.02-.2 1.41-.59l7.78-7.78 2.81-2.81c.8-.78.8-2.07 0-2.86zM5.41 20L4 18.59l7.72-7.72 1.47 1.35L5.41 20z\"/>\n",
              "  </svg>\n",
              "      </button>\n",
              "      \n",
              "  <style>\n",
              "    .colab-df-container {\n",
              "      display:flex;\n",
              "      flex-wrap:wrap;\n",
              "      gap: 12px;\n",
              "    }\n",
              "\n",
              "    .colab-df-convert {\n",
              "      background-color: #E8F0FE;\n",
              "      border: none;\n",
              "      border-radius: 50%;\n",
              "      cursor: pointer;\n",
              "      display: none;\n",
              "      fill: #1967D2;\n",
              "      height: 32px;\n",
              "      padding: 0 0 0 0;\n",
              "      width: 32px;\n",
              "    }\n",
              "\n",
              "    .colab-df-convert:hover {\n",
              "      background-color: #E2EBFA;\n",
              "      box-shadow: 0px 1px 2px rgba(60, 64, 67, 0.3), 0px 1px 3px 1px rgba(60, 64, 67, 0.15);\n",
              "      fill: #174EA6;\n",
              "    }\n",
              "\n",
              "    [theme=dark] .colab-df-convert {\n",
              "      background-color: #3B4455;\n",
              "      fill: #D2E3FC;\n",
              "    }\n",
              "\n",
              "    [theme=dark] .colab-df-convert:hover {\n",
              "      background-color: #434B5C;\n",
              "      box-shadow: 0px 1px 3px 1px rgba(0, 0, 0, 0.15);\n",
              "      filter: drop-shadow(0px 1px 2px rgba(0, 0, 0, 0.3));\n",
              "      fill: #FFFFFF;\n",
              "    }\n",
              "  </style>\n",
              "\n",
              "      <script>\n",
              "        const buttonEl =\n",
              "          document.querySelector('#df-9352873d-24a2-4d07-ba9d-5800b5c2bdd9 button.colab-df-convert');\n",
              "        buttonEl.style.display =\n",
              "          google.colab.kernel.accessAllowed ? 'block' : 'none';\n",
              "\n",
              "        async function convertToInteractive(key) {\n",
              "          const element = document.querySelector('#df-9352873d-24a2-4d07-ba9d-5800b5c2bdd9');\n",
              "          const dataTable =\n",
              "            await google.colab.kernel.invokeFunction('convertToInteractive',\n",
              "                                                     [key], {});\n",
              "          if (!dataTable) return;\n",
              "\n",
              "          const docLinkHtml = 'Like what you see? Visit the ' +\n",
              "            '<a target=\"_blank\" href=https://colab.research.google.com/notebooks/data_table.ipynb>data table notebook</a>'\n",
              "            + ' to learn more about interactive tables.';\n",
              "          element.innerHTML = '';\n",
              "          dataTable['output_type'] = 'display_data';\n",
              "          await google.colab.output.renderOutput(dataTable, element);\n",
              "          const docLink = document.createElement('div');\n",
              "          docLink.innerHTML = docLinkHtml;\n",
              "          element.appendChild(docLink);\n",
              "        }\n",
              "      </script>\n",
              "    </div>\n",
              "  </div>\n",
              "  "
            ]
          },
          "metadata": {},
          "execution_count": 36
        }
      ],
      "source": [
        "x1_new = pd.DataFrame(x_new , columns=colums_14)\n",
        "x1_new"
      ]
    },
    {
      "cell_type": "markdown",
      "metadata": {
        "id": "7nhTuCgDdhOZ"
      },
      "source": [
        "### Using RFECV feature from Feature scaling on Treatment Behaviour"
      ]
    },
    {
      "cell_type": "code",
      "execution_count": 37,
      "metadata": {
        "colab": {
          "base_uri": "https://localhost:8080/",
          "height": 424
        },
        "id": "M_do-l1RciKj",
        "outputId": "2aa57725-e0df-4905-87ed-31443e57fb9c"
      },
      "outputs": [
        {
          "output_type": "execute_result",
          "data": {
            "text/plain": [
              "     0\n",
              "0    1\n",
              "1    1\n",
              "2    1\n",
              "3    1\n",
              "4    1\n",
              "..  ..\n",
              "65  42\n",
              "66  43\n",
              "67  44\n",
              "68  45\n",
              "69  46\n",
              "\n",
              "[70 rows x 1 columns]"
            ],
            "text/html": [
              "\n",
              "  <div id=\"df-2f0d1e56-1ca4-4bf8-8d3a-5bfb53de3f2e\">\n",
              "    <div class=\"colab-df-container\">\n",
              "      <div>\n",
              "<style scoped>\n",
              "    .dataframe tbody tr th:only-of-type {\n",
              "        vertical-align: middle;\n",
              "    }\n",
              "\n",
              "    .dataframe tbody tr th {\n",
              "        vertical-align: top;\n",
              "    }\n",
              "\n",
              "    .dataframe thead th {\n",
              "        text-align: right;\n",
              "    }\n",
              "</style>\n",
              "<table border=\"1\" class=\"dataframe\">\n",
              "  <thead>\n",
              "    <tr style=\"text-align: right;\">\n",
              "      <th></th>\n",
              "      <th>0</th>\n",
              "    </tr>\n",
              "  </thead>\n",
              "  <tbody>\n",
              "    <tr>\n",
              "      <th>0</th>\n",
              "      <td>1</td>\n",
              "    </tr>\n",
              "    <tr>\n",
              "      <th>1</th>\n",
              "      <td>1</td>\n",
              "    </tr>\n",
              "    <tr>\n",
              "      <th>2</th>\n",
              "      <td>1</td>\n",
              "    </tr>\n",
              "    <tr>\n",
              "      <th>3</th>\n",
              "      <td>1</td>\n",
              "    </tr>\n",
              "    <tr>\n",
              "      <th>4</th>\n",
              "      <td>1</td>\n",
              "    </tr>\n",
              "    <tr>\n",
              "      <th>...</th>\n",
              "      <td>...</td>\n",
              "    </tr>\n",
              "    <tr>\n",
              "      <th>65</th>\n",
              "      <td>42</td>\n",
              "    </tr>\n",
              "    <tr>\n",
              "      <th>66</th>\n",
              "      <td>43</td>\n",
              "    </tr>\n",
              "    <tr>\n",
              "      <th>67</th>\n",
              "      <td>44</td>\n",
              "    </tr>\n",
              "    <tr>\n",
              "      <th>68</th>\n",
              "      <td>45</td>\n",
              "    </tr>\n",
              "    <tr>\n",
              "      <th>69</th>\n",
              "      <td>46</td>\n",
              "    </tr>\n",
              "  </tbody>\n",
              "</table>\n",
              "<p>70 rows × 1 columns</p>\n",
              "</div>\n",
              "      <button class=\"colab-df-convert\" onclick=\"convertToInteractive('df-2f0d1e56-1ca4-4bf8-8d3a-5bfb53de3f2e')\"\n",
              "              title=\"Convert this dataframe to an interactive table.\"\n",
              "              style=\"display:none;\">\n",
              "        \n",
              "  <svg xmlns=\"http://www.w3.org/2000/svg\" height=\"24px\"viewBox=\"0 0 24 24\"\n",
              "       width=\"24px\">\n",
              "    <path d=\"M0 0h24v24H0V0z\" fill=\"none\"/>\n",
              "    <path d=\"M18.56 5.44l.94 2.06.94-2.06 2.06-.94-2.06-.94-.94-2.06-.94 2.06-2.06.94zm-11 1L8.5 8.5l.94-2.06 2.06-.94-2.06-.94L8.5 2.5l-.94 2.06-2.06.94zm10 10l.94 2.06.94-2.06 2.06-.94-2.06-.94-.94-2.06-.94 2.06-2.06.94z\"/><path d=\"M17.41 7.96l-1.37-1.37c-.4-.4-.92-.59-1.43-.59-.52 0-1.04.2-1.43.59L10.3 9.45l-7.72 7.72c-.78.78-.78 2.05 0 2.83L4 21.41c.39.39.9.59 1.41.59.51 0 1.02-.2 1.41-.59l7.78-7.78 2.81-2.81c.8-.78.8-2.07 0-2.86zM5.41 20L4 18.59l7.72-7.72 1.47 1.35L5.41 20z\"/>\n",
              "  </svg>\n",
              "      </button>\n",
              "      \n",
              "  <style>\n",
              "    .colab-df-container {\n",
              "      display:flex;\n",
              "      flex-wrap:wrap;\n",
              "      gap: 12px;\n",
              "    }\n",
              "\n",
              "    .colab-df-convert {\n",
              "      background-color: #E8F0FE;\n",
              "      border: none;\n",
              "      border-radius: 50%;\n",
              "      cursor: pointer;\n",
              "      display: none;\n",
              "      fill: #1967D2;\n",
              "      height: 32px;\n",
              "      padding: 0 0 0 0;\n",
              "      width: 32px;\n",
              "    }\n",
              "\n",
              "    .colab-df-convert:hover {\n",
              "      background-color: #E2EBFA;\n",
              "      box-shadow: 0px 1px 2px rgba(60, 64, 67, 0.3), 0px 1px 3px 1px rgba(60, 64, 67, 0.15);\n",
              "      fill: #174EA6;\n",
              "    }\n",
              "\n",
              "    [theme=dark] .colab-df-convert {\n",
              "      background-color: #3B4455;\n",
              "      fill: #D2E3FC;\n",
              "    }\n",
              "\n",
              "    [theme=dark] .colab-df-convert:hover {\n",
              "      background-color: #434B5C;\n",
              "      box-shadow: 0px 1px 3px 1px rgba(0, 0, 0, 0.15);\n",
              "      filter: drop-shadow(0px 1px 2px rgba(0, 0, 0, 0.3));\n",
              "      fill: #FFFFFF;\n",
              "    }\n",
              "  </style>\n",
              "\n",
              "      <script>\n",
              "        const buttonEl =\n",
              "          document.querySelector('#df-2f0d1e56-1ca4-4bf8-8d3a-5bfb53de3f2e button.colab-df-convert');\n",
              "        buttonEl.style.display =\n",
              "          google.colab.kernel.accessAllowed ? 'block' : 'none';\n",
              "\n",
              "        async function convertToInteractive(key) {\n",
              "          const element = document.querySelector('#df-2f0d1e56-1ca4-4bf8-8d3a-5bfb53de3f2e');\n",
              "          const dataTable =\n",
              "            await google.colab.kernel.invokeFunction('convertToInteractive',\n",
              "                                                     [key], {});\n",
              "          if (!dataTable) return;\n",
              "\n",
              "          const docLinkHtml = 'Like what you see? Visit the ' +\n",
              "            '<a target=\"_blank\" href=https://colab.research.google.com/notebooks/data_table.ipynb>data table notebook</a>'\n",
              "            + ' to learn more about interactive tables.';\n",
              "          element.innerHTML = '';\n",
              "          dataTable['output_type'] = 'display_data';\n",
              "          await google.colab.output.renderOutput(dataTable, element);\n",
              "          const docLink = document.createElement('div');\n",
              "          docLink.innerHTML = docLinkHtml;\n",
              "          element.appendChild(docLink);\n",
              "        }\n",
              "      </script>\n",
              "    </div>\n",
              "  </div>\n",
              "  "
            ]
          },
          "metadata": {},
          "execution_count": 37
        }
      ],
      "source": [
        "svc.fit(x_new , y2_new)\n",
        "selector_2 = RFECV(estimator=svc , step=1 , cv=5)\n",
        "selector_2.fit(x_new , y2_new)\n",
        "s_2 = selector_2.ranking_\n",
        "s_2.sort()\n",
        "s_2 = pd.DataFrame(s_2)\n",
        "# s_2.value_counts()\n",
        "s_2"
      ]
    },
    {
      "cell_type": "code",
      "execution_count": 38,
      "metadata": {
        "colab": {
          "base_uri": "https://localhost:8080/",
          "height": 300
        },
        "id": "hOjO_-LaeAlN",
        "outputId": "97e75f71-2239-471d-fc52-87f7e8629098"
      },
      "outputs": [
        {
          "output_type": "execute_result",
          "data": {
            "text/plain": [
              "Text(0, 0.5, 'Ranks')"
            ]
          },
          "metadata": {},
          "execution_count": 38
        },
        {
          "output_type": "display_data",
          "data": {
            "text/plain": [
              "<Figure size 432x288 with 1 Axes>"
            ],
            "image/png": "[encoded data removed]"
          },
          "metadata": {
            "needs_background": "light"
          }
        }
      ],
      "source": [
        "s_2.plot(kind='bar')\n",
        "plt.xlabel(\"feature's no\")\n",
        "plt.ylabel('Ranks')"
      ]
    },
    {
      "cell_type": "code",
      "execution_count": 39,
      "metadata": {
        "colab": {
          "base_uri": "https://localhost:8080/",
          "height": 279
        },
        "id": "XpU2ViKSehqS",
        "outputId": "f0fa1b69-5104-4242-e9e2-d777d050107c"
      },
      "outputs": [
        {
          "output_type": "display_data",
          "data": {
            "text/plain": [
              "<Figure size 432x288 with 1 Axes>"
            ],
            "image/png": "[encoded data removed]"
          },
          "metadata": {
            "needs_background": "light"
          }
        }
      ],
      "source": [
        "min_features_to_select = 1\n",
        "plt.figure()\n",
        "plt.xlabel(\"Number of features selected\")\n",
        "plt.ylabel(\"Cross validation score (accuracy)\")\n",
        "plt.plot(\n",
        "    range(min_features_to_select, len(selector_2.grid_scores_) + min_features_to_select),\n",
        "    selector_2.grid_scores_,\n",
        ")\n",
        "plt.xticks()\n",
        "plt.show()"
      ]
    },
    {
      "cell_type": "code",
      "execution_count": 40,
      "metadata": {
        "colab": {
          "base_uri": "https://localhost:8080/",
          "height": 424
        },
        "id": "I5jzy5tNkL2g",
        "outputId": "7253b8a3-0c73-464d-e10a-9df33a747ae4"
      },
      "outputs": [
        {
          "output_type": "execute_result",
          "data": {
            "text/plain": [
              "            0\n",
              "0    DYRK1A_N\n",
              "1      BDNF_N\n",
              "2       NR1_N\n",
              "3      NR2A_N\n",
              "4      pAKT_N\n",
              "..        ...\n",
              "65      SYP_N\n",
              "66  H3AcK18_N\n",
              "67     EGR1_N\n",
              "68   H3MeK4_N\n",
              "69     CaNA_N\n",
              "\n",
              "[70 rows x 1 columns]"
            ],
            "text/html": [
              "\n",
              "  <div id=\"df-c92839e6-1ae2-4bf8-af07-f51b6fd7bf8d\">\n",
              "    <div class=\"colab-df-container\">\n",
              "      <div>\n",
              "<style scoped>\n",
              "    .dataframe tbody tr th:only-of-type {\n",
              "        vertical-align: middle;\n",
              "    }\n",
              "\n",
              "    .dataframe tbody tr th {\n",
              "        vertical-align: top;\n",
              "    }\n",
              "\n",
              "    .dataframe thead th {\n",
              "        text-align: right;\n",
              "    }\n",
              "</style>\n",
              "<table border=\"1\" class=\"dataframe\">\n",
              "  <thead>\n",
              "    <tr style=\"text-align: right;\">\n",
              "      <th></th>\n",
              "      <th>0</th>\n",
              "    </tr>\n",
              "  </thead>\n",
              "  <tbody>\n",
              "    <tr>\n",
              "      <th>0</th>\n",
              "      <td>DYRK1A_N</td>\n",
              "    </tr>\n",
              "    <tr>\n",
              "      <th>1</th>\n",
              "      <td>BDNF_N</td>\n",
              "    </tr>\n",
              "    <tr>\n",
              "      <th>2</th>\n",
              "      <td>NR1_N</td>\n",
              "    </tr>\n",
              "    <tr>\n",
              "      <th>3</th>\n",
              "      <td>NR2A_N</td>\n",
              "    </tr>\n",
              "    <tr>\n",
              "      <th>4</th>\n",
              "      <td>pAKT_N</td>\n",
              "    </tr>\n",
              "    <tr>\n",
              "      <th>...</th>\n",
              "      <td>...</td>\n",
              "    </tr>\n",
              "    <tr>\n",
              "      <th>65</th>\n",
              "      <td>SYP_N</td>\n",
              "    </tr>\n",
              "    <tr>\n",
              "      <th>66</th>\n",
              "      <td>H3AcK18_N</td>\n",
              "    </tr>\n",
              "    <tr>\n",
              "      <th>67</th>\n",
              "      <td>EGR1_N</td>\n",
              "    </tr>\n",
              "    <tr>\n",
              "      <th>68</th>\n",
              "      <td>H3MeK4_N</td>\n",
              "    </tr>\n",
              "    <tr>\n",
              "      <th>69</th>\n",
              "      <td>CaNA_N</td>\n",
              "    </tr>\n",
              "  </tbody>\n",
              "</table>\n",
              "<p>70 rows × 1 columns</p>\n",
              "</div>\n",
              "      <button class=\"colab-df-convert\" onclick=\"convertToInteractive('df-c92839e6-1ae2-4bf8-af07-f51b6fd7bf8d')\"\n",
              "              title=\"Convert this dataframe to an interactive table.\"\n",
              "              style=\"display:none;\">\n",
              "        \n",
              "  <svg xmlns=\"http://www.w3.org/2000/svg\" height=\"24px\"viewBox=\"0 0 24 24\"\n",
              "       width=\"24px\">\n",
              "    <path d=\"M0 0h24v24H0V0z\" fill=\"none\"/>\n",
              "    <path d=\"M18.56 5.44l.94 2.06.94-2.06 2.06-.94-2.06-.94-.94-2.06-.94 2.06-2.06.94zm-11 1L8.5 8.5l.94-2.06 2.06-.94-2.06-.94L8.5 2.5l-.94 2.06-2.06.94zm10 10l.94 2.06.94-2.06 2.06-.94-2.06-.94-.94-2.06-.94 2.06-2.06.94z\"/><path d=\"M17.41 7.96l-1.37-1.37c-.4-.4-.92-.59-1.43-.59-.52 0-1.04.2-1.43.59L10.3 9.45l-7.72 7.72c-.78.78-.78 2.05 0 2.83L4 21.41c.39.39.9.59 1.41.59.51 0 1.02-.2 1.41-.59l7.78-7.78 2.81-2.81c.8-.78.8-2.07 0-2.86zM5.41 20L4 18.59l7.72-7.72 1.47 1.35L5.41 20z\"/>\n",
              "  </svg>\n",
              "      </button>\n",
              "      \n",
              "  <style>\n",
              "    .colab-df-container {\n",
              "      display:flex;\n",
              "      flex-wrap:wrap;\n",
              "      gap: 12px;\n",
              "    }\n",
              "\n",
              "    .colab-df-convert {\n",
              "      background-color: #E8F0FE;\n",
              "      border: none;\n",
              "      border-radius: 50%;\n",
              "      cursor: pointer;\n",
              "      display: none;\n",
              "      fill: #1967D2;\n",
              "      height: 32px;\n",
              "      padding: 0 0 0 0;\n",
              "      width: 32px;\n",
              "    }\n",
              "\n",
              "    .colab-df-convert:hover {\n",
              "      background-color: #E2EBFA;\n",
              "      box-shadow: 0px 1px 2px rgba(60, 64, 67, 0.3), 0px 1px 3px 1px rgba(60, 64, 67, 0.15);\n",
              "      fill: #174EA6;\n",
              "    }\n",
              "\n",
              "    [theme=dark] .colab-df-convert {\n",
              "      background-color: #3B4455;\n",
              "      fill: #D2E3FC;\n",
              "    }\n",
              "\n",
              "    [theme=dark] .colab-df-convert:hover {\n",
              "      background-color: #434B5C;\n",
              "      box-shadow: 0px 1px 3px 1px rgba(0, 0, 0, 0.15);\n",
              "      filter: drop-shadow(0px 1px 2px rgba(0, 0, 0, 0.3));\n",
              "      fill: #FFFFFF;\n",
              "    }\n",
              "  </style>\n",
              "\n",
              "      <script>\n",
              "        const buttonEl =\n",
              "          document.querySelector('#df-c92839e6-1ae2-4bf8-af07-f51b6fd7bf8d button.colab-df-convert');\n",
              "        buttonEl.style.display =\n",
              "          google.colab.kernel.accessAllowed ? 'block' : 'none';\n",
              "\n",
              "        async function convertToInteractive(key) {\n",
              "          const element = document.querySelector('#df-c92839e6-1ae2-4bf8-af07-f51b6fd7bf8d');\n",
              "          const dataTable =\n",
              "            await google.colab.kernel.invokeFunction('convertToInteractive',\n",
              "                                                     [key], {});\n",
              "          if (!dataTable) return;\n",
              "\n",
              "          const docLinkHtml = 'Like what you see? Visit the ' +\n",
              "            '<a target=\"_blank\" href=https://colab.research.google.com/notebooks/data_table.ipynb>data table notebook</a>'\n",
              "            + ' to learn more about interactive tables.';\n",
              "          element.innerHTML = '';\n",
              "          dataTable['output_type'] = 'display_data';\n",
              "          await google.colab.output.renderOutput(dataTable, element);\n",
              "          const docLink = document.createElement('div');\n",
              "          docLink.innerHTML = docLinkHtml;\n",
              "          element.appendChild(docLink);\n",
              "        }\n",
              "      </script>\n",
              "    </div>\n",
              "  </div>\n",
              "  "
            ]
          },
          "metadata": {},
          "execution_count": 40
        }
      ],
      "source": [
        "q_2 = selector_2.feature_names_in_\n",
        "q_2 = pd.DataFrame(q_2)\n",
        "q_2"
      ]
    },
    {
      "cell_type": "markdown",
      "metadata": {
        "id": "eHSgekqhgpQ7"
      },
      "source": [
        "Here we can see that we are getting the accuracy vaalue of 95% with 22 features only."
      ]
    },
    {
      "cell_type": "code",
      "execution_count": 41,
      "metadata": {
        "id": "1-2IssyrgYVE"
      },
      "outputs": [],
      "source": [
        "res_2 = dict(zip(q_2.iloc[:,-1] , s_2.iloc[:,-1]))"
      ]
    },
    {
      "cell_type": "code",
      "execution_count": 42,
      "metadata": {
        "id": "98gvIQDDlEnu"
      },
      "outputs": [],
      "source": [
        "colums_22 = []\n",
        "for i,j in res_2.items():\n",
        "  if j < 14:\n",
        "    colums_22.append(i)\n"
      ]
    },
    {
      "cell_type": "code",
      "execution_count": 43,
      "metadata": {
        "id": "F1La7i_JmJmz"
      },
      "outputs": [],
      "source": [
        "x2_drop = [x_new.drop(colums_22, axis=1)]"
      ]
    },
    {
      "cell_type": "code",
      "execution_count": 44,
      "metadata": {
        "colab": {
          "base_uri": "https://localhost:8080/",
          "height": 488
        },
        "id": "7_H_c33yyfji",
        "outputId": "2f1e0585-22d2-401c-cae8-0bc61eb50ff4"
      },
      "outputs": [
        {
          "output_type": "execute_result",
          "data": {
            "text/plain": [
              "     DYRK1A_N    BDNF_N     NR1_N    NR2A_N    pAKT_N   pBRAF_N  pCAMKII_N  \\\n",
              "0    0.239745  2.372452  1.471921  2.269552 -0.351734 -0.186528  -0.898820   \n",
              "1    0.279648  1.976690  1.393675  1.940975 -0.533878 -0.365510  -0.963191   \n",
              "2    0.259888  2.117287  1.095124  1.873152 -0.600347 -0.256006  -0.970144   \n",
              "3    0.015969  0.833934  0.452418  1.181185 -0.249043 -0.228099  -1.073520   \n",
              "4   -0.010091  0.837716  0.157224  0.900303 -0.496664 -0.334981  -1.087947   \n",
              "..        ...       ...       ...       ...       ...       ...        ...   \n",
              "757 -0.158354 -0.070527 -0.606540 -0.611634  0.045756  0.683866  -0.240028   \n",
              "758 -0.130826  0.042935 -0.373432 -0.507093  0.096829  0.313293  -0.101537   \n",
              "759 -0.201944 -0.027925 -0.700047 -0.871242  0.681455  0.761884  -0.399737   \n",
              "760 -0.262164 -0.469880 -0.895755 -1.183635  0.319300  0.296632  -0.445606   \n",
              "761 -0.262225 -0.393614 -0.726855 -1.001611  0.401220  0.614567  -0.349979   \n",
              "\n",
              "      pCREB_N    pELK_N    pJNK_N  ...    MTOR_N     P38_N   pMTOR_N  \\\n",
              "0    0.648744  0.595213 -0.148771  ...  0.136137 -0.839043  0.532073   \n",
              "1    0.479587  0.292333 -0.292219  ... -0.410179 -0.951046  0.028366   \n",
              "2    0.585066  0.223626 -0.444364  ... -0.387611 -0.950864 -0.008826   \n",
              "3   -0.163587  0.289803 -0.337665  ... -0.321911 -0.894665 -0.088587   \n",
              "4   -0.641792  0.111757 -0.528799  ... -0.641406 -1.072847 -0.525229   \n",
              "..        ...       ...       ...  ...       ...       ...       ...   \n",
              "757  0.313292 -0.447289  0.075654  ... -0.590201 -0.321296 -0.531603   \n",
              "758  0.638293 -0.385489  0.309205  ... -0.226549  0.403201 -0.325432   \n",
              "759  0.366285 -0.388938  0.793714  ... -0.099453 -0.159048 -0.627325   \n",
              "760  0.174685 -0.528465  0.231584  ... -0.220305  0.389383 -0.627155   \n",
              "761  0.471977 -0.444307  0.729980  ... -0.292376  0.317895 -0.560239   \n",
              "\n",
              "      DSCR1_N   AMPKA_N    NR2B_N   pNUMB_N  RAPTOR_N   TIAM1_N  pP70S6_N  \n",
              "0   -0.055233  1.325250  0.231229  0.596277  0.484745  1.073032 -0.587201  \n",
              "1   -0.362699  0.870896 -0.226960  0.165981  0.141166  0.614182 -0.710235  \n",
              "2   -0.376977  0.599747 -0.139084  0.094857 -0.031941  0.495650 -0.847440  \n",
              "3   -0.346606  0.303175 -0.196344  0.141857  0.268612  0.422032  0.136639  \n",
              "4   -0.442293 -0.131496 -0.586100 -0.105587 -0.049102  0.040722  0.101357  \n",
              "..        ...       ...       ...       ...       ...       ...       ...  \n",
              "757 -0.151461 -0.667312 -0.432195 -0.291012  0.440202 -0.119859  0.734811  \n",
              "758  0.181454  0.118675 -0.070730  0.308245  0.864114  0.240236  0.837779  \n",
              "759  0.243386 -0.281676 -0.239170  0.105678  0.801716  0.361479  0.769760  \n",
              "760  0.127333 -0.762632 -0.307436 -0.180338  0.986099 -0.035177  0.539888  \n",
              "761  0.078261 -0.460761 -0.211036  0.023981  1.212588  0.014931  0.680266  \n",
              "\n",
              "[762 rows x 37 columns]"
            ],
            "text/html": [
              "\n",
              "  <div id=\"df-e761ec51-6447-497c-a1cb-f95c151f00f6\">\n",
              "    <div class=\"colab-df-container\">\n",
              "      <div>\n",
              "<style scoped>\n",
              "    .dataframe tbody tr th:only-of-type {\n",
              "        vertical-align: middle;\n",
              "    }\n",
              "\n",
              "    .dataframe tbody tr th {\n",
              "        vertical-align: top;\n",
              "    }\n",
              "\n",
              "    .dataframe thead th {\n",
              "        text-align: right;\n",
              "    }\n",
              "</style>\n",
              "<table border=\"1\" class=\"dataframe\">\n",
              "  <thead>\n",
              "    <tr style=\"text-align: right;\">\n",
              "      <th></th>\n",
              "      <th>DYRK1A_N</th>\n",
              "      <th>BDNF_N</th>\n",
              "      <th>NR1_N</th>\n",
              "      <th>NR2A_N</th>\n",
              "      <th>pAKT_N</th>\n",
              "      <th>pBRAF_N</th>\n",
              "      <th>pCAMKII_N</th>\n",
              "      <th>pCREB_N</th>\n",
              "      <th>pELK_N</th>\n",
              "      <th>pJNK_N</th>\n",
              "      <th>...</th>\n",
              "      <th>MTOR_N</th>\n",
              "      <th>P38_N</th>\n",
              "      <th>pMTOR_N</th>\n",
              "      <th>DSCR1_N</th>\n",
              "      <th>AMPKA_N</th>\n",
              "      <th>NR2B_N</th>\n",
              "      <th>pNUMB_N</th>\n",
              "      <th>RAPTOR_N</th>\n",
              "      <th>TIAM1_N</th>\n",
              "      <th>pP70S6_N</th>\n",
              "    </tr>\n",
              "  </thead>\n",
              "  <tbody>\n",
              "    <tr>\n",
              "      <th>0</th>\n",
              "      <td>0.239745</td>\n",
              "      <td>2.372452</td>\n",
              "      <td>1.471921</td>\n",
              "      <td>2.269552</td>\n",
              "      <td>-0.351734</td>\n",
              "      <td>-0.186528</td>\n",
              "      <td>-0.898820</td>\n",
              "      <td>0.648744</td>\n",
              "      <td>0.595213</td>\n",
              "      <td>-0.148771</td>\n",
              "      <td>...</td>\n",
              "      <td>0.136137</td>\n",
              "      <td>-0.839043</td>\n",
              "      <td>0.532073</td>\n",
              "      <td>-0.055233</td>\n",
              "      <td>1.325250</td>\n",
              "      <td>0.231229</td>\n",
              "      <td>0.596277</td>\n",
              "      <td>0.484745</td>\n",
              "      <td>1.073032</td>\n",
              "      <td>-0.587201</td>\n",
              "    </tr>\n",
              "    <tr>\n",
              "      <th>1</th>\n",
              "      <td>0.279648</td>\n",
              "      <td>1.976690</td>\n",
              "      <td>1.393675</td>\n",
              "      <td>1.940975</td>\n",
              "      <td>-0.533878</td>\n",
              "      <td>-0.365510</td>\n",
              "      <td>-0.963191</td>\n",
              "      <td>0.479587</td>\n",
              "      <td>0.292333</td>\n",
              "      <td>-0.292219</td>\n",
              "      <td>...</td>\n",
              "      <td>-0.410179</td>\n",
              "      <td>-0.951046</td>\n",
              "      <td>0.028366</td>\n",
              "      <td>-0.362699</td>\n",
              "      <td>0.870896</td>\n",
              "      <td>-0.226960</td>\n",
              "      <td>0.165981</td>\n",
              "      <td>0.141166</td>\n",
              "      <td>0.614182</td>\n",
              "      <td>-0.710235</td>\n",
              "    </tr>\n",
              "    <tr>\n",
              "      <th>2</th>\n",
              "      <td>0.259888</td>\n",
              "      <td>2.117287</td>\n",
              "      <td>1.095124</td>\n",
              "      <td>1.873152</td>\n",
              "      <td>-0.600347</td>\n",
              "      <td>-0.256006</td>\n",
              "      <td>-0.970144</td>\n",
              "      <td>0.585066</td>\n",
              "      <td>0.223626</td>\n",
              "      <td>-0.444364</td>\n",
              "      <td>...</td>\n",
              "      <td>-0.387611</td>\n",
              "      <td>-0.950864</td>\n",
              "      <td>-0.008826</td>\n",
              "      <td>-0.376977</td>\n",
              "      <td>0.599747</td>\n",
              "      <td>-0.139084</td>\n",
              "      <td>0.094857</td>\n",
              "      <td>-0.031941</td>\n",
              "      <td>0.495650</td>\n",
              "      <td>-0.847440</td>\n",
              "    </tr>\n",
              "    <tr>\n",
              "      <th>3</th>\n",
              "      <td>0.015969</td>\n",
              "      <td>0.833934</td>\n",
              "      <td>0.452418</td>\n",
              "      <td>1.181185</td>\n",
              "      <td>-0.249043</td>\n",
              "      <td>-0.228099</td>\n",
              "      <td>-1.073520</td>\n",
              "      <td>-0.163587</td>\n",
              "      <td>0.289803</td>\n",
              "      <td>-0.337665</td>\n",
              "      <td>...</td>\n",
              "      <td>-0.321911</td>\n",
              "      <td>-0.894665</td>\n",
              "      <td>-0.088587</td>\n",
              "      <td>-0.346606</td>\n",
              "      <td>0.303175</td>\n",
              "      <td>-0.196344</td>\n",
              "      <td>0.141857</td>\n",
              "      <td>0.268612</td>\n",
              "      <td>0.422032</td>\n",
              "      <td>0.136639</td>\n",
              "    </tr>\n",
              "    <tr>\n",
              "      <th>4</th>\n",
              "      <td>-0.010091</td>\n",
              "      <td>0.837716</td>\n",
              "      <td>0.157224</td>\n",
              "      <td>0.900303</td>\n",
              "      <td>-0.496664</td>\n",
              "      <td>-0.334981</td>\n",
              "      <td>-1.087947</td>\n",
              "      <td>-0.641792</td>\n",
              "      <td>0.111757</td>\n",
              "      <td>-0.528799</td>\n",
              "      <td>...</td>\n",
              "      <td>-0.641406</td>\n",
              "      <td>-1.072847</td>\n",
              "      <td>-0.525229</td>\n",
              "      <td>-0.442293</td>\n",
              "      <td>-0.131496</td>\n",
              "      <td>-0.586100</td>\n",
              "      <td>-0.105587</td>\n",
              "      <td>-0.049102</td>\n",
              "      <td>0.040722</td>\n",
              "      <td>0.101357</td>\n",
              "    </tr>\n",
              "    <tr>\n",
              "      <th>...</th>\n",
              "      <td>...</td>\n",
              "      <td>...</td>\n",
              "      <td>...</td>\n",
              "      <td>...</td>\n",
              "      <td>...</td>\n",
              "      <td>...</td>\n",
              "      <td>...</td>\n",
              "      <td>...</td>\n",
              "      <td>...</td>\n",
              "      <td>...</td>\n",
              "      <td>...</td>\n",
              "      <td>...</td>\n",
              "      <td>...</td>\n",
              "      <td>...</td>\n",
              "      <td>...</td>\n",
              "      <td>...</td>\n",
              "      <td>...</td>\n",
              "      <td>...</td>\n",
              "      <td>...</td>\n",
              "      <td>...</td>\n",
              "      <td>...</td>\n",
              "    </tr>\n",
              "    <tr>\n",
              "      <th>757</th>\n",
              "      <td>-0.158354</td>\n",
              "      <td>-0.070527</td>\n",
              "      <td>-0.606540</td>\n",
              "      <td>-0.611634</td>\n",
              "      <td>0.045756</td>\n",
              "      <td>0.683866</td>\n",
              "      <td>-0.240028</td>\n",
              "      <td>0.313292</td>\n",
              "      <td>-0.447289</td>\n",
              "      <td>0.075654</td>\n",
              "      <td>...</td>\n",
              "      <td>-0.590201</td>\n",
              "      <td>-0.321296</td>\n",
              "      <td>-0.531603</td>\n",
              "      <td>-0.151461</td>\n",
              "      <td>-0.667312</td>\n",
              "      <td>-0.432195</td>\n",
              "      <td>-0.291012</td>\n",
              "      <td>0.440202</td>\n",
              "      <td>-0.119859</td>\n",
              "      <td>0.734811</td>\n",
              "    </tr>\n",
              "    <tr>\n",
              "      <th>758</th>\n",
              "      <td>-0.130826</td>\n",
              "      <td>0.042935</td>\n",
              "      <td>-0.373432</td>\n",
              "      <td>-0.507093</td>\n",
              "      <td>0.096829</td>\n",
              "      <td>0.313293</td>\n",
              "      <td>-0.101537</td>\n",
              "      <td>0.638293</td>\n",
              "      <td>-0.385489</td>\n",
              "      <td>0.309205</td>\n",
              "      <td>...</td>\n",
              "      <td>-0.226549</td>\n",
              "      <td>0.403201</td>\n",
              "      <td>-0.325432</td>\n",
              "      <td>0.181454</td>\n",
              "      <td>0.118675</td>\n",
              "      <td>-0.070730</td>\n",
              "      <td>0.308245</td>\n",
              "      <td>0.864114</td>\n",
              "      <td>0.240236</td>\n",
              "      <td>0.837779</td>\n",
              "    </tr>\n",
              "    <tr>\n",
              "      <th>759</th>\n",
              "      <td>-0.201944</td>\n",
              "      <td>-0.027925</td>\n",
              "      <td>-0.700047</td>\n",
              "      <td>-0.871242</td>\n",
              "      <td>0.681455</td>\n",
              "      <td>0.761884</td>\n",
              "      <td>-0.399737</td>\n",
              "      <td>0.366285</td>\n",
              "      <td>-0.388938</td>\n",
              "      <td>0.793714</td>\n",
              "      <td>...</td>\n",
              "      <td>-0.099453</td>\n",
              "      <td>-0.159048</td>\n",
              "      <td>-0.627325</td>\n",
              "      <td>0.243386</td>\n",
              "      <td>-0.281676</td>\n",
              "      <td>-0.239170</td>\n",
              "      <td>0.105678</td>\n",
              "      <td>0.801716</td>\n",
              "      <td>0.361479</td>\n",
              "      <td>0.769760</td>\n",
              "    </tr>\n",
              "    <tr>\n",
              "      <th>760</th>\n",
              "      <td>-0.262164</td>\n",
              "      <td>-0.469880</td>\n",
              "      <td>-0.895755</td>\n",
              "      <td>-1.183635</td>\n",
              "      <td>0.319300</td>\n",
              "      <td>0.296632</td>\n",
              "      <td>-0.445606</td>\n",
              "      <td>0.174685</td>\n",
              "      <td>-0.528465</td>\n",
              "      <td>0.231584</td>\n",
              "      <td>...</td>\n",
              "      <td>-0.220305</td>\n",
              "      <td>0.389383</td>\n",
              "      <td>-0.627155</td>\n",
              "      <td>0.127333</td>\n",
              "      <td>-0.762632</td>\n",
              "      <td>-0.307436</td>\n",
              "      <td>-0.180338</td>\n",
              "      <td>0.986099</td>\n",
              "      <td>-0.035177</td>\n",
              "      <td>0.539888</td>\n",
              "    </tr>\n",
              "    <tr>\n",
              "      <th>761</th>\n",
              "      <td>-0.262225</td>\n",
              "      <td>-0.393614</td>\n",
              "      <td>-0.726855</td>\n",
              "      <td>-1.001611</td>\n",
              "      <td>0.401220</td>\n",
              "      <td>0.614567</td>\n",
              "      <td>-0.349979</td>\n",
              "      <td>0.471977</td>\n",
              "      <td>-0.444307</td>\n",
              "      <td>0.729980</td>\n",
              "      <td>...</td>\n",
              "      <td>-0.292376</td>\n",
              "      <td>0.317895</td>\n",
              "      <td>-0.560239</td>\n",
              "      <td>0.078261</td>\n",
              "      <td>-0.460761</td>\n",
              "      <td>-0.211036</td>\n",
              "      <td>0.023981</td>\n",
              "      <td>1.212588</td>\n",
              "      <td>0.014931</td>\n",
              "      <td>0.680266</td>\n",
              "    </tr>\n",
              "  </tbody>\n",
              "</table>\n",
              "<p>762 rows × 37 columns</p>\n",
              "</div>\n",
              "      <button class=\"colab-df-convert\" onclick=\"convertToInteractive('df-e761ec51-6447-497c-a1cb-f95c151f00f6')\"\n",
              "              title=\"Convert this dataframe to an interactive table.\"\n",
              "              style=\"display:none;\">\n",
              "        \n",
              "  <svg xmlns=\"http://www.w3.org/2000/svg\" height=\"24px\"viewBox=\"0 0 24 24\"\n",
              "       width=\"24px\">\n",
              "    <path d=\"M0 0h24v24H0V0z\" fill=\"none\"/>\n",
              "    <path d=\"M18.56 5.44l.94 2.06.94-2.06 2.06-.94-2.06-.94-.94-2.06-.94 2.06-2.06.94zm-11 1L8.5 8.5l.94-2.06 2.06-.94-2.06-.94L8.5 2.5l-.94 2.06-2.06.94zm10 10l.94 2.06.94-2.06 2.06-.94-2.06-.94-.94-2.06-.94 2.06-2.06.94z\"/><path d=\"M17.41 7.96l-1.37-1.37c-.4-.4-.92-.59-1.43-.59-.52 0-1.04.2-1.43.59L10.3 9.45l-7.72 7.72c-.78.78-.78 2.05 0 2.83L4 21.41c.39.39.9.59 1.41.59.51 0 1.02-.2 1.41-.59l7.78-7.78 2.81-2.81c.8-.78.8-2.07 0-2.86zM5.41 20L4 18.59l7.72-7.72 1.47 1.35L5.41 20z\"/>\n",
              "  </svg>\n",
              "      </button>\n",
              "      \n",
              "  <style>\n",
              "    .colab-df-container {\n",
              "      display:flex;\n",
              "      flex-wrap:wrap;\n",
              "      gap: 12px;\n",
              "    }\n",
              "\n",
              "    .colab-df-convert {\n",
              "      background-color: #E8F0FE;\n",
              "      border: none;\n",
              "      border-radius: 50%;\n",
              "      cursor: pointer;\n",
              "      display: none;\n",
              "      fill: #1967D2;\n",
              "      height: 32px;\n",
              "      padding: 0 0 0 0;\n",
              "      width: 32px;\n",
              "    }\n",
              "\n",
              "    .colab-df-convert:hover {\n",
              "      background-color: #E2EBFA;\n",
              "      box-shadow: 0px 1px 2px rgba(60, 64, 67, 0.3), 0px 1px 3px 1px rgba(60, 64, 67, 0.15);\n",
              "      fill: #174EA6;\n",
              "    }\n",
              "\n",
              "    [theme=dark] .colab-df-convert {\n",
              "      background-color: #3B4455;\n",
              "      fill: #D2E3FC;\n",
              "    }\n",
              "\n",
              "    [theme=dark] .colab-df-convert:hover {\n",
              "      background-color: #434B5C;\n",
              "      box-shadow: 0px 1px 3px 1px rgba(0, 0, 0, 0.15);\n",
              "      filter: drop-shadow(0px 1px 2px rgba(0, 0, 0, 0.3));\n",
              "      fill: #FFFFFF;\n",
              "    }\n",
              "  </style>\n",
              "\n",
              "      <script>\n",
              "        const buttonEl =\n",
              "          document.querySelector('#df-e761ec51-6447-497c-a1cb-f95c151f00f6 button.colab-df-convert');\n",
              "        buttonEl.style.display =\n",
              "          google.colab.kernel.accessAllowed ? 'block' : 'none';\n",
              "\n",
              "        async function convertToInteractive(key) {\n",
              "          const element = document.querySelector('#df-e761ec51-6447-497c-a1cb-f95c151f00f6');\n",
              "          const dataTable =\n",
              "            await google.colab.kernel.invokeFunction('convertToInteractive',\n",
              "                                                     [key], {});\n",
              "          if (!dataTable) return;\n",
              "\n",
              "          const docLinkHtml = 'Like what you see? Visit the ' +\n",
              "            '<a target=\"_blank\" href=https://colab.research.google.com/notebooks/data_table.ipynb>data table notebook</a>'\n",
              "            + ' to learn more about interactive tables.';\n",
              "          element.innerHTML = '';\n",
              "          dataTable['output_type'] = 'display_data';\n",
              "          await google.colab.output.renderOutput(dataTable, element);\n",
              "          const docLink = document.createElement('div');\n",
              "          docLink.innerHTML = docLinkHtml;\n",
              "          element.appendChild(docLink);\n",
              "        }\n",
              "      </script>\n",
              "    </div>\n",
              "  </div>\n",
              "  "
            ]
          },
          "metadata": {},
          "execution_count": 44
        }
      ],
      "source": [
        "x2_new = pd.DataFrame(x_new , columns=colums_22)\n",
        "x2_new"
      ]
    },
    {
      "cell_type": "markdown",
      "metadata": {
        "id": "MxhZuVN710D5"
      },
      "source": [
        "# 7. See if removing some features systematically will improve your models (e.g. using recursive feature elimination\n",
        "\n",
        "We have already removed some of the features sysematically for both Genotype and Treatment Behaviour from our Independent features which are the new variables:\n",
        "1. x1_new - for Genotype\n",
        "2. x2_new - for Treatment Behaviour\n",
        "\n",
        "Now we will use these variables to train our models and then tuning them using GridSearchCV method and check that is there appreciable increase in the accuracy of our models."
      ]
    },
    {
      "cell_type": "markdown",
      "metadata": {
        "id": "Bj-cdQiz2D0q"
      },
      "source": [
        "### using Elastic Net Logistic regression "
      ]
    },
    {
      "cell_type": "code",
      "execution_count": 45,
      "metadata": {
        "colab": {
          "base_uri": "https://localhost:8080/"
        },
        "id": "iS8rrjHYzF1D",
        "outputId": "d37a29ce-c574-4cdd-aedc-d3db4c6ba4fb"
      },
      "outputs": [
        {
          "output_type": "stream",
          "name": "stdout",
          "text": [
            "Best Parameters\n",
            "{'l1_ratio': 0.1, 'max_iter': 100, 'penalty': 'elasticnet'}\n",
            "best balanced_accuracy:0.8630817458403666\n",
            "Best Parameters\n",
            "{'l1_ratio': 0.1, 'max_iter': 100, 'penalty': 'elasticnet'}\n",
            "best f1:0.8440557482478198\n",
            "Best Parameters\n",
            "{'l1_ratio': 0.1, 'max_iter': 100, 'penalty': 'elasticnet'}\n",
            "best roc_auc:0.9466077217801356\n"
          ]
        }
      ],
      "source": [
        "# Genotype\n",
        "hyperparameter = {'penalty':['elasticnet'] , 'l1_ratio':[0.1,0.2,0.3,0.4,0.5,0.6,0.7,0.8,0.9] , 'max_iter':[100,120,140]}\n",
        "log_reg = LogisticRegression(solver='saga')\n",
        "score = ['balanced_accuracy','f1','roc_auc']\n",
        "for i in score:\n",
        "  gs_log_reg = GridSearchCV(estimator=log_reg , scoring=i , param_grid=hyperparameter , cv=5)\n",
        "  gs_log_reg.fit(np.array(x1_new) , np.squeeze(y1_new))\n",
        "  print('Best Parameters')\n",
        "  print(gs_log_reg.best_params_)\n",
        "  print('best ' + i + ':' + str(gs_log_reg.best_score_))"
      ]
    },
    {
      "cell_type": "code",
      "execution_count": 46,
      "metadata": {
        "colab": {
          "base_uri": "https://localhost:8080/"
        },
        "id": "USLUcAGk42yK",
        "outputId": "02e904e8-c67f-450a-a277-e9dc9c38a039"
      },
      "outputs": [
        {
          "output_type": "stream",
          "name": "stdout",
          "text": [
            "Best Parameters\n",
            "{'l1_ratio': 0.9, 'max_iter': 140, 'penalty': 'elasticnet'}\n",
            "best balanced_accuracy:0.7757407407407407\n",
            "Best Parameters\n",
            "{'l1_ratio': 0.9, 'max_iter': 140, 'penalty': 'elasticnet'}\n",
            "best f1_macro:0.7726837595488464\n",
            "Best Parameters\n",
            "{'l1_ratio': 0.1, 'max_iter': 100, 'penalty': 'elasticnet'}\n",
            "best roc_auc_ovr:0.9340869389748164\n"
          ]
        }
      ],
      "source": [
        "# Treatment Behaviour\n",
        "param_log_reg = {'penalty':['elasticnet'] , 'l1_ratio':[0.1,0.2,0.3,0.4,0.5,0.6,0.7,0.8,0.9] , 'max_iter':[100,120,140]}\n",
        "log_reg = LogisticRegression(solver='saga', multi_class='multinomial')\n",
        "score = ['balanced_accuracy','f1_macro','roc_auc_ovr']\n",
        "for i in score:\n",
        "  gs_log_reg = GridSearchCV(estimator=log_reg , scoring=i , param_grid=param_log_reg , cv=5)\n",
        "  gs_log_reg.fit(np.array(x2_new) , np.squeeze(y2_new))\n",
        "  print('Best Parameters')\n",
        "  print(gs_log_reg.best_params_)\n",
        "  print('best ' + i + ':' + str(gs_log_reg.best_score_))"
      ]
    },
    {
      "cell_type": "markdown",
      "metadata": {
        "id": "uYy5sgtB6KfN"
      },
      "source": [
        "### Neural network with single ReLU hidden layer and Softmax output"
      ]
    },
    {
      "cell_type": "code",
      "execution_count": 47,
      "metadata": {
        "colab": {
          "base_uri": "https://localhost:8080/"
        },
        "id": "hE5jb2uR49Sd",
        "outputId": "7eb6bf92-12cd-405b-973a-30c5f0f70d20"
      },
      "outputs": [
        {
          "output_type": "stream",
          "name": "stdout",
          "text": [
            "Best Parameters\n",
            "{'alpha': 0.01, 'hidden_layer_sizes': (15,)}\n",
            "best balanced_accuracy:0.8937103126758299\n",
            "Best Parameters\n",
            "{'alpha': 0.01, 'hidden_layer_sizes': (10,)}\n",
            "best f1:0.8857366339702477\n",
            "Best Parameters\n",
            "{'alpha': 1, 'hidden_layer_sizes': (15,)}\n",
            "best roc_auc:0.9585279854245371\n"
          ]
        }
      ],
      "source": [
        "# Genotype\n",
        "neu_net = MLPClassifier(activation='relu' , hidden_layer_sizes=(100))\n",
        "param_neu_net = {'alpha':[0.001, 0.01, 0.1,1,10] , 'hidden_layer_sizes':[(10,),(15,),(20,),(30,),(50,)]}\n",
        "score_neu_net = ['balanced_accuracy','f1','roc_auc']\n",
        "for i in score_neu_net:\n",
        "  gs_neu_net = GridSearchCV(estimator=neu_net , scoring=i , param_grid=param_neu_net , cv=5)\n",
        "  gs_neu_net.fit(np.array(x1_new) , np.squeeze(y1_new))\n",
        "  print('Best Parameters')\n",
        "  print(gs_neu_net.best_params_)\n",
        "  print('best ' + i + ':' + str(gs_neu_net.best_score_))"
      ]
    },
    {
      "cell_type": "code",
      "execution_count": 48,
      "metadata": {
        "colab": {
          "base_uri": "https://localhost:8080/"
        },
        "id": "veQIIpp35OkR",
        "outputId": "82069013-3ff5-4bfa-9865-c5f3ca222ae2"
      },
      "outputs": [
        {
          "output_type": "stream",
          "name": "stdout",
          "text": [
            "Best Parameters\n",
            "{'alpha': 0.1, 'hidden_layer_sizes': (10,)}\n",
            "best balanced_accuracy:0.7299074074074074\n",
            "Best Parameters\n",
            "{'alpha': 1, 'hidden_layer_sizes': (30,)}\n",
            "best f1_macro:0.7006359466870481\n",
            "Best Parameters\n",
            "{'alpha': 0.001, 'hidden_layer_sizes': (30,)}\n",
            "best roc_auc_ovr:0.9215485254422037\n"
          ]
        }
      ],
      "source": [
        "# Treatment Behaviour\n",
        "neu_net = MLPClassifier(activation='relu' , hidden_layer_sizes=(100))\n",
        "param_neu_net = {'alpha':[0.001, 0.01, 0.1,1,10] , 'hidden_layer_sizes':[(10,),(15,),(20,),(30,),(50,)]}\n",
        "score_neu_net = ['balanced_accuracy','f1_macro','roc_auc_ovr']\n",
        "for i in score_neu_net:\n",
        "  gs_neu_net = GridSearchCV(estimator=neu_net , scoring=i , param_grid=param_neu_net , cv=5)\n",
        "  gs_neu_net.fit(np.array(x2_new) , np.squeeze(y2_new))\n",
        "  print('Best Parameters')\n",
        "  print(gs_neu_net.best_params_)\n",
        "  print('best ' + i + ':' + str(gs_neu_net.best_score_))"
      ]
    },
    {
      "cell_type": "markdown",
      "metadata": {
        "id": "0vI5wJHb6EZS"
      },
      "source": [
        "### SVM"
      ]
    },
    {
      "cell_type": "code",
      "execution_count": 49,
      "metadata": {
        "colab": {
          "base_uri": "https://localhost:8080/"
        },
        "id": "bIxtnPMq5c5c",
        "outputId": "af29aa63-70b2-45b1-b178-2c02b9509d45"
      },
      "outputs": [
        {
          "output_type": "stream",
          "name": "stdout",
          "text": [
            "Best param\n",
            "{'C': 10, 'degree': 2, 'kernel': 'linear'}\n",
            "best balanced_accuracy:0.8742456394180532\n",
            "Best param\n",
            "{'C': 10, 'degree': 2, 'kernel': 'linear'}\n",
            "best f1:0.8559689789010614\n",
            "Best param\n",
            "{'C': 1, 'degree': 2, 'kernel': 'linear'}\n",
            "best roc_auc:0.9538000696621387\n"
          ]
        }
      ],
      "source": [
        "# Genotype\n",
        "param_svc = {'kernel':('rbf','linear','poly'),'C':[.001,.01,1,10],'degree':[2,3,5,8]}\n",
        "svc = svm.SVC(probability=True)\n",
        "score_svc = ['balanced_accuracy','f1','roc_auc']\n",
        "for i in score_svc:\n",
        "  gs_svc = GridSearchCV(estimator = svc,param_grid=param_svc,scoring = i)\n",
        "  gs_svc.fit(np.array(x1_new),np.squeeze(y1_new))\n",
        "  print('Best param')\n",
        "  print(gs_svc.best_params_)\n",
        "  print('best ' + i+ ':' + str(gs_svc.best_score_))\n"
      ]
    },
    {
      "cell_type": "code",
      "execution_count": 50,
      "metadata": {
        "colab": {
          "base_uri": "https://localhost:8080/"
        },
        "id": "dvKatdiU5kxN",
        "outputId": "d4d9b409-bec6-4680-e703-91897f485f59"
      },
      "outputs": [
        {
          "output_type": "stream",
          "name": "stdout",
          "text": [
            "Best param\n",
            "{'C': 10, 'degree': 2, 'kernel': 'linear'}\n",
            "best balanced_accuracy:0.7896509971509971\n",
            "Best param\n",
            "{'C': 10, 'degree': 2, 'kernel': 'linear'}\n",
            "best f1_macro:0.7886410642069688\n",
            "Best param\n",
            "{'C': 1, 'degree': 3, 'kernel': 'linear'}\n",
            "best roc_auc_ovr:0.9408546239145436\n"
          ]
        }
      ],
      "source": [
        "# Treatment Behaviour\n",
        "param_svc = {'kernel':('rbf','linear','poly'),'C':[.001,.01,1,10],'degree':[2,3,5,8]}\n",
        "svc = svm.SVC(probability=True)\n",
        "score_svc = ['balanced_accuracy','f1_macro','roc_auc_ovr']\n",
        "for i in score_svc:\n",
        "  gs_svc = GridSearchCV(estimator = svc,param_grid=param_svc,scoring = i)\n",
        "  gs_svc.fit(np.array(x2_new),np.squeeze(y2_new))\n",
        "  print('Best param')\n",
        "  print(gs_svc.best_params_)\n",
        "  print('best ' + i+ ':' + str(gs_svc.best_score_))\n"
      ]
    },
    {
      "cell_type": "markdown",
      "metadata": {
        "id": "bZQS9Xve5-9k"
      },
      "source": [
        "### Random forest"
      ]
    },
    {
      "cell_type": "code",
      "execution_count": 51,
      "metadata": {
        "colab": {
          "base_uri": "https://localhost:8080/"
        },
        "id": "RgstjCHg5slM",
        "outputId": "5e28dd4e-7d42-4c93-f2b2-da7172a3fdc0"
      },
      "outputs": [
        {
          "output_type": "stream",
          "name": "stdout",
          "text": [
            "Fitting 5 folds for each of 75 candidates, totalling 375 fits\n",
            "{'max_depth': 6, 'max_features': 'log2', 'n_estimators': 50}\n",
            "best balanced_accuracy:0.7704870991077888\n",
            "Fitting 5 folds for each of 75 candidates, totalling 375 fits\n",
            "{'max_depth': 4, 'max_features': 'auto', 'n_estimators': 10}\n",
            "best f1:0.7499066635208541\n",
            "Fitting 5 folds for each of 75 candidates, totalling 375 fits\n",
            "{'max_depth': 8, 'max_features': 'auto', 'n_estimators': 50}\n",
            "best roc_auc:0.8618685529030357\n"
          ]
        }
      ],
      "source": [
        "# Genotype\n",
        "rf = RandomForestClassifier()\n",
        "score_rf = ['balanced_accuracy','f1','roc_auc']\n",
        "\n",
        "# declaring all the parameters i.e. number of trees, max tree depth, max number of variables per node\n",
        "param_rf = {'max_depth': [2,4,6,8,10] , 'max_features':['auto','sqrt','log2'] , 'n_estimators': [10, 20, 50,100,200]}\n",
        "for i in score_rf:\n",
        "  gs_rf = GridSearchCV(estimator = rf, param_grid = param_rf,scoring = i, cv = 5, n_jobs = -1, verbose = 2)\n",
        "  gs_rf.fit(np.array(x1_new),np.squeeze(y1_new))\n",
        "  print(gs_rf.best_params_)\n",
        "  print('best ' + i+ ':' + str(gs_rf.best_score_))"
      ]
    },
    {
      "cell_type": "code",
      "execution_count": 52,
      "metadata": {
        "colab": {
          "base_uri": "https://localhost:8080/"
        },
        "id": "VOdEM7t053Uw",
        "outputId": "de3bd5f5-f080-4697-c7d3-05220554197c"
      },
      "outputs": [
        {
          "output_type": "stream",
          "name": "stdout",
          "text": [
            "Fitting 5 folds for each of 45 candidates, totalling 225 fits\n",
            "{'max_depth': 10, 'max_features': 'log2', 'n_estimators': 50}\n",
            "best balanced_accuracy:0.6323361823361823\n",
            "Fitting 5 folds for each of 45 candidates, totalling 225 fits\n",
            "{'max_depth': 8, 'max_features': 'log2', 'n_estimators': 50}\n",
            "best f1_macro:0.6347056065018434\n",
            "Fitting 5 folds for each of 45 candidates, totalling 225 fits\n",
            "{'max_depth': 8, 'max_features': 'sqrt', 'n_estimators': 10}\n",
            "best roc_auc_ovr:0.8861984199042088\n"
          ]
        }
      ],
      "source": [
        "# Treatment Behaviour\n",
        "rf = RandomForestClassifier()\n",
        "score_rf = ['balanced_accuracy','f1_macro','roc_auc_ovr']\n",
        "\n",
        "# declaring all the parameters i.e. number of trees, max tree depth, max number of variables per node\n",
        "param_rf = {'max_depth': [2,4,6,8,10] , 'max_features':['auto','sqrt','log2'] , 'n_estimators': [10, 20, 50]}\n",
        "for i in score_rf:\n",
        "  gs_rf = GridSearchCV(estimator = rf, param_grid = param_rf,scoring = i, cv = 5, n_jobs = -1, verbose = 2)\n",
        "  gs_rf.fit(np.array(x2_new),np.squeeze(y2_new))\n",
        "  print(gs_rf.best_params_)\n",
        "  print('best ' + i+ ':' + str(gs_rf.best_score_))"
      ]
    },
    {
      "cell_type": "markdown",
      "metadata": {
        "id": "9ouutnSEAgZp"
      },
      "source": [
        "# **`Observation:`**\n",
        "\n",
        "### After doing the feature selection and then using our model to predict difffrent scores we can se that overall accuracy of scores of almost every model has increased from that of the previous scores.\n",
        "### Below given table contains the comparison between all these scores.\n",
        "\n",
        "![EE sheet ss.png](data:image/png;base64,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)"
      ]
    },
    {
      "cell_type": "markdown",
      "metadata": {
        "id": "MFDozlqEaU-m"
      },
      "source": [
        "# 8. Finally, testing a few promising models on the test data:"
      ]
    },
    {
      "cell_type": "markdown",
      "metadata": {
        "id": "utyvzMOBFnFh"
      },
      "source": [
        "### Now we will test the given test data with our already trained models to check the accuracy of our models."
      ]
    },
    {
      "cell_type": "markdown",
      "metadata": {
        "id": "5KCZ8EdKafQ1"
      },
      "source": [
        "### Importing the Test Datasheet."
      ]
    },
    {
      "cell_type": "code",
      "execution_count": 53,
      "metadata": {
        "id": "W2idovRP5980"
      },
      "outputs": [],
      "source": [
        "data_test = pd.read_csv('https://www.ee.iitb.ac.in/~asethi/Dump/MouseTest.csv')"
      ]
    },
    {
      "cell_type": "code",
      "execution_count": 54,
      "metadata": {
        "colab": {
          "base_uri": "https://localhost:8080/"
        },
        "id": "4zQiIrbqbAze",
        "outputId": "851c256d-18e8-40ac-f2c1-7f2318aba813"
      },
      "outputs": [
        {
          "output_type": "stream",
          "name": "stdout",
          "text": [
            "<class 'pandas.core.frame.DataFrame'>\n",
            "RangeIndex: 225 entries, 0 to 224\n",
            "Data columns (total 79 columns):\n",
            " #   Column              Non-Null Count  Dtype  \n",
            "---  ------              --------------  -----  \n",
            " 0   DYRK1A_N            225 non-null    float64\n",
            " 1   ITSN1_N             225 non-null    float64\n",
            " 2   BDNF_N              225 non-null    float64\n",
            " 3   NR1_N               225 non-null    float64\n",
            " 4   NR2A_N              225 non-null    float64\n",
            " 5   pAKT_N              225 non-null    float64\n",
            " 6   pBRAF_N             225 non-null    float64\n",
            " 7   pCAMKII_N           225 non-null    float64\n",
            " 8   pCREB_N             225 non-null    float64\n",
            " 9   pELK_N              225 non-null    float64\n",
            " 10  pERK_N              225 non-null    float64\n",
            " 11  pJNK_N              225 non-null    float64\n",
            " 12  PKCA_N              225 non-null    float64\n",
            " 13  pMEK_N              225 non-null    float64\n",
            " 14  pNR1_N              225 non-null    float64\n",
            " 15  pNR2A_N             225 non-null    float64\n",
            " 16  pNR2B_N             225 non-null    float64\n",
            " 17  pPKCAB_N            225 non-null    float64\n",
            " 18  pRSK_N              225 non-null    float64\n",
            " 19  AKT_N               225 non-null    float64\n",
            " 20  BRAF_N              225 non-null    float64\n",
            " 21  CAMKII_N            225 non-null    float64\n",
            " 22  CREB_N              225 non-null    float64\n",
            " 23  ELK_N               225 non-null    float64\n",
            " 24  ERK_N               225 non-null    float64\n",
            " 25  GSK3B_N             225 non-null    float64\n",
            " 26  JNK_N               225 non-null    float64\n",
            " 27  MEK_N               225 non-null    float64\n",
            " 28  TRKA_N              225 non-null    float64\n",
            " 29  RSK_N               225 non-null    float64\n",
            " 30  APP_N               225 non-null    float64\n",
            " 31  Bcatenin_N          225 non-null    float64\n",
            " 32  SOD1_N              225 non-null    float64\n",
            " 33  MTOR_N              225 non-null    float64\n",
            " 34  P38_N               225 non-null    float64\n",
            " 35  pMTOR_N             225 non-null    float64\n",
            " 36  DSCR1_N             225 non-null    float64\n",
            " 37  AMPKA_N             225 non-null    float64\n",
            " 38  NR2B_N              225 non-null    float64\n",
            " 39  pNUMB_N             225 non-null    float64\n",
            " 40  RAPTOR_N            225 non-null    float64\n",
            " 41  TIAM1_N             225 non-null    float64\n",
            " 42  pP70S6_N            225 non-null    float64\n",
            " 43  NUMB_N              225 non-null    float64\n",
            " 44  P70S6_N             225 non-null    float64\n",
            " 45  pGSK3B_N            225 non-null    float64\n",
            " 46  pPKCG_N             225 non-null    float64\n",
            " 47  CDK5_N              225 non-null    float64\n",
            " 48  S6_N                225 non-null    float64\n",
            " 49  ADARB1_N            225 non-null    float64\n",
            " 50  AcetylH3K9_N        225 non-null    float64\n",
            " 51  RRP1_N              225 non-null    float64\n",
            " 52  BAX_N               225 non-null    float64\n",
            " 53  ARC_N               225 non-null    float64\n",
            " 54  ERBB4_N             225 non-null    float64\n",
            " 55  nNOS_N              225 non-null    float64\n",
            " 56  Tau_N               225 non-null    float64\n",
            " 57  GFAP_N              225 non-null    float64\n",
            " 58  GluR3_N             225 non-null    float64\n",
            " 59  GluR4_N             225 non-null    float64\n",
            " 60  IL1B_N              225 non-null    float64\n",
            " 61  P3525_N             225 non-null    float64\n",
            " 62  pCASP9_N            225 non-null    float64\n",
            " 63  PSD95_N             225 non-null    float64\n",
            " 64  SNCA_N              225 non-null    float64\n",
            " 65  Ubiquitin_N         225 non-null    float64\n",
            " 66  pGSK3B_Tyr216_N     225 non-null    float64\n",
            " 67  SHH_N               225 non-null    float64\n",
            " 68  BAD_N               192 non-null    float64\n",
            " 69  BCL2_N              180 non-null    float64\n",
            " 70  pS6_N               225 non-null    float64\n",
            " 71  pCFOS_N             225 non-null    float64\n",
            " 72  SYP_N               225 non-null    float64\n",
            " 73  H3AcK18_N           195 non-null    float64\n",
            " 74  EGR1_N              210 non-null    float64\n",
            " 75  H3MeK4_N            135 non-null    float64\n",
            " 76  CaNA_N              225 non-null    float64\n",
            " 77  Genotype            225 non-null    object \n",
            " 78  Treatment_Behavior  225 non-null    object \n",
            "dtypes: float64(77), object(2)\n",
            "memory usage: 139.0+ KB\n"
          ]
        }
      ],
      "source": [
        "data_test.info()"
      ]
    },
    {
      "cell_type": "code",
      "execution_count": 55,
      "metadata": {
        "id": "U8Vr_d1xZ2dQ"
      },
      "outputs": [],
      "source": [
        "xt = data_test.iloc[:,:-2]\n",
        "yt1 = data_test.iloc[:,-2]\n",
        "yt2 = data_test.iloc[:,-1]"
      ]
    },
    {
      "cell_type": "code",
      "execution_count": 56,
      "metadata": {
        "colab": {
          "base_uri": "https://localhost:8080/"
        },
        "id": "lxi0EpM2bDAx",
        "outputId": "42bbf282-3d71-45ba-e9d1-a85eb9ac317d"
      },
      "outputs": [
        {
          "output_type": "execute_result",
          "data": {
            "text/plain": [
              "array([[0.62758167, 0.95418701, 0.44695832, ..., 0.15810257, 0.12173902,\n",
              "        1.64998272],\n",
              "       [0.65125332, 0.96202051, 0.46496392, ..., 0.16340471, 0.11685036,\n",
              "        1.63898847],\n",
              "       [0.64434594, 0.9671791 , 0.47005565, ..., 0.1602933 , 0.10850573,\n",
              "        1.56492482],\n",
              "       ...,\n",
              "       [0.21613419, 0.36405751, 0.24169329, ..., 0.25700365, 0.30481121,\n",
              "        1.14220463],\n",
              "       [0.21236948, 0.36995984, 0.23903615, ..., 0.2558521 , 0.30848367,\n",
              "        1.11271806],\n",
              "       [0.25728988, 0.43262817, 0.28968935, ..., 0.27804804, 0.32608696,\n",
              "        1.17178474]])"
            ]
          },
          "metadata": {},
          "execution_count": 56
        }
      ],
      "source": [
        "imp_t = IterativeImputer(max_iter=10, random_state=0)\n",
        "imp_t = imp.fit(xt)\n",
        "xt1 = imp.transform(pd.DataFrame(xt))\n",
        "xt1"
      ]
    },
    {
      "cell_type": "code",
      "execution_count": 57,
      "metadata": {
        "id": "duOZQskVbsc_"
      },
      "outputs": [],
      "source": [
        "col_t_lst = []\n",
        "for col in xt.columns.values:\n",
        "  col_t_lst.append(col)"
      ]
    },
    {
      "cell_type": "code",
      "execution_count": 58,
      "metadata": {
        "colab": {
          "base_uri": "https://localhost:8080/"
        },
        "id": "NsU3BSAqbtY3",
        "outputId": "c6a2d165-36f2-4bdf-e9f6-b7f31fcb9f55"
      },
      "outputs": [
        {
          "output_type": "stream",
          "name": "stdout",
          "text": [
            "<class 'pandas.core.frame.DataFrame'>\n",
            "RangeIndex: 225 entries, 0 to 224\n",
            "Data columns (total 77 columns):\n",
            " #   Column           Non-Null Count  Dtype  \n",
            "---  ------           --------------  -----  \n",
            " 0   DYRK1A_N         225 non-null    float64\n",
            " 1   ITSN1_N          225 non-null    float64\n",
            " 2   BDNF_N           225 non-null    float64\n",
            " 3   NR1_N            225 non-null    float64\n",
            " 4   NR2A_N           225 non-null    float64\n",
            " 5   pAKT_N           225 non-null    float64\n",
            " 6   pBRAF_N          225 non-null    float64\n",
            " 7   pCAMKII_N        225 non-null    float64\n",
            " 8   pCREB_N          225 non-null    float64\n",
            " 9   pELK_N           225 non-null    float64\n",
            " 10  pERK_N           225 non-null    float64\n",
            " 11  pJNK_N           225 non-null    float64\n",
            " 12  PKCA_N           225 non-null    float64\n",
            " 13  pMEK_N           225 non-null    float64\n",
            " 14  pNR1_N           225 non-null    float64\n",
            " 15  pNR2A_N          225 non-null    float64\n",
            " 16  pNR2B_N          225 non-null    float64\n",
            " 17  pPKCAB_N         225 non-null    float64\n",
            " 18  pRSK_N           225 non-null    float64\n",
            " 19  AKT_N            225 non-null    float64\n",
            " 20  BRAF_N           225 non-null    float64\n",
            " 21  CAMKII_N         225 non-null    float64\n",
            " 22  CREB_N           225 non-null    float64\n",
            " 23  ELK_N            225 non-null    float64\n",
            " 24  ERK_N            225 non-null    float64\n",
            " 25  GSK3B_N          225 non-null    float64\n",
            " 26  JNK_N            225 non-null    float64\n",
            " 27  MEK_N            225 non-null    float64\n",
            " 28  TRKA_N           225 non-null    float64\n",
            " 29  RSK_N            225 non-null    float64\n",
            " 30  APP_N            225 non-null    float64\n",
            " 31  Bcatenin_N       225 non-null    float64\n",
            " 32  SOD1_N           225 non-null    float64\n",
            " 33  MTOR_N           225 non-null    float64\n",
            " 34  P38_N            225 non-null    float64\n",
            " 35  pMTOR_N          225 non-null    float64\n",
            " 36  DSCR1_N          225 non-null    float64\n",
            " 37  AMPKA_N          225 non-null    float64\n",
            " 38  NR2B_N           225 non-null    float64\n",
            " 39  pNUMB_N          225 non-null    float64\n",
            " 40  RAPTOR_N         225 non-null    float64\n",
            " 41  TIAM1_N          225 non-null    float64\n",
            " 42  pP70S6_N         225 non-null    float64\n",
            " 43  NUMB_N           225 non-null    float64\n",
            " 44  P70S6_N          225 non-null    float64\n",
            " 45  pGSK3B_N         225 non-null    float64\n",
            " 46  pPKCG_N          225 non-null    float64\n",
            " 47  CDK5_N           225 non-null    float64\n",
            " 48  S6_N             225 non-null    float64\n",
            " 49  ADARB1_N         225 non-null    float64\n",
            " 50  AcetylH3K9_N     225 non-null    float64\n",
            " 51  RRP1_N           225 non-null    float64\n",
            " 52  BAX_N            225 non-null    float64\n",
            " 53  ARC_N            225 non-null    float64\n",
            " 54  ERBB4_N          225 non-null    float64\n",
            " 55  nNOS_N           225 non-null    float64\n",
            " 56  Tau_N            225 non-null    float64\n",
            " 57  GFAP_N           225 non-null    float64\n",
            " 58  GluR3_N          225 non-null    float64\n",
            " 59  GluR4_N          225 non-null    float64\n",
            " 60  IL1B_N           225 non-null    float64\n",
            " 61  P3525_N          225 non-null    float64\n",
            " 62  pCASP9_N         225 non-null    float64\n",
            " 63  PSD95_N          225 non-null    float64\n",
            " 64  SNCA_N           225 non-null    float64\n",
            " 65  Ubiquitin_N      225 non-null    float64\n",
            " 66  pGSK3B_Tyr216_N  225 non-null    float64\n",
            " 67  SHH_N            225 non-null    float64\n",
            " 68  BAD_N            225 non-null    float64\n",
            " 69  BCL2_N           225 non-null    float64\n",
            " 70  pS6_N            225 non-null    float64\n",
            " 71  pCFOS_N          225 non-null    float64\n",
            " 72  SYP_N            225 non-null    float64\n",
            " 73  H3AcK18_N        225 non-null    float64\n",
            " 74  EGR1_N           225 non-null    float64\n",
            " 75  H3MeK4_N         225 non-null    float64\n",
            " 76  CaNA_N           225 non-null    float64\n",
            "dtypes: float64(77)\n",
            "memory usage: 135.5 KB\n"
          ]
        }
      ],
      "source": [
        "scaler = preprocessing.StandardScaler()\n",
        "scaler.fit(xt1)\n",
        "xt1 = pd.DataFrame(scaler.transform(xt1), columns=col_t_lst)\n",
        "xt1.info()"
      ]
    },
    {
      "cell_type": "code",
      "execution_count": 59,
      "metadata": {
        "id": "GK1kzhFLePfA"
      },
      "outputs": [],
      "source": [
        "yt1 = lab_enc.fit_transform(yt1)\n",
        "yt2 = lab_enc.fit_transform(yt2)\n",
        "xt1_new = pd.DataFrame(xt1 , columns=colums_14)\n",
        "xt2_new = pd.DataFrame(xt1 , columns=colums_22)"
      ]
    },
    {
      "cell_type": "markdown",
      "metadata": {
        "id": "6uRvNOrEq-lu"
      },
      "source": [
        "# Logistic Regression"
      ]
    },
    {
      "cell_type": "markdown",
      "metadata": {
        "id": "QYKXkHsHrC9S"
      },
      "source": [
        "### Genotype"
      ]
    },
    {
      "cell_type": "code",
      "execution_count": 60,
      "metadata": {
        "id": "jO999RgAgeMF"
      },
      "outputs": [],
      "source": [
        "log_regt = LogisticRegression(penalty='elasticnet' , l1_ratio=0.1 , solver='saga' , max_iter=100)\n",
        "log_regt.fit(np.array(x1_new) , np.squeeze(y1_new))\n",
        "log_reg_yt1_pred = log_regt.predict(xt1_new)"
      ]
    },
    {
      "cell_type": "code",
      "execution_count": 61,
      "metadata": {
        "id": "8gGPW31fdmEo"
      },
      "outputs": [],
      "source": [
        "lr_cm_1 = confusion_matrix(yt1,log_reg_yt1_pred)\n",
        "lr_acc_score_1 = accuracy_score(yt1,log_reg_yt1_pred)\n",
        "lr_roc_auc_1 = roc_auc_score(yt1,log_reg_yt1_pred)\n",
        "lr_f1_1 = f1_score(yt1 , log_reg_yt1_pred ,)"
      ]
    },
    {
      "cell_type": "code",
      "execution_count": 62,
      "metadata": {
        "colab": {
          "base_uri": "https://localhost:8080/"
        },
        "id": "a2QaX7yqlTD3",
        "outputId": "f41efd1c-2800-4801-b57a-fb5634564e82"
      },
      "outputs": [
        {
          "output_type": "execute_result",
          "data": {
            "text/plain": [
              "(array([[108,  27],\n",
              "        [ 23,  67]]),\n",
              " 0.7777777777777778,\n",
              " 0.7722222222222223,\n",
              " 0.7282608695652174)"
            ]
          },
          "metadata": {},
          "execution_count": 62
        }
      ],
      "source": [
        "lr_cm_1 , lr_acc_score_1 , lr_roc_auc_1 , lr_f1_1"
      ]
    },
    {
      "cell_type": "markdown",
      "metadata": {
        "id": "km-dBVI0rHqs"
      },
      "source": [
        "### Treatment Behaviour"
      ]
    },
    {
      "cell_type": "code",
      "execution_count": 63,
      "metadata": {
        "id": "9J2PI2P-qgK4"
      },
      "outputs": [],
      "source": [
        "log_regt = LogisticRegression(penalty='elasticnet' , l1_ratio=0.1 , solver='saga' , max_iter=100)\n",
        "log_regt.fit(np.array(x2_new) , np.squeeze(y2_new))\n",
        "log_reg_yt2_pred = log_regt.predict(xt2_new)"
      ]
    },
    {
      "cell_type": "code",
      "execution_count": 64,
      "metadata": {
        "id": "k6D4laRSlsdN"
      },
      "outputs": [],
      "source": [
        "pred_prob = log_regt.predict_proba(xt2_new)"
      ]
    },
    {
      "cell_type": "code",
      "execution_count": 65,
      "metadata": {
        "id": "IjFbPTVtquuO"
      },
      "outputs": [],
      "source": [
        "lr_cm_2 = confusion_matrix(yt2,log_reg_yt2_pred)\n",
        "lr_acc_score_2 = accuracy_score(yt2,log_reg_yt2_pred)\n",
        "lr_f1_2 = f1_score(yt2 , log_reg_yt2_pred , average = 'macro')\n",
        "lr_roc_2 = roc_auc_score(yt2 , pred_prob , multi_class='ovr')"
      ]
    },
    {
      "cell_type": "code",
      "execution_count": 66,
      "metadata": {
        "colab": {
          "base_uri": "https://localhost:8080/"
        },
        "id": "W7SP30GKsG4K",
        "outputId": "091b89f4-578f-4057-ecdb-2fc4944786a6"
      },
      "outputs": [
        {
          "output_type": "execute_result",
          "data": {
            "text/plain": [
              "(array([[50,  0, 10,  0],\n",
              "        [ 0, 56,  0,  4],\n",
              "        [41,  0, 19,  0],\n",
              "        [ 0, 12,  0, 33]]),\n",
              " 0.7022222222222222,\n",
              " 0.6922739991361145,\n",
              " 0.9330274971941638)"
            ]
          },
          "metadata": {},
          "execution_count": 66
        }
      ],
      "source": [
        "lr_cm_2 , lr_acc_score_2 , lr_f1_2 , lr_roc_2"
      ]
    },
    {
      "cell_type": "markdown",
      "metadata": {
        "id": "PnynG-dCrOUb"
      },
      "source": [
        "# Neural Network"
      ]
    },
    {
      "cell_type": "markdown",
      "metadata": {
        "id": "sXNBq9cXrQqE"
      },
      "source": [
        "### Genotype"
      ]
    },
    {
      "cell_type": "code",
      "execution_count": 67,
      "metadata": {
        "id": "eYngCNG7lZ4c"
      },
      "outputs": [],
      "source": [
        "neu_nett = MLPClassifier(alpha=0.001 , hidden_layer_sizes=(15,) , solver='adam' , activation='relu')\n",
        "neu_nett.fit(np.array(x1_new) , np.squeeze(y1_new))\n",
        "neu_nett_yt1_pred = neu_nett.predict(xt1_new)"
      ]
    },
    {
      "cell_type": "code",
      "execution_count": 68,
      "metadata": {
        "id": "hYvTMrGZlvCw"
      },
      "outputs": [],
      "source": [
        "nn_cm_1 = confusion_matrix(yt1,neu_nett_yt1_pred)\n",
        "nn_acc_score_1 = accuracy_score(yt1,neu_nett_yt1_pred)\n",
        "nn_roc_auc_1 = roc_auc_score(yt1,neu_nett_yt1_pred)\n",
        "nn_f1_1 = f1_score(yt1 , neu_nett_yt1_pred)"
      ]
    },
    {
      "cell_type": "code",
      "execution_count": 69,
      "metadata": {
        "colab": {
          "base_uri": "https://localhost:8080/"
        },
        "id": "jkbEyzHAm2Nk",
        "outputId": "1c184c7e-a22b-4695-dcc3-01eec000fd0e"
      },
      "outputs": [
        {
          "output_type": "execute_result",
          "data": {
            "text/plain": [
              "(array([[102,  33],\n",
              "        [ 28,  62]]),\n",
              " 0.7288888888888889,\n",
              " 0.7222222222222222,\n",
              " 0.6702702702702703)"
            ]
          },
          "metadata": {},
          "execution_count": 69
        }
      ],
      "source": [
        "nn_cm_1 , nn_acc_score_1 , nn_roc_auc_1 , nn_f1_1"
      ]
    },
    {
      "cell_type": "markdown",
      "metadata": {
        "id": "h9y9i5CvrWj4"
      },
      "source": [
        "### Treatment Behaviour"
      ]
    },
    {
      "cell_type": "code",
      "execution_count": 70,
      "metadata": {
        "id": "RM3wPYRYp1bl"
      },
      "outputs": [],
      "source": [
        "neu_nett = MLPClassifier(alpha=0.01 , hidden_layer_sizes=(30,) , solver='adam' , activation='relu')\n",
        "neu_nett.fit(np.array(x2_new) , np.squeeze(y2_new))\n",
        "neu_nett_yt2_pred = neu_nett.predict(xt2_new)\n",
        "pred_prob_2 = neu_nett.predict_proba(xt2_new)"
      ]
    },
    {
      "cell_type": "code",
      "execution_count": 71,
      "metadata": {
        "id": "Kkn1cFtfseTe"
      },
      "outputs": [],
      "source": [
        "nn_cm_2 = confusion_matrix(yt2,neu_nett_yt2_pred)\n",
        "nn_acc_score_2 = accuracy_score(yt2,neu_nett_yt2_pred)\n",
        "nn_roc_2 = roc_auc_score(yt2,pred_prob_2 , average='macro' , multi_class='ovr')\n",
        "nn_f1_2 = f1_score(yt2 , neu_nett_yt2_pred , average='macro')"
      ]
    },
    {
      "cell_type": "code",
      "execution_count": 72,
      "metadata": {
        "colab": {
          "base_uri": "https://localhost:8080/"
        },
        "id": "QMJCyj6Rstnw",
        "outputId": "17077216-acfc-4535-e04e-7869834babe5"
      },
      "outputs": [
        {
          "output_type": "execute_result",
          "data": {
            "text/plain": [
              "(array([[54,  0,  6,  0],\n",
              "        [ 0, 51,  2,  7],\n",
              "        [31,  1, 28,  0],\n",
              "        [ 0, 11,  0, 34]]),\n",
              " 0.7422222222222222,\n",
              " 0.9408361391694725,\n",
              " 0.7370317216604404)"
            ]
          },
          "metadata": {},
          "execution_count": 72
        }
      ],
      "source": [
        "nn_cm_2 , nn_acc_score_2 , nn_roc_2 , nn_f1_2"
      ]
    },
    {
      "cell_type": "markdown",
      "metadata": {
        "id": "D1bGHapMrcUZ"
      },
      "source": [
        "# SVC"
      ]
    },
    {
      "cell_type": "markdown",
      "metadata": {
        "id": "ouKdIrV-rgVj"
      },
      "source": [
        "### Genotype"
      ]
    },
    {
      "cell_type": "code",
      "execution_count": 73,
      "metadata": {
        "id": "9ngMXoa0s1sy"
      },
      "outputs": [],
      "source": [
        "svct = svm.SVC(kernel='linear' , degree=2 , C=1 )\n",
        "svct.fit(np.array(x1_new) , np.squeeze(y1_new))\n",
        "svc_yt1_pred = svct.predict(xt1_new)"
      ]
    },
    {
      "cell_type": "code",
      "execution_count": 74,
      "metadata": {
        "id": "hIC86Q4gtuSN"
      },
      "outputs": [],
      "source": [
        "svc_cm_1 = confusion_matrix(yt1,svc_yt1_pred)\n",
        "svc_acc_score_1 = accuracy_score(yt1,svc_yt1_pred)\n",
        "svc_roc_auc_1 = roc_auc_score(yt1,svc_yt1_pred )\n",
        "svc_f1_1 = f1_score(yt1 , svc_yt1_pred )"
      ]
    },
    {
      "cell_type": "code",
      "execution_count": 75,
      "metadata": {
        "colab": {
          "base_uri": "https://localhost:8080/"
        },
        "id": "dWuTw06fuCUs",
        "outputId": "1f5118e7-a0f3-422c-b432-36d026ed329b"
      },
      "outputs": [
        {
          "output_type": "execute_result",
          "data": {
            "text/plain": [
              "(array([[107,  28],\n",
              "        [ 22,  68]]),\n",
              " 0.7777777777777778,\n",
              " 0.7740740740740741,\n",
              " 0.7311827956989247)"
            ]
          },
          "metadata": {},
          "execution_count": 75
        }
      ],
      "source": [
        "svc_cm_1,svc_acc_score_1 , svc_roc_auc_1 , svc_f1_1"
      ]
    },
    {
      "cell_type": "markdown",
      "metadata": {
        "id": "ZyBmvAnKrl8c"
      },
      "source": [
        "### Treatment Behaviour"
      ]
    },
    {
      "cell_type": "code",
      "execution_count": 76,
      "metadata": {
        "id": "fFMwpg4puJ9-"
      },
      "outputs": [],
      "source": [
        "svct = svm.SVC(kernel='linear' , degree=3 , probability=True , C = 1)\n",
        "svct.fit(np.array(x2_new) , np.squeeze(y2_new))\n",
        "svc_yt2_pred = svct.predict(xt2_new)\n",
        "pred_prob_3 = svct.predict_proba(xt2_new)"
      ]
    },
    {
      "cell_type": "code",
      "execution_count": 77,
      "metadata": {
        "id": "X0pGpIggwJ5P"
      },
      "outputs": [],
      "source": [
        "svc_cm_2 = confusion_matrix(yt2,neu_nett_yt2_pred)\n",
        "svc_acc_score_2 = accuracy_score(yt2,neu_nett_yt2_pred)\n",
        "svc_roc_2 = roc_auc_score(yt2,pred_prob_3 , multi_class='ovr' )\n",
        "svc_f1_2 = f1_score(yt2 , neu_nett_yt2_pred , average='macro')"
      ]
    },
    {
      "cell_type": "code",
      "execution_count": 78,
      "metadata": {
        "colab": {
          "base_uri": "https://localhost:8080/"
        },
        "id": "0kXeSBacwVv1",
        "outputId": "f1b9e547-d748-4bb4-fbf1-d65ddc147748"
      },
      "outputs": [
        {
          "output_type": "execute_result",
          "data": {
            "text/plain": [
              "(array([[107,  28],\n",
              "        [ 22,  68]]),\n",
              " 0.7777777777777778,\n",
              " 0.7311827956989247,\n",
              " 0.9198569023569023)"
            ]
          },
          "metadata": {},
          "execution_count": 78
        }
      ],
      "source": [
        "svc_cm_1 , svc_acc_score_1 , svc_f1_1 , svc_roc_2"
      ]
    },
    {
      "cell_type": "markdown",
      "metadata": {
        "id": "0apNgTTz4-Wn"
      },
      "source": [
        "# Random Forest"
      ]
    },
    {
      "cell_type": "markdown",
      "metadata": {
        "id": "DKQnV-Wj5BlM"
      },
      "source": [
        "### Genotype"
      ]
    },
    {
      "cell_type": "code",
      "execution_count": 79,
      "metadata": {
        "id": "HUZQ_07awrSW"
      },
      "outputs": [],
      "source": [
        "rft = RandomForestClassifier(max_depth = 8 , max_features = 'auto' , n_estimators= 50 )\n",
        "rft.fit(np.array(x1_new) , np.squeeze(y1_new))\n",
        "yt1_pred = rft.predict(xt1_new)"
      ]
    },
    {
      "cell_type": "code",
      "execution_count": 80,
      "metadata": {
        "id": "X19a1Vj68bSD"
      },
      "outputs": [],
      "source": [
        "rft_cm_1 = confusion_matrix(yt1 , yt1_pred)\n",
        "rft_acc_score_1 = accuracy_score(yt1 , yt1_pred)\n",
        "rft_roc_1 = roc_auc_score(yt1 , yt1_pred)\n",
        "rft_f1_1 = f1_score(yt1 , yt1_pred)"
      ]
    },
    {
      "cell_type": "code",
      "execution_count": 81,
      "metadata": {
        "colab": {
          "base_uri": "https://localhost:8080/"
        },
        "id": "Xo4g_TZu9bnY",
        "outputId": "fc175599-7053-4218-8f57-726568a7ee01"
      },
      "outputs": [
        {
          "output_type": "execute_result",
          "data": {
            "text/plain": [
              "(array([[109,  26],\n",
              "        [ 32,  58]]),\n",
              " 0.7422222222222222,\n",
              " 0.7259259259259259,\n",
              " 0.6666666666666666)"
            ]
          },
          "metadata": {},
          "execution_count": 81
        }
      ],
      "source": [
        "rft_cm_1 , rft_acc_score_1 , rft_roc_1 , rft_f1_1"
      ]
    },
    {
      "cell_type": "markdown",
      "metadata": {
        "id": "0iRxkWaX-gyC"
      },
      "source": [
        "### Treatment Behaviour"
      ]
    },
    {
      "cell_type": "code",
      "execution_count": 82,
      "metadata": {
        "id": "fpg3mjQK-AEN"
      },
      "outputs": [],
      "source": [
        "rft = RandomForestClassifier(max_depth = 8 , max_features = 'auto' , n_estimators= 1150 )\n",
        "rft.fit(np.array(x2_new) , np.squeeze(y2_new))\n",
        "yt2_pred = rft.predict(xt2_new)\n",
        "pred_prob_4 = rft.predict_proba(xt2_new)"
      ]
    },
    {
      "cell_type": "code",
      "execution_count": 83,
      "metadata": {
        "id": "EWHjYbAH_F6G"
      },
      "outputs": [],
      "source": [
        "rft_cm_2 = confusion_matrix(yt2 , yt2_pred)\n",
        "rft_acc_score_2 = accuracy_score(yt2 , yt2_pred)\n",
        "rft_roc_2 = roc_auc_score(yt2 , pred_prob_4 , multi_class='ovr' , average='macro')\n",
        "rft_f1_2 = f1_score(yt2 , yt2_pred , average='macro')"
      ]
    },
    {
      "cell_type": "code",
      "execution_count": 84,
      "metadata": {
        "colab": {
          "base_uri": "https://localhost:8080/"
        },
        "id": "NbnZPbJW_XaV",
        "outputId": "037b1475-c8dd-4f7c-cadf-7aa925fe2222"
      },
      "outputs": [
        {
          "output_type": "execute_result",
          "data": {
            "text/plain": [
              "(array([[39,  0, 21,  0],\n",
              "        [ 0, 51,  0,  9],\n",
              "        [27,  0, 33,  0],\n",
              "        [ 0, 15,  0, 30]]), 0.68, 0.8998484848484848, 0.6804511278195489)"
            ]
          },
          "metadata": {},
          "execution_count": 84
        }
      ],
      "source": [
        "rft_cm_2 , rft_acc_score_2 , rft_roc_2 , rft_f1_2"
      ]
    },
    {
      "cell_type": "markdown",
      "source": [
        "# 9.Write your observations and thoughts\n",
        "1.We started our analysis by exploratory data analysis i.e. imputing and scaling, then we removed the correlated variables.\n",
        "\n",
        "2.After that we calculated reasonable hyper-parameters for various models for binary and multi-class classification.\n",
        "\n",
        "3.After this we checked our model's accuracy after feature selection and we found that for all the models accuracy has increased after feature selection\n",
        "\n",
        "4.Finally we tested our two of the models (i.e. Neural network and SVM) on test data and it provided pretty good accuracy (more than 80%) for both binary and multi-class classification\n",
        "\n"
      ],
      "metadata": {
        "id": "rOLJ0yufstJ1"
      }
    },
    {
      "cell_type": "markdown",
      "source": [
        "**Conclusion:**\n",
        "While dealing with data it's necessarry to remove undesirable and also replace missing variable and our final accuracy depends totally on the hyper-parameters\n",
        "and error matrices we are choosing for our model therefore we need to be very cautious while selecting them for our model"
      ],
      "metadata": {
        "id": "kKdzDtz-uSHK"
      }
    }
  ],
  "metadata": {
    "colab": {
      "collapsed_sections": [
        "Bj-cdQiz2D0q",
        "uYy5sgtB6KfN",
        "0vI5wJHb6EZS",
        "5KCZ8EdKafQ1",
        "6uRvNOrEq-lu",
        "PnynG-dCrOUb",
        "sXNBq9cXrQqE",
        "D1bGHapMrcUZ",
        "ouKdIrV-rgVj",
        "ZyBmvAnKrl8c",
        "0apNgTTz4-Wn",
        "DKQnV-Wj5BlM"
      ],
      "name": "Predicting Down Syndrome treatment on mice.ipynb",
      "provenance": []
    },
    "kernelspec": {
      "display_name": "Python 3",
      "name": "python3"
    },
    "language_info": {
      "name": "python"
    }
  },
  "nbformat": 4,
  "nbformat_minor": 0
}